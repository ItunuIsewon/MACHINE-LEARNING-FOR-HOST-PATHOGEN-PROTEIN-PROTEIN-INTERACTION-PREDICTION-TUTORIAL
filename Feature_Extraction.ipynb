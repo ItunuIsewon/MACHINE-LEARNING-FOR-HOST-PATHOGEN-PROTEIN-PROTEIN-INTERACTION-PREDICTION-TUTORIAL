{
  "cells": [
    {
      "cell_type": "markdown",
      "metadata": {
        "id": "view-in-github",
        "colab_type": "text"
      },
      "source": [
        "<a href=\"https://colab.research.google.com/github/ItunuIsewon/Machine_learning_for_host_pathogen_protein-protein_interaction_prediction_Tutorial/blob/main/Feature_Extraction.ipynb\" target=\"_parent\"><img src=\"https://colab.research.google.com/assets/colab-badge.svg\" alt=\"Open In Colab\"/></a>"
      ]
    },
    {
      "cell_type": "markdown",
      "metadata": {
        "id": "lmeukmrVzmr9"
      },
      "source": [
        "#FEATURE EXTRACTION FOR HP-PPI PREDICTION\n",
        "Feature extraction involves transforming protein sequences- which are strings of amino acid-  into numerical vector that machine learining models can understand. This transformation is essential because ML algorithms cannot directly process strings but rather  require numberical input. during this transformation, the varying enth of raw sequnces are converted into consistent length numerical representations that capture the biolocal properties of the protein.\n",
        "\n",
        "Several feature extraction methods have been develpoed to achieve this. these descriptors can be used individually or in combination to represent protein equences. While combining multiple featurees may enhance the predictive performace of ML models, it increases computation time and memory usage. Also, high dimensional feature vectors can lead to overfitting and incusion of redundant and irrelevant features. Each descriptor has different dimensional vectors and different computing time. Descriptors with high number of features take longer to compute.\n",
        "\n",
        "\n",
        "In this tutorial, we will be using the iFeature package, a widely used Python-based toolkit for sequnce feature extraction. iFeature  offers a wide range of descriptors and is user-friendy.\n",
        "\n",
        "In this notebook, we will demostrate how to use iFeature to:\n",
        "* Extract features from host and pathogen protein sequences,\n",
        "* Use desciptors both individually and in combination and\n",
        "* Prepare the data for machine learning model training.\n",
        "\n"
      ]
    },
    {
      "cell_type": "markdown",
      "metadata": {
        "id": "k5sLaOw0ms4E"
      },
      "source": [
        "**Step 1: Install and import necessary packages**"
      ]
    },
    {
      "cell_type": "code",
      "execution_count": null,
      "metadata": {
        "id": "7wP9CFeYTRBp"
      },
      "outputs": [],
      "source": [
        "!pip install tqdm\n"
      ]
    },
    {
      "cell_type": "code",
      "execution_count": null,
      "metadata": {
        "id": "uAWfiWefpY_S"
      },
      "outputs": [],
      "source": [
        "!git clone https://github.com/Superzchen/iFeature.git\n"
      ]
    },
    {
      "cell_type": "code",
      "execution_count": null,
      "metadata": {
        "id": "IKR6xqI2I2JS"
      },
      "outputs": [],
      "source": [
        "#Mounting Google Drive to access files\n",
        "import os\n",
        "from google.colab import drive\n",
        "drive.mount ('/content/my_drive')\n",
        "\n",
        "#import pandas for data manipulation\n",
        "import pandas as pd\n",
        "\n",
        "from tqdm.notebook import tqdm\n",
        "\n",
        "\n"
      ]
    },
    {
      "cell_type": "markdown",
      "metadata": {
        "id": "hnB9kQzKpsb4"
      },
      "source": [
        "**Step 2: Load your dataset.**\n",
        "\n",
        "For this notebook, we created a new folder named Features in the HPI folder. We also moved the merged HPI dataset into this folder for feature extraction."
      ]
    },
    {
      "cell_type": "code",
      "execution_count": null,
      "metadata": {
        "colab": {
          "base_uri": "https://localhost:8080/",
          "height": 226
        },
        "id": "K6pT6Y_zZceA",
        "outputId": "cb1d8dc1-137d-45f8-db90-1863f93c6fc2"
      },
      "outputs": [
        {
          "output_type": "execute_result",
          "data": {
            "text/plain": [
              "                                       host_sequence  \\\n",
              "0  MKIITYFCIWAVAWAIPVPQSKPLERHVEKSMNLHLLARSNVSVQD...   \n",
              "1  MPGSLPLNAEACWPKDVGIVALEIYFPSQYVDQAELEKYDGVDAGK...   \n",
              "2  MTRRCMPARPGFPSSPAPGSSPPRCHLRPGSTAHAAAGKRTESPGD...   \n",
              "3  MSGARCRTLYPFSGERHGQGLRFAAGELITLLQVPDGGWWEGEKED...   \n",
              "4  MPAESGKRFKPSKYVPVSAAAIFLVGATTLFFAFTCPGLSLYVSPA...   \n",
              "\n",
              "                                   pathogen_sequence  label  \n",
              "0  MYEANILLVDDETAILQLLTTILEKEGFSHITTATSAEMALSLTQQ...      0  \n",
              "1  MKTVVIKRDGCQVPFDEVRIKEAVERAALAVGVVDADYCATVARVV...      1  \n",
              "2  MQRKKGAYAPVFYPAIVIAAILSLLGVLVPVAFANNIDIIQNLILE...      0  \n",
              "3  MLLHLSIKNFAIIKSTEIDFREGMTVLTGETGAGKSILLDALSFVL...      1  \n",
              "4  MSDTSTDLQNGFDFAGLAASMALAAKNNEFTMATAAFIGMLNEPVK...      1  "
            ],
            "text/html": [
              "\n",
              "  <div id=\"df-241f7327-14c3-4c4b-9568-82d435398577\" class=\"colab-df-container\">\n",
              "    <div>\n",
              "<style scoped>\n",
              "    .dataframe tbody tr th:only-of-type {\n",
              "        vertical-align: middle;\n",
              "    }\n",
              "\n",
              "    .dataframe tbody tr th {\n",
              "        vertical-align: top;\n",
              "    }\n",
              "\n",
              "    .dataframe thead th {\n",
              "        text-align: right;\n",
              "    }\n",
              "</style>\n",
              "<table border=\"1\" class=\"dataframe\">\n",
              "  <thead>\n",
              "    <tr style=\"text-align: right;\">\n",
              "      <th></th>\n",
              "      <th>host_sequence</th>\n",
              "      <th>pathogen_sequence</th>\n",
              "      <th>label</th>\n",
              "    </tr>\n",
              "  </thead>\n",
              "  <tbody>\n",
              "    <tr>\n",
              "      <th>0</th>\n",
              "      <td>MKIITYFCIWAVAWAIPVPQSKPLERHVEKSMNLHLLARSNVSVQD...</td>\n",
              "      <td>MYEANILLVDDETAILQLLTTILEKEGFSHITTATSAEMALSLTQQ...</td>\n",
              "      <td>0</td>\n",
              "    </tr>\n",
              "    <tr>\n",
              "      <th>1</th>\n",
              "      <td>MPGSLPLNAEACWPKDVGIVALEIYFPSQYVDQAELEKYDGVDAGK...</td>\n",
              "      <td>MKTVVIKRDGCQVPFDEVRIKEAVERAALAVGVVDADYCATVARVV...</td>\n",
              "      <td>1</td>\n",
              "    </tr>\n",
              "    <tr>\n",
              "      <th>2</th>\n",
              "      <td>MTRRCMPARPGFPSSPAPGSSPPRCHLRPGSTAHAAAGKRTESPGD...</td>\n",
              "      <td>MQRKKGAYAPVFYPAIVIAAILSLLGVLVPVAFANNIDIIQNLILE...</td>\n",
              "      <td>0</td>\n",
              "    </tr>\n",
              "    <tr>\n",
              "      <th>3</th>\n",
              "      <td>MSGARCRTLYPFSGERHGQGLRFAAGELITLLQVPDGGWWEGEKED...</td>\n",
              "      <td>MLLHLSIKNFAIIKSTEIDFREGMTVLTGETGAGKSILLDALSFVL...</td>\n",
              "      <td>1</td>\n",
              "    </tr>\n",
              "    <tr>\n",
              "      <th>4</th>\n",
              "      <td>MPAESGKRFKPSKYVPVSAAAIFLVGATTLFFAFTCPGLSLYVSPA...</td>\n",
              "      <td>MSDTSTDLQNGFDFAGLAASMALAAKNNEFTMATAAFIGMLNEPVK...</td>\n",
              "      <td>1</td>\n",
              "    </tr>\n",
              "  </tbody>\n",
              "</table>\n",
              "</div>\n",
              "    <div class=\"colab-df-buttons\">\n",
              "\n",
              "  <div class=\"colab-df-container\">\n",
              "    <button class=\"colab-df-convert\" onclick=\"convertToInteractive('df-241f7327-14c3-4c4b-9568-82d435398577')\"\n",
              "            title=\"Convert this dataframe to an interactive table.\"\n",
              "            style=\"display:none;\">\n",
              "\n",
              "  <svg xmlns=\"http://www.w3.org/2000/svg\" height=\"24px\" viewBox=\"0 -960 960 960\">\n",
              "    <path d=\"M120-120v-720h720v720H120Zm60-500h600v-160H180v160Zm220 220h160v-160H400v160Zm0 220h160v-160H400v160ZM180-400h160v-160H180v160Zm440 0h160v-160H620v160ZM180-180h160v-160H180v160Zm440 0h160v-160H620v160Z\"/>\n",
              "  </svg>\n",
              "    </button>\n",
              "\n",
              "  <style>\n",
              "    .colab-df-container {\n",
              "      display:flex;\n",
              "      gap: 12px;\n",
              "    }\n",
              "\n",
              "    .colab-df-convert {\n",
              "      background-color: #E8F0FE;\n",
              "      border: none;\n",
              "      border-radius: 50%;\n",
              "      cursor: pointer;\n",
              "      display: none;\n",
              "      fill: #1967D2;\n",
              "      height: 32px;\n",
              "      padding: 0 0 0 0;\n",
              "      width: 32px;\n",
              "    }\n",
              "\n",
              "    .colab-df-convert:hover {\n",
              "      background-color: #E2EBFA;\n",
              "      box-shadow: 0px 1px 2px rgba(60, 64, 67, 0.3), 0px 1px 3px 1px rgba(60, 64, 67, 0.15);\n",
              "      fill: #174EA6;\n",
              "    }\n",
              "\n",
              "    .colab-df-buttons div {\n",
              "      margin-bottom: 4px;\n",
              "    }\n",
              "\n",
              "    [theme=dark] .colab-df-convert {\n",
              "      background-color: #3B4455;\n",
              "      fill: #D2E3FC;\n",
              "    }\n",
              "\n",
              "    [theme=dark] .colab-df-convert:hover {\n",
              "      background-color: #434B5C;\n",
              "      box-shadow: 0px 1px 3px 1px rgba(0, 0, 0, 0.15);\n",
              "      filter: drop-shadow(0px 1px 2px rgba(0, 0, 0, 0.3));\n",
              "      fill: #FFFFFF;\n",
              "    }\n",
              "  </style>\n",
              "\n",
              "    <script>\n",
              "      const buttonEl =\n",
              "        document.querySelector('#df-241f7327-14c3-4c4b-9568-82d435398577 button.colab-df-convert');\n",
              "      buttonEl.style.display =\n",
              "        google.colab.kernel.accessAllowed ? 'block' : 'none';\n",
              "\n",
              "      async function convertToInteractive(key) {\n",
              "        const element = document.querySelector('#df-241f7327-14c3-4c4b-9568-82d435398577');\n",
              "        const dataTable =\n",
              "          await google.colab.kernel.invokeFunction('convertToInteractive',\n",
              "                                                    [key], {});\n",
              "        if (!dataTable) return;\n",
              "\n",
              "        const docLinkHtml = 'Like what you see? Visit the ' +\n",
              "          '<a target=\"_blank\" href=https://colab.research.google.com/notebooks/data_table.ipynb>data table notebook</a>'\n",
              "          + ' to learn more about interactive tables.';\n",
              "        element.innerHTML = '';\n",
              "        dataTable['output_type'] = 'display_data';\n",
              "        await google.colab.output.renderOutput(dataTable, element);\n",
              "        const docLink = document.createElement('div');\n",
              "        docLink.innerHTML = docLinkHtml;\n",
              "        element.appendChild(docLink);\n",
              "      }\n",
              "    </script>\n",
              "  </div>\n",
              "\n",
              "\n",
              "    <div id=\"df-8e979d76-8cdf-439d-914b-0c16bc12a3f8\">\n",
              "      <button class=\"colab-df-quickchart\" onclick=\"quickchart('df-8e979d76-8cdf-439d-914b-0c16bc12a3f8')\"\n",
              "                title=\"Suggest charts\"\n",
              "                style=\"display:none;\">\n",
              "\n",
              "<svg xmlns=\"http://www.w3.org/2000/svg\" height=\"24px\"viewBox=\"0 0 24 24\"\n",
              "     width=\"24px\">\n",
              "    <g>\n",
              "        <path d=\"M19 3H5c-1.1 0-2 .9-2 2v14c0 1.1.9 2 2 2h14c1.1 0 2-.9 2-2V5c0-1.1-.9-2-2-2zM9 17H7v-7h2v7zm4 0h-2V7h2v10zm4 0h-2v-4h2v4z\"/>\n",
              "    </g>\n",
              "</svg>\n",
              "      </button>\n",
              "\n",
              "<style>\n",
              "  .colab-df-quickchart {\n",
              "      --bg-color: #E8F0FE;\n",
              "      --fill-color: #1967D2;\n",
              "      --hover-bg-color: #E2EBFA;\n",
              "      --hover-fill-color: #174EA6;\n",
              "      --disabled-fill-color: #AAA;\n",
              "      --disabled-bg-color: #DDD;\n",
              "  }\n",
              "\n",
              "  [theme=dark] .colab-df-quickchart {\n",
              "      --bg-color: #3B4455;\n",
              "      --fill-color: #D2E3FC;\n",
              "      --hover-bg-color: #434B5C;\n",
              "      --hover-fill-color: #FFFFFF;\n",
              "      --disabled-bg-color: #3B4455;\n",
              "      --disabled-fill-color: #666;\n",
              "  }\n",
              "\n",
              "  .colab-df-quickchart {\n",
              "    background-color: var(--bg-color);\n",
              "    border: none;\n",
              "    border-radius: 50%;\n",
              "    cursor: pointer;\n",
              "    display: none;\n",
              "    fill: var(--fill-color);\n",
              "    height: 32px;\n",
              "    padding: 0;\n",
              "    width: 32px;\n",
              "  }\n",
              "\n",
              "  .colab-df-quickchart:hover {\n",
              "    background-color: var(--hover-bg-color);\n",
              "    box-shadow: 0 1px 2px rgba(60, 64, 67, 0.3), 0 1px 3px 1px rgba(60, 64, 67, 0.15);\n",
              "    fill: var(--button-hover-fill-color);\n",
              "  }\n",
              "\n",
              "  .colab-df-quickchart-complete:disabled,\n",
              "  .colab-df-quickchart-complete:disabled:hover {\n",
              "    background-color: var(--disabled-bg-color);\n",
              "    fill: var(--disabled-fill-color);\n",
              "    box-shadow: none;\n",
              "  }\n",
              "\n",
              "  .colab-df-spinner {\n",
              "    border: 2px solid var(--fill-color);\n",
              "    border-color: transparent;\n",
              "    border-bottom-color: var(--fill-color);\n",
              "    animation:\n",
              "      spin 1s steps(1) infinite;\n",
              "  }\n",
              "\n",
              "  @keyframes spin {\n",
              "    0% {\n",
              "      border-color: transparent;\n",
              "      border-bottom-color: var(--fill-color);\n",
              "      border-left-color: var(--fill-color);\n",
              "    }\n",
              "    20% {\n",
              "      border-color: transparent;\n",
              "      border-left-color: var(--fill-color);\n",
              "      border-top-color: var(--fill-color);\n",
              "    }\n",
              "    30% {\n",
              "      border-color: transparent;\n",
              "      border-left-color: var(--fill-color);\n",
              "      border-top-color: var(--fill-color);\n",
              "      border-right-color: var(--fill-color);\n",
              "    }\n",
              "    40% {\n",
              "      border-color: transparent;\n",
              "      border-right-color: var(--fill-color);\n",
              "      border-top-color: var(--fill-color);\n",
              "    }\n",
              "    60% {\n",
              "      border-color: transparent;\n",
              "      border-right-color: var(--fill-color);\n",
              "    }\n",
              "    80% {\n",
              "      border-color: transparent;\n",
              "      border-right-color: var(--fill-color);\n",
              "      border-bottom-color: var(--fill-color);\n",
              "    }\n",
              "    90% {\n",
              "      border-color: transparent;\n",
              "      border-bottom-color: var(--fill-color);\n",
              "    }\n",
              "  }\n",
              "</style>\n",
              "\n",
              "      <script>\n",
              "        async function quickchart(key) {\n",
              "          const quickchartButtonEl =\n",
              "            document.querySelector('#' + key + ' button');\n",
              "          quickchartButtonEl.disabled = true;  // To prevent multiple clicks.\n",
              "          quickchartButtonEl.classList.add('colab-df-spinner');\n",
              "          try {\n",
              "            const charts = await google.colab.kernel.invokeFunction(\n",
              "                'suggestCharts', [key], {});\n",
              "          } catch (error) {\n",
              "            console.error('Error during call to suggestCharts:', error);\n",
              "          }\n",
              "          quickchartButtonEl.classList.remove('colab-df-spinner');\n",
              "          quickchartButtonEl.classList.add('colab-df-quickchart-complete');\n",
              "        }\n",
              "        (() => {\n",
              "          let quickchartButtonEl =\n",
              "            document.querySelector('#df-8e979d76-8cdf-439d-914b-0c16bc12a3f8 button');\n",
              "          quickchartButtonEl.style.display =\n",
              "            google.colab.kernel.accessAllowed ? 'block' : 'none';\n",
              "        })();\n",
              "      </script>\n",
              "    </div>\n",
              "\n",
              "    </div>\n",
              "  </div>\n"
            ],
            "application/vnd.google.colaboratory.intrinsic+json": {
              "type": "dataframe",
              "variable_name": "df",
              "summary": "{\n  \"name\": \"df\",\n  \"rows\": 8894,\n  \"fields\": [\n    {\n      \"column\": \"host_sequence\",\n      \"properties\": {\n        \"dtype\": \"string\",\n        \"num_unique_values\": 5714,\n        \"samples\": [\n          \"MESAAALHFSRPASLLLLLLSLCALVSAQFIVVGPTDPILATVGENTTLRCHLSPEKNAEDMEVRWFRSQFSPAVFVYKGGRERTEEQMEEYRGRTTFVSKDISRGSVALVIHNITAQENGTYRCYFQEGRSYDEAILHLVVAGLGSKPLISMRGHEDGGIRLECISRGWYPKPLTVWRDPYGGVAPALKEVSMPDADGLFMVTTAVIIRDKSVRNMSCSINNTLLGQKKESVIFIPESFMPSVSPCAVALPIIVVILMIPIAVCIYWINKLQKEKKILSGEKEFERETREIALKELEKERVQKEEELQVKEKLQEELRWRRTFLHAGPV\",\n          \"MAEREVESGPRKRFEQKSGAVFDEIVENCGGIMDTEMSEDIDHNLTPTLDSMSYGMPNQTGSENSLLDEDDYFLNSGDLAGIPVVGSDNEDEQDFSSKDNLVSSIHTDDSLEVERRVTQHESDNENEIQIQNKLKKDFPKQFDQVSVFKSIRKDFSLVRENSKETFSGKEKNRDLTYEREKRLDKPHKDLDSRLKSSFFDKAANQVEETLHTHLPQTPETNFRDSSYPFANKESIGSELGNSFASNIRIKEEPLDDEYDKAMAPQQGLLDKIKDEPDNAQEYSHGQQQKTQEGELKISAVFSVSGSPLAPQLTTGFQPSLASSGMNKMLPSVPATAVRVSCSGCKKILQKGQTAYQRKGSTQLFCSTLCLTGYTVPPARPPPPLTKKTCSSCSKDILNPKDVISAQFENTTTSKDFCSQSCLSTYELKKKPIVTINTNSISTKCSMCQKNAVIRHEVNYQNVVHKLCSDACFSKFRSANNLTMNCCENCGGYCYSGSGQCHMLQIEGQSKKFCSSSCITAYKQKSAKITPCALCKSLRSSAEMIENTNSLGKTELFCSVNCLSAYRVKMVTSAGVQVQCNSCKTSAIPQYHLAMSDGSIRNFCSYSCVVAFQNLFNKPTGMNSSVVPLSQGQVIVSIPTGSTVSAGGGSTSAVSPTSISSSAAAGLQRLAAQSQHVGFARSVVKLKCQHCNRLFATKPELLDYKGKMFQFCGKNCSDEYKKINNVMAMCEYCKIEKIVKETVRFSGADKSFCSEGCKLLYKHDLAKRWGNHCKMCSYCLQTSPKLVQNNLGGKVEEFCCEECMSKYTVLFYQMAKCDACKRQGKLSESLKWRGEMKHFCNLLCILMFCNQQSVCDPPSQNNAANISMVQAASAGPPSLRKDSTPVIANVVSLASAPAAQPTVNSNSVLQGAVPTVTAKIIGDASTQTDALKLPPSQPPRLLKNKALLCKPITQTKATSCKPHTQNKECQTEDTPSQPQIIVVPVPVPVFVPIPLHLYTQYAPVPFGIPVPMPVPMLIPSSMDSEDKVTESIEDIKEKLPTHPFEADLLEMAEMIAEDEEKKTLSQGESQTSEHELFLDTKIFEKDQGSTYSGDLESEAVSTPHSWEEELNHYALKSNAVQEADSELKQFSKGETEQDLEADFPSDSFDPLNKGQGIQARSRTRRRHRDGFPQPRRRGRKKSIVAVEPRSLIQGAFQGCSVSGMTLKYMYGVNAWKNWVQWKNAKEEQGDLKCGGVEQASSSPRSDPLGSTQDHALSQESSEPGCRVRSIKLKEDILSCTFAELSLGLCQFIQEVRRPNGEKYDPDSILYLCLGIQQYLFENGRIDNIFTEPYSRFMIELTKLLKIWEPTILPNGYMFSRIEEEHLWECKQLGAYSPIVLLNTLLFFNTKYFQLKNVTEHLKLSFAHVMRRTRTLKYSTKMTYLRFFPPLQKQESEPDKLTVGKRKRNEDDEVPVGVEMAENTDNPLRCPVRLYEFYLSKCSESVKQRNDVFYLQPERSCVPNSPMWYSTFPIDPGTLDTMLTRILMVREVHEELAKAKSEDSDVELSD\",\n          \"MRLLWGLIWASSFFTLSLQKPRLLLFSPSVVHLGVPLSVGVQLQDVPRGQVVKGSVFLRNPSRNNVPCSPKVDFTLSSERDFALLSLQVPLKDAKSCGLHQLLRGPEVQLVAHSPWLKDSLSRTTNIQGINLLFSSRRGHLFLQTDQPIYNPGQRVRYRVFALDQKMRPSTDTITVMVENSHGLRVRKKEVYMPSSIFQDDFVIPDISEPGTWKISARFSDGLESNSSTQFEVKKYVLPNFEVKITPGKPYILTVPGHLDEMQLDIQARYIYGKPVQGVAYVRFGLLDEDGKKTFFRGLESQTKLVNGQSHISLSKAEFQDALEKLNMGITDLQGLRLYVAAAIIESPGGEMEEAELTSWYFVSSPFSLDLSKTKRHLVPGAPFLLQALVREMSGSPASGIPVKVSATVSSPGSVPEVQDIQQNTDGSGQVSIPIIIPQTISELQLSVSAGSPHPAIARLTVAAPPSGGPGFLSIERPDSRPPRVGDTLNLNLRAVGSGATFSHYYYMILSRGQIVFMNREPKRTLTSVSVFVDHHLAPSFYFVAFYYHGDHPVANSLRVDVQAGACEGKLELSVDGAKQYRNGESVKLHLETDSLALVALGALDTALYAAGSKSHKPLNMGKVFEAMNSYDLGCGPGGGDSALQVFQAAGLAFSDGDQWTLSRKRLSCPKEKTTRKKRNVNFQKAINEKLGQYASPTAKRCCQDGVTRLPMMRSCEQRAARVQQPDCREPFLSCCQFAESLRKKSRDKGQAGLQRALEILQEEDLIDEDDIPVRSFFPENWLWRVETVDRFQILTLWLPDSLTTWEIHGLSLSKTKGLCVATPVQLRVFREFHLHLRLPMSVRRFEQLELRPVLYNYLDKNLTVSVHVSPVEGLCLAGGGGLAQQVLVPAGSARPVAFSVVPTAAAAVSLKVVARGSFEFPVGDAVSKVLQIEKEGAIHREELVYELNPLDHRGRTLEIPGNSDPNMIPDGDFNSYVRVTASDPLDTLGSEGALSPGGVASLLRLPRGCGEQTMIYLAPTLAASRYLDKTEQWSTLPPETKDHAVDLIQKGYMRIQQFRKADGSYAAWLSRDSSTWLTAFVLKVLSLAQEQVGGSPEKLQETSNWLLSQQQADGSFQDPCPVLDRSMQGGLVGNDETVALTAFVTIALHHGLAVFQDEGAEPLKQRVEASISKANSFLGEKASAGLLGAHAAAITAYALTLTKAPVDLLGVAHNNLMAMAQETGDNLYWGSVTGSQSNAVSPTPAPRNPSDPMPQAPALWIETTAYALLHLLLHEGKAEMADQASAWLTRQGSFQGGFRSTQDTVIALDALSAYWIASHTTEERGLNVTLSSTGRNGFKSHALQLNNRQIRGLEEELQFSLGSKINVKVGGNSKGTLKVLRTYNVLDMKNTTCQDLQIEVTVKGHVEYTMEANEDYEDYEYDELPAKDDPDAPLQPVTPLQLFEGRRNRRRREAPKLTSLSDRYVSHFETEGPHVLLYFDSVPTSRECVGFEAVQEVPVGLVQPASATLYDYYNPERRCSVFYGAPSKSRLLATLCSAEVCQCAEGKCPRQRRALERGLQDEDGYRMKFACYYPRVEYGFQVKVLREDSRAAFRLFETKITQVLHFTKDVKAAANQMRNFLVRASCRLRLEPGKEYLIMGLDGATYDLEGHPQYLLDSNSWIEEMPSERLCRSTRQRAACAQLNDFLQEYGTQGCQV\"\n        ],\n        \"semantic_type\": \"\",\n        \"description\": \"\"\n      }\n    },\n    {\n      \"column\": \"pathogen_sequence\",\n      \"properties\": {\n        \"dtype\": \"category\",\n        \"num_unique_values\": 4409,\n        \"samples\": [\n          \"MQRTQVVANWYRESDEFSTLVNYRILRAGHIRAADNFHVRRQSVAGHELIFCLNGSGFIRLENNLHEVKKGNLAWLPVRWPHEHFPNKQEPWEILWLRIDGAKLNNIMQILDVAQQPVFEFTSPETITDIYHRLFDLMQSHTLVADAHCDVLCSQLIYTLLENRSFDATKSPVISHRGLGRLIYQIHSHYNDDWDIDKFMQYCQVSKSQLFRLFQETFNQSPLRWLKNYRLSQARRLLVETEETISRIAGLVGYNDPLHFSRDFHRSVGLSPSDFRRQERQLDNDRHD\",\n          \"MTRVIVISNLRLAQAFVDYMATHHVALEIRPDAQGVEIWLADDEQLSAVQHELEQFLLDPLNPRYQAASWQAGNVNSNLPYQRFSYLQTLRSQAGPLTLSVMVLCIAIYILMLITGDMAVMSWLAWPYNSSQYLQIWRWVSHAFLHFSLLHILFNLMWWWYLGGQMEKRLGTSKLLVLTIVSAVFSGWGQSLFSGANFGGLSGVVYALMGYVWLTGERAPERGISLPRGLMAFSVLWLIAGYFDILGLSIANAAHVSGLIIGLLMAFWDTRNSARTVQ\",\n          \"MFENLTDRLSRTLRNISGRGRLTEENIKETLREVRMALLEADVALPVVRDFINRVKERAVGHEVNKSLTPGQEFVKIVKNELISAMGEVNNELNLAAQPPAVVLMAGLQGAGKTTSVAKLGKFLKEKQKKKVLVVSADVYRPAAIKQLETLAQGVGIDFFPSDAQEKPIDIVNRALQQAKLKFYDVLIVDTAGRLHVDEAMMDEIKQVHAAIKPVETLFVVDAMTGQDAANTAKAFNEALPLTGVVLTKVDGDARGGAALSIRHITGKPIKFLGVGEKSDALEPFHPDRIASRILGMGDVLSLIEDIESKVDRAQAEKLATKLKKGDGFDLNDFLDQLKQMRNMGGMASMLSKMPGAGQLPENVKSQMDDKVTVRMEAIINSMTLKERAKPEIIKGSRKRRIATGSGVQVQDVNRLLKQFDEMQRMMKKMKNGGLAKMMRGMKGMMPPGFPGR\"\n        ],\n        \"semantic_type\": \"\",\n        \"description\": \"\"\n      }\n    },\n    {\n      \"column\": \"label\",\n      \"properties\": {\n        \"dtype\": \"number\",\n        \"std\": 0,\n        \"min\": 0,\n        \"max\": 1,\n        \"num_unique_values\": 2,\n        \"samples\": [\n          1,\n          0\n        ],\n        \"semantic_type\": \"\",\n        \"description\": \"\"\n      }\n    }\n  ]\n}"
            }
          },
          "metadata": {},
          "execution_count": 3
        }
      ],
      "source": [
        "file_path = '/content/my_drive/My Drive/HPI/Features'\n",
        "HPIdata = file_path + \"/merged_hpi_dataset.csv\"\n",
        "df = pd.read_csv(HPIdata)\n",
        "\n",
        "# Preview data\n",
        "df.head()"
      ]
    },
    {
      "cell_type": "code",
      "execution_count": null,
      "metadata": {
        "colab": {
          "base_uri": "https://localhost:8080/"
        },
        "id": "5Vb643w5M16X",
        "outputId": "ac14150c-2bed-4146-834d-89bdd56d869a"
      },
      "outputs": [
        {
          "data": {
            "text/plain": [
              "8894"
            ]
          },
          "execution_count": 4,
          "metadata": {},
          "output_type": "execute_result"
        }
      ],
      "source": [
        "len(df)"
      ]
    },
    {
      "cell_type": "markdown",
      "metadata": {
        "id": "hOYhNF2uqL2u"
      },
      "source": [
        "**Step 3: Generate FASTA file for host and pathogen proten sequence**\n",
        "\n",
        "\n",
        "\n",
        "\n",
        "In this step, we will assign unique ids to each interacting pair and generate corresponding FASTA files for their sequences. These identifiers maintain the pairing structure for feature extraction."
      ]
    },
    {
      "cell_type": "code",
      "execution_count": null,
      "metadata": {
        "id": "xfqkLgIcqLRM"
      },
      "outputs": [],
      "source": [
        "\n",
        "with open(\"host.fasta\", \"w\") as host_f, open(\"pathogen.fasta\", \"w\") as patho_f:\n",
        "    for i, row in tqdm(df.iterrows(), total=len(df), desc=\"Writing FASTA\"):\n",
        "        host_f.write(f\">H{i+1}\\n{row['host_sequence']}\\n\")\n",
        "        patho_f.write(f\">P{i+1}\\n{row['pathogen_sequence']}\\n\")\n"
      ]
    },
    {
      "cell_type": "markdown",
      "metadata": {
        "id": "diC6nwAEsYsK"
      },
      "source": [
        "**Step 4:  Run ifeature for feature extraction**\n",
        "\n",
        "For each protein pair, iFeature generates numerical vector for the host protein and the pathogen protein. These feature vectors are first generated separately and then concatenated to represent the host-pathogen pair.\n",
        "\n",
        "Thus, if a descriptor generates n-features, the final feature vector will be 2n i.e. (n-host + n-pathogen)."
      ]
    },
    {
      "cell_type": "markdown",
      "metadata": {
        "id": "nXKNYSvmJVVS"
      },
      "source": [
        "##AMINO ACID COMPOSITION"
      ]
    },
    {
      "cell_type": "markdown",
      "metadata": {
        "id": "75mtvVV-JcA9"
      },
      "source": [
        "###Amino acid composition (AAC)\n",
        "20 Features\n"
      ]
    },
    {
      "cell_type": "code",
      "execution_count": null,
      "metadata": {
        "id": "yEBkBZYUse42"
      },
      "outputs": [],
      "source": [
        "# Amino acid compposition\n",
        "#for host sequences\n",
        "!python3 iFeature/iFeature.py --file host.fasta --type AAC --out host_aac.tsv\n",
        "\n",
        "\n",
        "#for pathogen sequences\n",
        "!python3 iFeature/iFeature.py --file pathogen.fasta --type AAC --out pathogen_aac.tsv\n"
      ]
    },
    {
      "cell_type": "markdown",
      "metadata": {
        "id": "BV7d0nxis1eQ"
      },
      "source": [
        "**Step 5: Merge the extracted features**"
      ]
    },
    {
      "cell_type": "code",
      "execution_count": null,
      "metadata": {
        "id": "WztiISoysvqk"
      },
      "outputs": [],
      "source": [
        "host_feat = pd.read_csv(\"host_aac.tsv\", sep=\"\\t\").set_index(\"#\")\n",
        "patho_feat = pd.read_csv(\"pathogen_aac.tsv\", sep=\"\\t\").set_index(\"#\")\n",
        "\n",
        "\n",
        "# Add prefixes to column names\n",
        "host_feat.columns = [\"H_\" + col for col in host_feat.columns]\n",
        "patho_feat.columns = [\"P_\" + col for col in patho_feat.columns]\n",
        "\n",
        "\n",
        "# Concatenate by row order\n",
        "combined_features = pd.concat(\n",
        "    [host_feat.reset_index(drop=True), patho_feat.reset_index(drop=True)], axis=1\n",
        ")\n",
        "\n",
        "#Add the label column\n",
        "combined_features[\"label\"] = df[\"label\"]\n",
        "\n",
        "\n",
        "# Save to CSV\n",
        "combined_features.to_csv(file_path + \"/aac_features.csv\", index=False)\n",
        "\n",
        "print(\"Final shape:\", combined_features.shape)\n",
        "print(\"Saved as 'aac_features.csv'\")\n",
        "combined_features.head()\n",
        "\n",
        "\n"
      ]
    },
    {
      "cell_type": "markdown",
      "metadata": {
        "id": "SL9H49JxwxVM"
      },
      "source": [
        "###Composition of K-Spaced Amino Acid Pairs (CKSAAP)\n",
        "2400 Features"
      ]
    },
    {
      "cell_type": "code",
      "execution_count": null,
      "metadata": {
        "id": "Cvl5mSCsRDR5"
      },
      "outputs": [],
      "source": [
        "!python3 iFeature/codes/CKSAAP.py host.fasta 2 host_cksaap.tsv\n",
        "!python3 iFeature/codes/CKSAAP.py pathogen.fasta 2 pathogen_cksaap.tsv"
      ]
    },
    {
      "cell_type": "code",
      "execution_count": null,
      "metadata": {
        "id": "edgoeF4pc2k-"
      },
      "outputs": [],
      "source": [
        "host_feat = pd.read_csv(\"host_cksaap.tsv\", sep=\"\\t\").set_index(\"#\")\n",
        "patho_feat = pd.read_csv(\"pathogen_cksaap.tsv\", sep=\"\\t\").set_index(\"#\")\n",
        "\n",
        "\n",
        "# Add prefixes to column names\n",
        "host_feat.columns = [\"H_\" + col for col in host_feat.columns]\n",
        "patho_feat.columns = [\"P_\" + col for col in patho_feat.columns]\n",
        "\n",
        "\n",
        "# Concatenate by row order\n",
        "combined_features = pd.concat(\n",
        "    [host_feat.reset_index(drop=True), patho_feat.reset_index(drop=True)], axis=1\n",
        ")\n",
        "\n",
        "\n",
        "#Add the label column\n",
        "combined_features[\"label\"] = df[\"label\"]\n",
        "\n",
        "\n",
        "# Save to CSV\n",
        "combined_features.to_csv(file_path + \"/cksaap_features.csv\", index=False)\n",
        "\n",
        "print(\"Final shape:\", combined_features.shape)\n",
        "print(\"Saved as 'cksaap_features.csv'\")\n",
        "combined_features.head()\n"
      ]
    },
    {
      "cell_type": "markdown",
      "metadata": {
        "id": "F666DNXogDxK"
      },
      "source": [
        "###Dipeptide Composition (DPC)\n",
        "400 Features"
      ]
    },
    {
      "cell_type": "code",
      "execution_count": null,
      "metadata": {
        "id": "wQBgshtagdBT"
      },
      "outputs": [],
      "source": [
        "# Dipeptide composition\n",
        "!python3 iFeature/iFeature.py --file host.fasta --type DPC --out host_dpc.tsv\n",
        "!python3 iFeature/iFeature.py --file pathogen.fasta --type DPC --out pathogen_dpc.tsv\n"
      ]
    },
    {
      "cell_type": "code",
      "execution_count": null,
      "metadata": {
        "id": "YvV3GBqygi8S"
      },
      "outputs": [],
      "source": [
        "host_feat = pd.read_csv(\"host_dpc.tsv\", sep=\"\\t\").set_index(\"#\")\n",
        "patho_feat = pd.read_csv(\"pathogen_dpc.tsv\", sep=\"\\t\").set_index(\"#\")\n",
        "\n",
        "\n",
        "# Add prefixes to column names\n",
        "host_feat.columns = [\"H_\" + col for col in host_feat.columns]\n",
        "patho_feat.columns = [\"P_\" + col for col in patho_feat.columns]\n",
        "\n",
        "\n",
        "# Concatenate by row order\n",
        "combined_features = pd.concat(\n",
        "    [host_feat.reset_index(drop=True), patho_feat.reset_index(drop=True)], axis=1\n",
        ")\n",
        "\n",
        "\n",
        "#Add the label column\n",
        "combined_features[\"label\"] = df[\"label\"]\n",
        "\n",
        "\n",
        "# Save to CSV\n",
        "combined_features.to_csv(file_path + \"/dpc_features.csv\", index=False)\n",
        "\n",
        "print(\"Final shape:\", combined_features.shape)\n",
        "print(\"Saved as 'dpc.csv'\")\n",
        "combined_features.head()\n"
      ]
    },
    {
      "cell_type": "markdown",
      "metadata": {
        "id": "jPr0va7Ykzkp"
      },
      "source": [
        "###Dipeptide deviation from expected mean (DDE)\n",
        "400 Features"
      ]
    },
    {
      "cell_type": "code",
      "execution_count": null,
      "metadata": {
        "id": "L-uq9bn1kzJc"
      },
      "outputs": [],
      "source": [
        "# Host DDE\n",
        "!python3 iFeature/iFeature.py --file host.fasta --type DDE --out host_dde.tsv\n",
        "\n",
        "# Pathogen DDE\n",
        "!python3 iFeature/iFeature.py --file pathogen.fasta --type DDE --out pathogen_dde.tsv\n"
      ]
    },
    {
      "cell_type": "code",
      "execution_count": null,
      "metadata": {
        "id": "fmIcOsMqkzD_"
      },
      "outputs": [],
      "source": [
        "host_feat = pd.read_csv(\"host_dde.tsv\", sep=\"\\t\").set_index(\"#\")\n",
        "patho_feat = pd.read_csv(\"pathogen_dde.tsv\", sep=\"\\t\").set_index(\"#\")\n",
        "\n",
        "\n",
        "# Add prefixes to column names\n",
        "host_feat.columns = [\"H_\" + col for col in host_feat.columns]\n",
        "patho_feat.columns = [\"P_\" + col for col in patho_feat.columns]\n",
        "\n",
        "\n",
        "# Concatenate by row order\n",
        "combined_features = pd.concat(\n",
        "    [host_feat.reset_index(drop=True), patho_feat.reset_index(drop=True)], axis=1\n",
        ")\n",
        "\n",
        "\n",
        "#Add the label column\n",
        "combined_features[\"label\"] = df[\"label\"]\n",
        "\n",
        "\n",
        "# Save to CSV\n",
        "combined_features.to_csv(file_path + \"/dde_features.csv\", index=False)\n",
        "\n",
        "print(\"Final shape:\", combined_features.shape)\n",
        "print(\"Saved as 'dde.csv'\")\n",
        "combined_features.head()\n"
      ]
    },
    {
      "cell_type": "markdown",
      "metadata": {
        "id": "Yc4d0VXqlxg9"
      },
      "source": [
        "###Tripeptide composition (TPC)\n",
        "8000 Features (Due to the high dimensionality of this descriptor, TPC takes significantly longer time to compute)"
      ]
    },
    {
      "cell_type": "code",
      "execution_count": null,
      "metadata": {
        "id": "uqMcbzIGky-1"
      },
      "outputs": [],
      "source": [
        "# Host TPC\n",
        "!python3 iFeature/iFeature.py --file host.fasta --type TPC --out host_tpc.tsv\n",
        "\n",
        "# Pathogen TPC\n",
        "!python3 iFeature/iFeature.py --file pathogen.fasta --type TPC --out pathogen_tpc.tsv\n"
      ]
    },
    {
      "cell_type": "markdown",
      "metadata": {
        "id": "F6jzX3UmsjVw"
      },
      "source": [
        "###Combined AAC, DPC, and DDE"
      ]
    },
    {
      "cell_type": "code",
      "execution_count": null,
      "metadata": {
        "id": "zkYwLhvusiHL"
      },
      "outputs": [],
      "source": [
        "import pandas as pd\n",
        "\n",
        "# --- Load and set index ---\n",
        "# Host\n",
        "host_aac = pd.read_csv(\"host_aac.tsv\", sep=\"\\t\").set_index(\"#\")\n",
        "host_dpc = pd.read_csv(\"host_dpc.tsv\", sep=\"\\t\").set_index(\"#\")\n",
        "host_dde = pd.read_csv(\"host_dde.tsv\", sep=\"\\t\").set_index(\"#\")\n",
        "\n",
        "# Pathogen\n",
        "patho_aac = pd.read_csv(\"pathogen_aac.tsv\", sep=\"\\t\").set_index(\"#\")\n",
        "patho_dpc = pd.read_csv(\"pathogen_dpc.tsv\", sep=\"\\t\").set_index(\"#\")\n",
        "patho_dde = pd.read_csv(\"pathogen_dde.tsv\", sep=\"\\t\").set_index(\"#\")\n",
        "\n",
        "# --- Prefix column names for clarity ---\n",
        "host_aac.columns = [\"H_AAC_\" + col for col in host_aac.columns]\n",
        "host_dpc.columns = [\"H_DPC_\" + col for col in host_dpc.columns]\n",
        "host_dde.columns = [\"H_DDE_\" + col for col in host_dde.columns]\n",
        "\n",
        "patho_aac.columns = [\"P_AAC_\" + col for col in patho_aac.columns]\n",
        "patho_dpc.columns = [\"P_DPC_\" + col for col in patho_dpc.columns]\n",
        "patho_dde.columns = [\"P_DDE_\" + col for col in patho_dde.columns]\n",
        "\n",
        "# --- Concatenate features ---\n",
        "host_combined = pd.concat([host_aac, host_dpc, host_dde], axis=1).reset_index(drop=True)\n",
        "patho_combined = pd.concat([patho_aac, patho_dpc, patho_dde], axis=1).reset_index(drop=True)\n",
        "\n",
        "# Final combined feature matrix\n",
        "combined_features = pd.concat([host_combined, patho_combined], axis=1)\n",
        "\n",
        "#Add the label column\n",
        "combined_features[\"label\"] = df[\"label\"]\n",
        "\n",
        "\n",
        "#save as csv\n",
        "combined_features.to_csv(file_path + \"/aac_dpc_dde_features.csv\", index=False)\n",
        "\n",
        "print(\"Final shape:\", combined_features.shape)\n",
        "print(\"Saved as 'aac_dpc_dde_features.csv'\")\n",
        "combined_features\n"
      ]
    },
    {
      "cell_type": "markdown",
      "metadata": {
        "id": "fCchJ8Bb5j90"
      },
      "source": [
        "###Combined AAC + CKSAAP"
      ]
    },
    {
      "cell_type": "code",
      "execution_count": null,
      "metadata": {
        "id": "lwiNH0Ck5qAW"
      },
      "outputs": [],
      "source": [
        "import pandas as pd\n",
        "\n",
        "# --- Load and set index ---\n",
        "# Host\n",
        "host_aac = pd.read_csv(\"host_aac.tsv\", sep=\"\\t\").set_index(\"#\")\n",
        "host_cksaap = pd.read_csv(\"host_cksaap.tsv\", sep=\"\\t\").set_index(\"#\")\n",
        "\n",
        "\n",
        "# Pathogen\n",
        "patho_aac = pd.read_csv(\"pathogen_aac.tsv\", sep=\"\\t\").set_index(\"#\")\n",
        "patho_cksaap = pd.read_csv(\"pathogen_cksaap.tsv\", sep=\"\\t\").set_index(\"#\")\n",
        "\n",
        "# --- Prefix column names for clarity ---\n",
        "host_aac.columns = [\"H_AAC_\" + col for col in host_aac.columns]\n",
        "host_cksaap.columns = [\"H_CKSAAP_\" + col for col in host_cksaap.columns]\n",
        "\n",
        "\n",
        "patho_aac.columns = [\"P_AAC_\" + col for col in patho_aac.columns]\n",
        "patho_cksaap.columns = [\"P_CKSAAP_\" + col for col in patho_cksaap.columns]\n",
        "\n",
        "# --- Concatenate features ---\n",
        "host_combined = pd.concat([host_aac, host_cksaap], axis=1).reset_index(drop=True)\n",
        "patho_combined = pd.concat([patho_aac, patho_cksaap], axis=1).reset_index(drop=True)\n",
        "\n",
        "# Final combined feature matrix\n",
        "combined_features = pd.concat([host_combined, patho_combined], axis=1)\n",
        "\n",
        "#Add the label column\n",
        "combined_features[\"label\"] = df[\"label\"]\n",
        "\n",
        "\n",
        "#save as csv\n",
        "combined_features.to_csv(file_path + \"/aac_cksaap_features.csv\", index=False)\n",
        "\n",
        "print(\"Final shape:\", combined_features.shape)\n",
        "print(\"Saved as 'aac_cksaap_features.csv'\")\n",
        "\n"
      ]
    },
    {
      "cell_type": "markdown",
      "metadata": {
        "id": "0yNyqQT1sRyr"
      },
      "source": [
        "##GROUPED AMINO ACID COMPOSITION"
      ]
    },
    {
      "cell_type": "markdown",
      "metadata": {
        "id": "-SQgs-q6saRN"
      },
      "source": [
        "###Grouped amino acid composition (GAAC)\n",
        "5 Features"
      ]
    },
    {
      "cell_type": "code",
      "execution_count": null,
      "metadata": {
        "id": "rQ32q-hKskp0"
      },
      "outputs": [],
      "source": [
        "# For Host proteins\n",
        "!python3 iFeature/iFeature.py --file host.fasta --type GAAC --out host_gaac.tsv\n",
        "\n",
        "# For Pathogen proteins\n",
        "!python3 iFeature/iFeature.py --file pathogen.fasta --type GAAC --out pathogen_gaac.tsv\n"
      ]
    },
    {
      "cell_type": "code",
      "execution_count": null,
      "metadata": {
        "id": "SJOh72C0skAg"
      },
      "outputs": [],
      "source": [
        "host_feat = pd.read_csv(\"host_gaac.tsv\", sep=\"\\t\").set_index(\"#\")\n",
        "patho_feat = pd.read_csv(\"pathogen_gaac.tsv\", sep=\"\\t\").set_index(\"#\")\n",
        "\n",
        "\n",
        "# Add prefixes to column names\n",
        "host_feat.columns = [\"H_\" + col for col in host_feat.columns]\n",
        "patho_feat.columns = [\"P_\" + col for col in patho_feat.columns]\n",
        "\n",
        "\n",
        "# Concatenate by row order\n",
        "combined_features = pd.concat(\n",
        "    [host_feat.reset_index(drop=True), patho_feat.reset_index(drop=True)], axis=1\n",
        ")\n",
        "\n",
        "\n",
        "#Add the label column\n",
        "combined_features[\"label\"] = df[\"label\"]\n",
        "\n",
        "\n",
        "# Save to CSV\n",
        "combined_features.to_csv(file_path + \"/gaac_features.csv\", index=False)\n",
        "\n",
        "print(\"Final shape:\", combined_features.shape)\n",
        "print(\"Saved as 'gaac_features.csv'\")\n"
      ]
    },
    {
      "cell_type": "markdown",
      "metadata": {
        "id": "Caax5skGslnQ"
      },
      "source": [
        "###Composition of k-spaced amino acid group pairs (CKSAAGP)\n",
        "150 Features"
      ]
    },
    {
      "cell_type": "code",
      "execution_count": null,
      "metadata": {
        "id": "WUdyUCwwstKF"
      },
      "outputs": [],
      "source": [
        "#  Host\n",
        "!python3 iFeature/iFeature.py --file host.fasta --type CKSAAGP --out host_cksaagp.tsv\n",
        "\n",
        "#  Pathogen\n",
        "!python3 iFeature/iFeature.py --file pathogen.fasta --type CKSAAGP --out pathogen_cksaagp.tsv\n"
      ]
    },
    {
      "cell_type": "code",
      "execution_count": null,
      "metadata": {
        "id": "BEb1LHPSs5sO"
      },
      "outputs": [],
      "source": [
        "host_feat = pd.read_csv(\"host_cksaagp.tsv\", sep=\"\\t\").set_index(\"#\")\n",
        "patho_feat = pd.read_csv(\"pathogen_cksaagp.tsv\", sep=\"\\t\").set_index(\"#\")\n",
        "\n",
        "\n",
        "# Add prefixes to column names\n",
        "host_feat.columns = [\"H_\" + col for col in host_feat.columns]\n",
        "patho_feat.columns = [\"P_\" + col for col in patho_feat.columns]\n",
        "\n",
        "\n",
        "# Concatenate by row order\n",
        "combined_features = pd.concat(\n",
        "    [host_feat.reset_index(drop=True), patho_feat.reset_index(drop=True)], axis=1\n",
        ")\n",
        "\n",
        "\n",
        "#Add the label column\n",
        "combined_features[\"label\"] = df[\"label\"]\n",
        "\n",
        "\n",
        "# Save to CSV\n",
        "combined_features.to_csv(file_path + \"/cksaagp_features.csv\", index=False)\n",
        "\n",
        "print(\"Final shape:\", combined_features.shape)\n",
        "print(\"Saved as 'cksaagp_features.csv'\")\n"
      ]
    },
    {
      "cell_type": "markdown",
      "metadata": {
        "id": "MwrugRBtsuL3"
      },
      "source": [
        "###Grouped dipeptide composition (GDPC)\n",
        "25 Features"
      ]
    },
    {
      "cell_type": "code",
      "execution_count": null,
      "metadata": {
        "id": "2LLQJW0MsttG"
      },
      "outputs": [],
      "source": [
        "# For Host\n",
        "!python3 iFeature/iFeature.py --file host.fasta --type GDPC --out host_gdpc.tsv\n",
        "\n",
        "# For Pathogen\n",
        "!python3 iFeature/iFeature.py --file pathogen.fasta --type GDPC --out pathogen_gdpc.tsv\n"
      ]
    },
    {
      "cell_type": "code",
      "execution_count": null,
      "metadata": {
        "id": "jKkb38MUs7oZ"
      },
      "outputs": [],
      "source": [
        "host_feat = pd.read_csv(\"host_gdpc.tsv\", sep=\"\\t\").set_index(\"#\")\n",
        "patho_feat = pd.read_csv(\"pathogen_gdpc.tsv\", sep=\"\\t\").set_index(\"#\")\n",
        "\n",
        "\n",
        "# Add prefixes to column names\n",
        "host_feat.columns = [\"H_\" + col for col in host_feat.columns]\n",
        "patho_feat.columns = [\"P_\" + col for col in patho_feat.columns]\n",
        "\n",
        "\n",
        "# Concatenate by row order\n",
        "combined_features = pd.concat(\n",
        "    [host_feat.reset_index(drop=True), patho_feat.reset_index(drop=True)], axis=1\n",
        ")\n",
        "\n",
        "\n",
        "#Add the label column\n",
        "combined_features[\"label\"] = df[\"label\"]\n",
        "\n",
        "\n",
        "# Save to CSV\n",
        "combined_features.to_csv(file_path + \"/gdpc_features.csv\", index=False)\n",
        "\n",
        "print(\"Final shape:\", combined_features.shape)\n",
        "print(\"Saved as 'gdpc_features.csv'\")"
      ]
    },
    {
      "cell_type": "markdown",
      "metadata": {
        "id": "pVBwHXiTs63_"
      },
      "source": [
        "###Grouped tripeptide composition (GTPC)\n",
        "125 Features"
      ]
    },
    {
      "cell_type": "code",
      "execution_count": null,
      "metadata": {
        "id": "8DNN_Vpys6dI"
      },
      "outputs": [],
      "source": [
        "# For Host\n",
        "!python3 iFeature/iFeature.py --file host.fasta --type GTPC --out host_gtpc.tsv\n",
        "\n",
        "# For Pathogen\n",
        "!python3 iFeature/iFeature.py --file pathogen.fasta --type GTPC --out pathogen_gtpc.tsv\n"
      ]
    },
    {
      "cell_type": "code",
      "execution_count": null,
      "metadata": {
        "id": "_f9lqYG6tGkj"
      },
      "outputs": [],
      "source": [
        "host_feat = pd.read_csv(\"host_gtpc.tsv\", sep=\"\\t\").set_index(\"#\")\n",
        "patho_feat = pd.read_csv(\"pathogen_gtpc.tsv\", sep=\"\\t\").set_index(\"#\")\n",
        "\n",
        "\n",
        "# Add prefixes to column names\n",
        "host_feat.columns = [\"H_\" + col for col in host_feat.columns]\n",
        "patho_feat.columns = [\"P_\" + col for col in patho_feat.columns]\n",
        "\n",
        "\n",
        "# Concatenate by row order\n",
        "combined_features = pd.concat(\n",
        "    [host_feat.reset_index(drop=True), patho_feat.reset_index(drop=True)], axis=1\n",
        ")\n",
        "\n",
        "\n",
        "#Add the label column\n",
        "combined_features[\"label\"] = df[\"label\"]\n",
        "\n",
        "\n",
        "# Save to CSV\n",
        "combined_features.to_csv(file_path + \"/gtpc_features.csv\", index=False)\n",
        "\n",
        "print(\"Final shape:\", combined_features.shape)\n",
        "print(\"Saved as 'gtpc_features.csv'\")"
      ]
    },
    {
      "cell_type": "markdown",
      "metadata": {
        "id": "u0QH8WKH1RS-"
      },
      "source": [
        "###Combined GAAC, CKSAAGP, GDPC and GTPC"
      ]
    },
    {
      "cell_type": "code",
      "execution_count": null,
      "metadata": {
        "id": "ad0peXnh1Zxn"
      },
      "outputs": [],
      "source": [
        "import pandas as pd\n",
        "\n",
        "# Load all 4 descriptors for Host\n",
        "host_gaac     = pd.read_csv(\"host_gaac.tsv\", sep=\"\\t\").set_index(\"#\")\n",
        "host_cksaagp  = pd.read_csv(\"host_cksaagp.tsv\", sep=\"\\t\").set_index(\"#\")\n",
        "host_gdpc     = pd.read_csv(\"host_gdpc.tsv\", sep=\"\\t\").set_index(\"#\")\n",
        "host_gtpc     = pd.read_csv(\"host_gtpc.tsv\", sep=\"\\t\").set_index(\"#\")\n",
        "\n",
        "# Load all 4 descriptors for Pathogen\n",
        "patho_gaac    = pd.read_csv(\"pathogen_gaac.tsv\", sep=\"\\t\").set_index(\"#\")\n",
        "patho_cksaagp = pd.read_csv(\"pathogen_cksaagp.tsv\", sep=\"\\t\").set_index(\"#\")\n",
        "patho_gdpc    = pd.read_csv(\"pathogen_gdpc.tsv\", sep=\"\\t\").set_index(\"#\")\n",
        "patho_gtpc    = pd.read_csv(\"pathogen_gtpc.tsv\", sep=\"\\t\").set_index(\"#\")\n",
        "\n",
        "# Combine all host features\n",
        "host_feat = pd.concat([host_gaac, host_cksaagp, host_gdpc, host_gtpc], axis=1)\n",
        "\n",
        "# Combine all pathogen features\n",
        "patho_feat = pd.concat([patho_gaac, patho_cksaagp, patho_gdpc, patho_gtpc], axis=1)\n",
        "\n",
        "# Reset index for alignment\n",
        "host_feat = host_feat.reset_index(drop=True)\n",
        "patho_feat = patho_feat.reset_index(drop=True)\n",
        "\n",
        "# Combine host and pathogen features side-by-side\n",
        "combined_features = pd.concat([host_feat, patho_feat], axis=1)\n",
        "\n",
        "# Add labels (assumes your original dataframe with labels is named df)\n",
        "combined_features[\"label\"] = df[\"label\"]\n",
        "\n",
        "# Save final feature set\n",
        "combined_features.to_csv(file_path + \"/combined_gaac_cksaagp_gdpc_gtpc.csv\", index=False)\n",
        "\n",
        "# Output shape\n",
        "print(\"Final shape:\", combined_features.shape)\n",
        "print(\"Saved as: combined_gaac_cksaagp_gdpc_gtpc.csv\")\n"
      ]
    },
    {
      "cell_type": "markdown",
      "metadata": {
        "id": "9Fi6CyGuFY7A"
      },
      "source": [
        "##AUTOCORRELATION"
      ]
    },
    {
      "cell_type": "markdown",
      "metadata": {
        "id": "-2RgRlTByfHq"
      },
      "source": [
        "###Moran Autocorrelation\n",
        "240 Features"
      ]
    },
    {
      "cell_type": "code",
      "execution_count": null,
      "metadata": {
        "colab": {
          "background_save": true
        },
        "id": "V7RsNDvrky6E"
      },
      "outputs": [],
      "source": [
        "# Host Moran\n",
        "!python3 iFeature/iFeature.py --file host.fasta --type Moran --out host_moran.tsv\n",
        "\n",
        "\n",
        "# Pathogen Moran\n",
        "!python3 iFeature/iFeature.py --file pathogen.fasta --type Moran --out pathogen_moran.tsv"
      ]
    },
    {
      "cell_type": "code",
      "execution_count": null,
      "metadata": {
        "id": "qJsOBFSKIjt8"
      },
      "outputs": [],
      "source": [
        "host_feat = pd.read_csv(\"host_moran.tsv\", sep=\"\\t\").set_index(\"#\")\n",
        "patho_feat = pd.read_csv(\"pathogen_moran.tsv\", sep=\"\\t\").set_index(\"#\")\n",
        "\n",
        "\n",
        "# Add prefixes to column names\n",
        "host_feat.columns = [\"H_\" + col for col in host_feat.columns]\n",
        "patho_feat.columns = [\"P_\" + col for col in patho_feat.columns]\n",
        "\n",
        "\n",
        "# Concatenate by row order\n",
        "combined_features = pd.concat(\n",
        "    [host_feat.reset_index(drop=True), patho_feat.reset_index(drop=True)], axis=1\n",
        ")\n",
        "\n",
        "\n",
        "#Add the label column\n",
        "combined_features[\"label\"] = df[\"label\"]\n",
        "\n",
        "\n",
        "# Save to CSV\n",
        "combined_features.to_csv(file_path + \"/moran_features.csv\", index=False)\n",
        "\n",
        "print(\"Final shape:\", combined_features.shape)\n",
        "print(\"Saved as 'moran.csv'\")"
      ]
    },
    {
      "cell_type": "markdown",
      "metadata": {
        "id": "AH5A868sIwzC"
      },
      "source": [
        "###Geary Autocorrelation\n",
        "240 Features"
      ]
    },
    {
      "cell_type": "code",
      "execution_count": null,
      "metadata": {
        "id": "HJf04MxFI9Dl"
      },
      "outputs": [],
      "source": [
        "# Host Geary\n",
        "!python3 iFeature/iFeature.py --file host.fasta --type Geary --out host_geary.tsv\n",
        "\n",
        "\n",
        "# Pathogen Geary\n",
        "!python3 iFeature/iFeature.py --file pathogen.fasta --type Geary --out pathogen_geary.tsv"
      ]
    },
    {
      "cell_type": "code",
      "execution_count": null,
      "metadata": {
        "id": "Lrkhwl2YJN52"
      },
      "outputs": [],
      "source": [
        "host_feat = pd.read_csv(\"host_geary.tsv\", sep=\"\\t\").set_index(\"#\")\n",
        "patho_feat = pd.read_csv(\"pathogen_geary.tsv\", sep=\"\\t\").set_index(\"#\")\n",
        "\n",
        "\n",
        "# Add prefixes to column names\n",
        "host_feat.columns = [\"H_\" + col for col in host_feat.columns]\n",
        "patho_feat.columns = [\"P_\" + col for col in patho_feat.columns]\n",
        "\n",
        "\n",
        "# Concatenate by row order\n",
        "combined_features = pd.concat(\n",
        "    [host_feat.reset_index(drop=True), patho_feat.reset_index(drop=True)], axis=1\n",
        ")\n",
        "\n",
        "\n",
        "#Add the label column\n",
        "combined_features[\"label\"] = df[\"label\"]\n",
        "\n",
        "\n",
        "# Save to CSV\n",
        "combined_features.to_csv(file_path + \"/geary_features.csv\", index=False)\n",
        "\n",
        "print(\"Final shape:\", combined_features.shape)\n",
        "print(\"Saved as 'geary.csv'\")"
      ]
    },
    {
      "cell_type": "markdown",
      "metadata": {
        "id": "MtUoDY8UJo6c"
      },
      "source": [
        "###Moreau-Broto Autocorrelation\n",
        "240 Features"
      ]
    },
    {
      "cell_type": "code",
      "execution_count": null,
      "metadata": {
        "id": "oGWP_Z59JtOA"
      },
      "outputs": [],
      "source": [
        "\n",
        "# Host Moreau-Broto\n",
        "!python3 iFeature/iFeature.py --file host.fasta --type NMBroto --out host_nmbroto.tsv\n",
        "\n",
        "\n",
        "# Pathogen Moreau-Broto\n",
        "!python3 iFeature/iFeature.py --file pathogen.fasta --type NMBroto --out pathogen_nmbroto.tsv"
      ]
    },
    {
      "cell_type": "code",
      "execution_count": null,
      "metadata": {
        "id": "ICalTtrrJ_GY"
      },
      "outputs": [],
      "source": [
        "host_feat = pd.read_csv(\"host_nmbroto.tsv\", sep=\"\\t\").set_index(\"#\")\n",
        "patho_feat = pd.read_csv(\"pathogen_nmbroto.tsv\", sep=\"\\t\").set_index(\"#\")\n",
        "\n",
        "\n",
        "# Add prefixes to column names\n",
        "host_feat.columns = [\"H_\" + col for col in host_feat.columns]\n",
        "patho_feat.columns = [\"P_\" + col for col in patho_feat.columns]\n",
        "\n",
        "\n",
        "# Concatenate by row order\n",
        "combined_features = pd.concat(\n",
        "    [host_feat.reset_index(drop=True), patho_feat.reset_index(drop=True)], axis=1\n",
        ")\n",
        "\n",
        "\n",
        "#Add the label column\n",
        "combined_features[\"label\"] = df[\"label\"]\n",
        "\n",
        "\n",
        "# Save to CSV\n",
        "combined_features.to_csv(file_path + \"/nmbroto_features.csv\", index=False)\n",
        "\n",
        "print(\"Final shape:\", combined_features.shape)\n",
        "print(\"Saved as 'nmbroto.csv'\")"
      ]
    },
    {
      "cell_type": "markdown",
      "metadata": {
        "id": "7523WmD8Lzem"
      },
      "source": [
        "###Combined Autocorrelation"
      ]
    },
    {
      "cell_type": "code",
      "execution_count": null,
      "metadata": {
        "id": "x36PHIH-L4fA"
      },
      "outputs": [],
      "source": [
        "import pandas as pd\n",
        "\n",
        "# --- Load host features ---\n",
        "host_moran = pd.read_csv(\"host_moran.tsv\", sep=\"\\t\").set_index(\"#\")\n",
        "host_geary = pd.read_csv(\"host_geary.tsv\", sep=\"\\t\").set_index(\"#\")\n",
        "host_moreau = pd.read_csv(\"host_nmbroto.tsv\", sep=\"\\t\").set_index(\"#\")\n",
        "\n",
        "# --- Load pathogen features ---\n",
        "patho_moran = pd.read_csv(\"pathogen_moran.tsv\", sep=\"\\t\").set_index(\"#\")\n",
        "patho_geary = pd.read_csv(\"pathogen_geary.tsv\", sep=\"\\t\").set_index(\"#\")\n",
        "patho_moreau = pd.read_csv(\"pathogen_nmbroto.tsv\", sep=\"\\t\").set_index(\"#\")\n",
        "\n",
        "# --- Add prefixes for clarity ---\n",
        "host_moran.columns = [\"H_Moran_\" + col for col in host_moran.columns]\n",
        "host_geary.columns = [\"H_Geary_\" + col for col in host_geary.columns]\n",
        "host_moreau.columns = [\"H_MB_\" + col for col in host_moreau.columns]\n",
        "\n",
        "patho_moran.columns = [\"P_Moran_\" + col for col in patho_moran.columns]\n",
        "patho_geary.columns = [\"P_Geary_\" + col for col in patho_geary.columns]\n",
        "patho_moreau.columns = [\"P_MB_\" + col for col in patho_moreau.columns]\n",
        "\n",
        "# --- Combine features ---\n",
        "host_combined = pd.concat([host_moran, host_geary, host_moreau], axis=1).reset_index(drop=True)\n",
        "patho_combined = pd.concat([patho_moran, patho_geary, patho_moreau], axis=1).reset_index(drop=True)\n",
        "\n",
        "# --- Combine host and pathogen into one feature matrix ---\n",
        "combined_features = pd.concat([host_combined, patho_combined], axis=1)\n",
        "\n",
        "\n",
        "#Add the label column\n",
        "combined_features[\"label\"] = df[\"label\"]\n",
        "\n",
        "\n",
        "#save as csv\n",
        "combined_features.to_csv(file_path + \"/autocorrelation_features.csv\", index=False)\n",
        "\n",
        "print(\"Final shape:\", combined_features.shape)\n",
        "print(\"Saved as 'autocorrelation_features.csv'\")\n",
        "combined_features\n",
        "\n",
        "\n",
        "\n"
      ]
    },
    {
      "cell_type": "markdown",
      "metadata": {
        "id": "WII0iedL2DF8"
      },
      "source": [
        "##QUASI SEQUENCE ORDER\n"
      ]
    },
    {
      "cell_type": "markdown",
      "metadata": {
        "id": "uQYyL_XzEy4u"
      },
      "source": [
        "###Sequence-order-coupling number (SOCNumber)\n",
        "\n",
        "60 Features"
      ]
    },
    {
      "cell_type": "code",
      "execution_count": null,
      "metadata": {
        "id": "HMAs8bIF2LpR"
      },
      "outputs": [],
      "source": [
        "##Sequence-order-coupling number (SOCNumber)\n",
        "# For host sequences\n",
        "!python3 iFeature/iFeature.py --file host.fasta --type SOCNumber --out host_socnumber.tsv\n",
        "\n",
        "# For pathogen sequences\n",
        "!python3 iFeature/iFeature.py --file pathogen.fasta --type SOCNumber --out pathogen_socnumber.tsv\n"
      ]
    },
    {
      "cell_type": "code",
      "execution_count": null,
      "metadata": {
        "id": "bxSlHEnO43V8"
      },
      "outputs": [],
      "source": [
        "\n",
        "host_feat = pd.read_csv(\"host_socnumber.tsv\", sep=\"\\t\").set_index(\"#\")\n",
        "patho_feat = pd.read_csv(\"pathogen_socnumber.tsv\", sep=\"\\t\").set_index(\"#\")\n",
        "\n",
        "\n",
        "# Add prefixes to column names\n",
        "host_feat.columns = [\"H_\" + col for col in host_feat.columns]\n",
        "patho_feat.columns = [\"P_\" + col for col in patho_feat.columns]\n",
        "\n",
        "\n",
        "# Concatenate by row order\n",
        "combined_features = pd.concat(\n",
        "    [host_feat.reset_index(drop=True), patho_feat.reset_index(drop=True)], axis=1\n",
        ")\n",
        "\n",
        "\n",
        "#Add the label column\n",
        "combined_features[\"label\"] = df[\"label\"]\n",
        "\n",
        "\n",
        "# Save to CSV\n",
        "combined_features.to_csv(file_path + \"/socnumber_features.csv\", index=False)\n",
        "\n",
        "print(\"Final shape:\", combined_features.shape)\n",
        "print(\"Saved as 'socnumber_features.csv'\")"
      ]
    },
    {
      "cell_type": "markdown",
      "metadata": {
        "id": "mfMzGMZf6ElH"
      },
      "source": [
        "###Quasi-sequence-order descriptors (QSOrder)\n",
        "100 Features"
      ]
    },
    {
      "cell_type": "code",
      "execution_count": null,
      "metadata": {
        "id": "mSlaRcka46mB"
      },
      "outputs": [],
      "source": [
        "##Quasi-sequence-order descriptors (QSOrder)\n",
        "# Host protein sequences\n",
        "!python3 iFeature/iFeature.py --file host.fasta --type QSOrder --out host_qsorder.tsv\n",
        "\n",
        "# Pathogen protein sequences\n",
        "!python3 iFeature/iFeature.py --file pathogen.fasta --type QSOrder --out pathogen_qsorder.tsv\n"
      ]
    },
    {
      "cell_type": "code",
      "execution_count": null,
      "metadata": {
        "id": "yU0BkRBZ6njC"
      },
      "outputs": [],
      "source": [
        "##Quasi-sequence-order descriptors (QSOrder)\n",
        "host_feat = pd.read_csv(\"host_qsorder.tsv\", sep=\"\\t\").set_index(\"#\")\n",
        "patho_feat = pd.read_csv(\"pathogen_qsorder.tsv\", sep=\"\\t\").set_index(\"#\")\n",
        "\n",
        "\n",
        "# Add prefixes to column names\n",
        "host_feat.columns = [\"H_\" + col for col in host_feat.columns]\n",
        "patho_feat.columns = [\"P_\" + col for col in patho_feat.columns]\n",
        "\n",
        "\n",
        "# Concatenate by row order\n",
        "combined_features = pd.concat(\n",
        "    [host_feat.reset_index(drop=True), patho_feat.reset_index(drop=True)], axis=1\n",
        ")\n",
        "\n",
        "\n",
        "#Add the label column\n",
        "combined_features[\"label\"] = df[\"label\"]\n",
        "\n",
        "\n",
        "# Save to CSV\n",
        "combined_features.to_csv(file_path + \"/qsorder_features.csv\", index=False)\n",
        "\n",
        "print(\"Final shape:\", combined_features.shape)\n",
        "print(\"Saved as 'qsorder_features.csv'\")"
      ]
    },
    {
      "cell_type": "markdown",
      "metadata": {
        "id": "MQNq3ZvB69K4"
      },
      "source": [
        "###Combined SCONumber and QSOrder"
      ]
    },
    {
      "cell_type": "code",
      "execution_count": null,
      "metadata": {
        "id": "hznbcgax6nfr"
      },
      "outputs": [],
      "source": [
        "import pandas as pd\n",
        "\n",
        "# Load features\n",
        "host_qsorder = pd.read_csv(\"host_qsorder.tsv\", sep=\"\\t\").set_index(\"#\")\n",
        "host_soc     = pd.read_csv(\"host_socnumber.tsv\", sep=\"\\t\").set_index(\"#\")\n",
        "\n",
        "patho_qsorder = pd.read_csv(\"pathogen_qsorder.tsv\", sep=\"\\t\").set_index(\"#\")\n",
        "patho_soc     = pd.read_csv(\"pathogen_socnumber.tsv\", sep=\"\\t\").set_index(\"#\")\n",
        "\n",
        "# Combine all features per side\n",
        "host_feat = pd.concat([host_qsorder, host_soc], axis=1)\n",
        "patho_feat = pd.concat([patho_qsorder, patho_soc], axis=1)\n",
        "\n",
        "# Reset index to align with original dataframe structure\n",
        "host_feat = host_feat.reset_index(drop=True)\n",
        "patho_feat = patho_feat.reset_index(drop=True)\n",
        "\n",
        "# Merge host + pathogen features\n",
        "combined_features = pd.concat([host_feat, patho_feat], axis=1)\n",
        "\n",
        "#Add the label column\n",
        "combined_features[\"label\"] = df[\"label\"]\n",
        "\n",
        "# Save the final combined features\n",
        "combined_features.to_csv(file_path + \"/combined_qsorder_soc.csv\", index=False)\n",
        "\n",
        "print(\"Final shape:\", combined_features.shape)\n",
        "print(\"Combined feature file saved: combined_qsorder_soc.csv\")\n"
      ]
    },
    {
      "cell_type": "markdown",
      "metadata": {
        "id": "wmAV_htZ8MVv"
      },
      "source": [
        "##CONJOINT TRIAD\n"
      ]
    },
    {
      "cell_type": "markdown",
      "metadata": {
        "id": "RWx6XI4IGlXw"
      },
      "source": [
        "###Conjoint triad (CTriad)\n",
        "343 Features"
      ]
    },
    {
      "cell_type": "code",
      "execution_count": null,
      "metadata": {
        "colab": {
          "base_uri": "https://localhost:8080/"
        },
        "id": "-R17O33y6nb-",
        "outputId": "4f30bb4e-1731-426d-8015-d5c011f08e5b"
      },
      "outputs": [
        {
          "output_type": "stream",
          "name": "stdout",
          "text": [
            "Descriptor type: CTriad\n",
            "Descriptor type: CTriad\n"
          ]
        }
      ],
      "source": [
        "#Conjoint Triad\n",
        "# For host sequences\n",
        "!python3 iFeature/iFeature.py --file host.fasta --type CTriad --out host_ctriad.tsv\n",
        "\n",
        "# For pathogen sequences\n",
        "!python3 iFeature/iFeature.py --file pathogen.fasta --type CTriad --out pathogen_ctriad.tsv\n"
      ]
    },
    {
      "cell_type": "code",
      "execution_count": null,
      "metadata": {
        "id": "YCUG1sZu6nYZ"
      },
      "outputs": [],
      "source": [
        "#conjoint Triad\n",
        "host_feat = pd.read_csv(\"host_ctriad.tsv\", sep=\"\\t\").set_index(\"#\")\n",
        "patho_feat = pd.read_csv(\"pathogen_ctriad.tsv\", sep=\"\\t\").set_index(\"#\")\n",
        "\n",
        "\n",
        "# Add prefixes to column names\n",
        "host_feat.columns = [\"H_\" + col for col in host_feat.columns]\n",
        "patho_feat.columns = [\"P_\" + col for col in patho_feat.columns]\n",
        "\n",
        "\n",
        "# Concatenate by row order\n",
        "combined_features = pd.concat(\n",
        "    [host_feat.reset_index(drop=True), patho_feat.reset_index(drop=True)], axis=1\n",
        ")\n",
        "\n",
        "\n",
        "#Add the label column\n",
        "combined_features[\"label\"] = df[\"label\"]\n",
        "\n",
        "\n",
        "# Save to CSV\n",
        "combined_features.to_csv(file_path + \"/ctriad_features.csv\", index=False)\n",
        "\n",
        "print(\"Final shape:\", combined_features.shape)\n",
        "print(\"Saved as 'ctriad_features.csv'\")"
      ]
    },
    {
      "cell_type": "markdown",
      "metadata": {
        "id": "CWtaFcaGG4v5"
      },
      "source": [
        "###Conjoint k-spaced triad (KSCTriad)"
      ]
    },
    {
      "cell_type": "code",
      "execution_count": null,
      "metadata": {
        "id": "kjJC1Qe96nGP"
      },
      "outputs": [],
      "source": [
        "!python3 iFeature/iFeature.py --file host.fasta --type KSCTriad --out host_ksctriad.tsv\n",
        "\n",
        "\n",
        "!python3 iFeature/iFeature.py --file pathogen.fasta --type KSCTriad --out pathogen_ksctriad.tsv\n"
      ]
    },
    {
      "cell_type": "code",
      "execution_count": null,
      "metadata": {
        "id": "mMb9fiDz6m_5"
      },
      "outputs": [],
      "source": [
        "host_feat = pd.read_csv(\"host_ksctriad.tsv\", sep=\"\\t\").set_index(\"#\")\n",
        "patho_feat = pd.read_csv(\"pathogen_ksctriad.tsv\", sep=\"\\t\").set_index(\"#\")\n",
        "\n",
        "\n",
        "# Add prefixes to column names\n",
        "host_feat.columns = [\"H_\" + col for col in host_feat.columns]\n",
        "patho_feat.columns = [\"P_\" + col for col in patho_feat.columns]\n",
        "\n",
        "\n",
        "# Concatenate by row order\n",
        "combined_features = pd.concat(\n",
        "    [host_feat.reset_index(drop=True), patho_feat.reset_index(drop=True)], axis=1\n",
        ")\n",
        "\n",
        "\n",
        "#Add the label column\n",
        "combined_features[\"label\"] = df[\"label\"]\n",
        "\n",
        "\n",
        "# Save to CSV\n",
        "combined_features.to_csv(file_path + \"/ksctriad_features.csv\", index=False)\n",
        "\n",
        "print(\"Final shape:\", combined_features.shape)\n",
        "print(\"Saved as 'ksctriad_features.csv'\")"
      ]
    },
    {
      "cell_type": "markdown",
      "metadata": {
        "id": "Qc-rvWgQIMYY"
      },
      "source": [
        "###Combined CTriad and KSCTriad"
      ]
    },
    {
      "cell_type": "code",
      "execution_count": null,
      "metadata": {
        "id": "mw_bm80X6m1B"
      },
      "outputs": [],
      "source": [
        "# Load features\n",
        "host_ctriad = pd.read_csv(\"host_ctriad.tsv\", sep=\"\\t\").set_index(\"#\")\n",
        "host_ksctriad = pd.read_csv(\"host_ksctriad.tsv\", sep=\"\\t\").set_index(\"#\")\n",
        "\n",
        "patho_ctriad = pd.read_csv(\"pathogen_ctriad.tsv\", sep=\"\\t\").set_index(\"#\")\n",
        "patho_ksctriad = pd.read_csv(\"pathogen_ksctriad.tsv\", sep=\"\\t\").set_index(\"#\")\n",
        "\n",
        "# Combine all features per side\n",
        "host_feat = pd.concat([host_ctriad, host_ksctriad], axis=1)\n",
        "patho_feat = pd.concat([patho_ctriad, patho_ksctriad], axis=1)\n",
        "\n",
        "# Reset index to align with original dataframe structure\n",
        "host_feat = host_feat.reset_index(drop=True)\n",
        "patho_feat = patho_feat.reset_index(drop=True)\n",
        "\n",
        "# Merge host + pathogen features\n",
        "combined_features = pd.concat([host_feat, patho_feat], axis=1)\n",
        "\n",
        "# Add the label column\n",
        "combined_features[\"label\"] = df[\"label\"]\n",
        "\n",
        "# Save the final combined features\n",
        "combined_features.to_csv(\"combined_ctriad_ksctriad.csv\", index=False)\n",
        "\n",
        "print(\"Final shape:\", combined_features.shape)\n",
        "print(\"Combined feature file saved: combined_ctriad_ksctriad.csv\")\n"
      ]
    },
    {
      "cell_type": "markdown",
      "metadata": {
        "id": "0F6_EvxJK93m"
      },
      "source": [
        "##PSEUDO-AMINO ACID COMPOSITION"
      ]
    },
    {
      "cell_type": "markdown",
      "metadata": {
        "id": "vpQ3jZpeLFht"
      },
      "source": [
        "###Pseudo-amino acid composition (PAAC)\n",
        "50 Features"
      ]
    },
    {
      "cell_type": "code",
      "execution_count": null,
      "metadata": {
        "id": "9C66L8ezLEaQ"
      },
      "outputs": [],
      "source": [
        "# Host\n",
        "!python3 iFeature/iFeature.py --file host.fasta --type PAAC --out host_paac.tsv\n",
        "\n",
        "# Pathogen\n",
        "!python3 iFeature/iFeature.py --file pathogen.fasta --type PAAC --out pathogen_paac.tsv\n"
      ]
    },
    {
      "cell_type": "code",
      "execution_count": null,
      "metadata": {
        "id": "awjeURjQLLvc"
      },
      "outputs": [],
      "source": [
        "host_feat = pd.read_csv(\"host_paac.tsv\", sep=\"\\t\").set_index(\"#\")\n",
        "patho_feat = pd.read_csv(\"pathogen_paac.tsv\", sep=\"\\t\").set_index(\"#\")\n",
        "\n",
        "\n",
        "# Add prefixes to column names\n",
        "host_feat.columns = [\"H_\" + col for col in host_feat.columns]\n",
        "patho_feat.columns = [\"P_\" + col for col in patho_feat.columns]\n",
        "\n",
        "\n",
        "# Concatenate by row order\n",
        "combined_features = pd.concat(\n",
        "    [host_feat.reset_index(drop=True), patho_feat.reset_index(drop=True)], axis=1\n",
        ")\n",
        "\n",
        "\n",
        "#Add the label column\n",
        "combined_features[\"label\"] = df[\"label\"]\n",
        "\n",
        "\n",
        "# Save to CSV\n",
        "combined_features.to_csv(file_path + \"/paac_features.csv\", index=False)\n",
        "\n",
        "print(\"Final shape:\", combined_features.shape)\n",
        "print(\"Saved as 'paac_features.csv'\")"
      ]
    },
    {
      "cell_type": "markdown",
      "metadata": {
        "id": "78Lb6j5lLMLK"
      },
      "source": [
        "###Amphiphilic PAAC (APAAC)\n",
        "80 Features"
      ]
    },
    {
      "cell_type": "code",
      "execution_count": null,
      "metadata": {
        "colab": {
          "base_uri": "https://localhost:8080/"
        },
        "id": "7sclXBKxLUXv",
        "outputId": "5c711ae4-209c-4e8b-b41f-55cc73b8431d"
      },
      "outputs": [
        {
          "name": "stdout",
          "output_type": "stream",
          "text": [
            "Descriptor type: APAAC\n",
            "Descriptor type: APAAC\n"
          ]
        }
      ],
      "source": [
        "# For Host\n",
        "!python3 iFeature/iFeature.py --file host.fasta --type APAAC --out host_apaac.tsv\n",
        "\n",
        "# For Pathogen\n",
        "!python3 iFeature/iFeature.py --file pathogen.fasta --type APAAC --out pathogen_apaac.tsv\n"
      ]
    },
    {
      "cell_type": "code",
      "execution_count": null,
      "metadata": {
        "id": "UkbTNaNzLT0U"
      },
      "outputs": [],
      "source": [
        "host_feat = pd.read_csv(\"host_apaac.tsv\", sep=\"\\t\").set_index(\"#\")\n",
        "patho_feat = pd.read_csv(\"pathogen_apaac.tsv\", sep=\"\\t\").set_index(\"#\")\n",
        "\n",
        "\n",
        "# Add prefixes to column names\n",
        "host_feat.columns = [\"H_\" + col for col in host_feat.columns]\n",
        "patho_feat.columns = [\"P_\" + col for col in patho_feat.columns]\n",
        "\n",
        "\n",
        "# Concatenate by row order\n",
        "combined_features = pd.concat(\n",
        "    [host_feat.reset_index(drop=True), patho_feat.reset_index(drop=True)], axis=1\n",
        ")\n",
        "\n",
        "\n",
        "#Add the label column\n",
        "combined_features[\"label\"] = df[\"label\"]\n",
        "\n",
        "\n",
        "# Save to CSV\n",
        "combined_features.to_csv(file_path + \"/apaac_features.csv\", index=False)\n",
        "\n",
        "print(\"Final shape:\", combined_features.shape)\n",
        "print(\"Saved as 'apaac_features.csv'\")"
      ]
    },
    {
      "cell_type": "markdown",
      "metadata": {
        "id": "QcGPE8hvLVFx"
      },
      "source": [
        "###Combined PAAc and APAAC"
      ]
    },
    {
      "cell_type": "code",
      "execution_count": null,
      "metadata": {
        "id": "SXuoCoYdufWi"
      },
      "outputs": [],
      "source": [
        "# Load features\n",
        "host_paac = pd.read_csv(\"host_paac.tsv\", sep=\"\\t\").set_index(\"#\")\n",
        "host_apaac = pd.read_csv(\"host_apaac.tsv\", sep=\"\\t\").set_index(\"#\")\n",
        "\n",
        "patho_paac = pd.read_csv(\"pathogen_paac.tsv\", sep=\"\\t\").set_index(\"#\")\n",
        "patho_apaac = pd.read_csv(\"pathogen_apaac.tsv\", sep=\"\\t\").set_index(\"#\")\n",
        "\n",
        "# Combine all features per side\n",
        "host_feat = pd.concat([host_paac, host_apaac], axis=1)\n",
        "patho_feat = pd.concat([patho_paac, patho_apaac], axis=1)\n",
        "\n",
        "# Reset index to align with original dataframe structure\n",
        "host_feat = host_feat.reset_index(drop=True)\n",
        "patho_feat = patho_feat.reset_index(drop=True)\n",
        "\n",
        "# Merge host + pathogen features\n",
        "combined_features = pd.concat([host_feat, patho_feat], axis=1)\n",
        "\n",
        "# Add the label column\n",
        "combined_features[\"label\"] = df[\"label\"]\n",
        "\n",
        "# Save the final combined features\n",
        "combined_features.to_csv(\"combined_paac_apaac.csv\", index=False)\n",
        "\n",
        "print(\"Final shape:\", combined_features.shape)\n",
        "print(\"Combined feature file saved: combined_paac_apaac.csv\")\n"
      ]
    },
    {
      "cell_type": "markdown",
      "metadata": {
        "id": "4MPQW_cg6NXr"
      },
      "source": [
        "##C/T/D"
      ]
    },
    {
      "cell_type": "markdown",
      "metadata": {
        "id": "pPhW-YJA6RUl"
      },
      "source": [
        "###Composition (CTDC)\n",
        "39 Features"
      ]
    },
    {
      "cell_type": "code",
      "execution_count": null,
      "metadata": {
        "id": "3IqqduCD6iPQ"
      },
      "outputs": [],
      "source": [
        "# Host\n",
        "!python3 iFeature/iFeature.py --file host.fasta --type CTDC --out host_ctdc.tsv\n",
        "\n",
        "# Pathogen\n",
        "!python3 iFeature/iFeature.py --file pathogen.fasta --type CTDC --out pathogen_ctdc.tsv\n"
      ]
    },
    {
      "cell_type": "code",
      "execution_count": null,
      "metadata": {
        "id": "QFwW3RyN6trk"
      },
      "outputs": [],
      "source": [
        "host_feat = pd.read_csv(\"host_ctdc.tsv\", sep=\"\\t\").set_index(\"#\")\n",
        "patho_feat = pd.read_csv(\"pathogen_ctdc.tsv\", sep=\"\\t\").set_index(\"#\")\n",
        "\n",
        "\n",
        "# Add prefixes to column names\n",
        "host_feat.columns = [\"H_\" + col for col in host_feat.columns]\n",
        "patho_feat.columns = [\"P_\" + col for col in patho_feat.columns]\n",
        "\n",
        "\n",
        "# Concatenate by row order\n",
        "combined_features = pd.concat(\n",
        "    [host_feat.reset_index(drop=True), patho_feat.reset_index(drop=True)], axis=1\n",
        ")\n",
        "\n",
        "\n",
        "#Add the label column\n",
        "combined_features[\"label\"] = df[\"label\"]\n",
        "\n",
        "\n",
        "# Save to CSV\n",
        "combined_features.to_csv(file_path + \"/ctdc_features.csv\", index=False)\n",
        "\n",
        "print(\"Final shape:\", combined_features.shape)\n",
        "print(\"Saved as 'ctdc_features.csv'\")\n",
        "combined_features.head()"
      ]
    },
    {
      "cell_type": "markdown",
      "metadata": {
        "id": "ZFeU57kM7YcF"
      },
      "source": [
        "###Transition (CTDT)\n",
        "39 Features"
      ]
    },
    {
      "cell_type": "code",
      "execution_count": null,
      "metadata": {
        "id": "VWFtBDWB7X3n"
      },
      "outputs": [],
      "source": [
        "# Host\n",
        "!python3 iFeature/iFeature.py --file host.fasta --type CTDT --out host_ctdt.tsv\n",
        "\n",
        "# Pathogen\n",
        "!python3 iFeature/iFeature.py --file pathogen.fasta --type CTDT --out pathogen_ctdt.tsv\n"
      ]
    },
    {
      "cell_type": "code",
      "execution_count": null,
      "metadata": {
        "id": "vfYjv0Ee7qej"
      },
      "outputs": [],
      "source": [
        "host_feat = pd.read_csv(\"host_ctdt.tsv\", sep=\"\\t\").set_index(\"#\")\n",
        "patho_feat = pd.read_csv(\"pathogen_ctdt.tsv\", sep=\"\\t\").set_index(\"#\")\n",
        "\n",
        "\n",
        "# Add prefixes to column names\n",
        "host_feat.columns = [\"H_\" + col for col in host_feat.columns]\n",
        "patho_feat.columns = [\"P_\" + col for col in patho_feat.columns]\n",
        "\n",
        "\n",
        "# Concatenate by row order\n",
        "combined_features = pd.concat(\n",
        "    [host_feat.reset_index(drop=True), patho_feat.reset_index(drop=True)], axis=1\n",
        ")\n",
        "\n",
        "\n",
        "#Add the label column\n",
        "combined_features[\"label\"] = df[\"label\"]\n",
        "\n",
        "\n",
        "# Save to CSV\n",
        "combined_features.to_csv(file_path + \"/ctdt_features.csv\", index=False)\n",
        "\n",
        "print(\"Final shape:\", combined_features.shape)\n",
        "print(\"Saved as 'ctdt_features.csv'\")\n",
        "combined_features.head()"
      ]
    },
    {
      "cell_type": "markdown",
      "metadata": {
        "id": "Nr69ABUa8uz8"
      },
      "source": [
        "###Distribution (CTDD)"
      ]
    },
    {
      "cell_type": "code",
      "execution_count": null,
      "metadata": {
        "id": "t-4xs5sP85KO"
      },
      "outputs": [],
      "source": [
        "# Host\n",
        "!python3 iFeature/iFeature.py --file host.fasta --type CTDD --out host_ctdd.tsv\n",
        "\n",
        "# Pathogen\n",
        "!python3 iFeature/iFeature.py --file pathogen.fasta --type CTDD --out pathogen_ctdd.tsv\n"
      ]
    },
    {
      "cell_type": "code",
      "execution_count": null,
      "metadata": {
        "id": "HOOYxInE8_ca"
      },
      "outputs": [],
      "source": [
        "host_feat = pd.read_csv(\"host_ctdd.tsv\", sep=\"\\t\").set_index(\"#\")\n",
        "patho_feat = pd.read_csv(\"pathogen_ctdd.tsv\", sep=\"\\t\").set_index(\"#\")\n",
        "\n",
        "\n",
        "# Add prefixes to column names\n",
        "host_feat.columns = [\"H_\" + col for col in host_feat.columns]\n",
        "patho_feat.columns = [\"P_\" + col for col in patho_feat.columns]\n",
        "\n",
        "\n",
        "# Concatenate by row order\n",
        "combined_features = pd.concat(\n",
        "    [host_feat.reset_index(drop=True), patho_feat.reset_index(drop=True)], axis=1\n",
        ")\n",
        "\n",
        "\n",
        "#Add the label column\n",
        "combined_features[\"label\"] = df[\"label\"]\n",
        "\n",
        "\n",
        "# Save to CSV\n",
        "combined_features.to_csv(file_path + \"/ctdd_features.csv\", index=False)\n",
        "\n",
        "print(\"Final shape:\", combined_features.shape)\n",
        "print(\"Saved as 'ctdd_features.csv'\")\n",
        "combined_features.head()"
      ]
    },
    {
      "cell_type": "markdown",
      "metadata": {
        "id": "Mlsl2Nf_9Oys"
      },
      "source": [
        "###Combined CTDC, CTDT and CTDD"
      ]
    },
    {
      "cell_type": "code",
      "execution_count": null,
      "metadata": {
        "id": "GgC8-MfD9XMK"
      },
      "outputs": [],
      "source": [
        "import pandas as pd\n",
        "\n",
        "# Load the CTD features for host\n",
        "host_ctdc = pd.read_csv(\"host_ctdc.tsv\", sep=\"\\t\").set_index(\"#\")\n",
        "host_ctdt = pd.read_csv(\"host_ctdt.tsv\", sep=\"\\t\").set_index(\"#\")\n",
        "host_ctdd = pd.read_csv(\"host_ctdd.tsv\", sep=\"\\t\").set_index(\"#\")\n",
        "\n",
        "# Load the CTD features for pathogen\n",
        "patho_ctdc = pd.read_csv(\"pathogen_ctdc.tsv\", sep=\"\\t\").set_index(\"#\")\n",
        "patho_ctdt = pd.read_csv(\"pathogen_ctdt.tsv\", sep=\"\\t\").set_index(\"#\")\n",
        "patho_ctdd = pd.read_csv(\"pathogen_ctdd.tsv\", sep=\"\\t\").set_index(\"#\")\n",
        "\n",
        "# Combine host and pathogen features separately\n",
        "host_feat = pd.concat([host_ctdc, host_ctdt, host_ctdd], axis=1).reset_index(drop=True)\n",
        "patho_feat = pd.concat([patho_ctdc, patho_ctdt, patho_ctdd], axis=1).reset_index(drop=True)\n",
        "\n",
        "# Combine host + pathogen features\n",
        "combined_features = pd.concat([host_feat, patho_feat], axis=1)\n",
        "\n",
        "# Add the label column from your original dataframe\n",
        "combined_features[\"label\"] = df[\"label\"]\n",
        "\n",
        "# Save to CSV\n",
        "combined_features.to_csv(file_path + \"/combined_ctd.csv\", index=False)\n",
        "\n",
        "print(\"Final shape:\", combined_features.shape)\n",
        "print(\"Combined feature file saved: combined_ctd.csv\")\n"
      ]
    },
    {
      "cell_type": "markdown",
      "source": [
        "##Combine PAAC + CTriad + CKSAAP"
      ],
      "metadata": {
        "id": "t8xcGjuc4FZw"
      }
    },
    {
      "cell_type": "markdown",
      "source": [
        "##Combined Geary + GTPC"
      ],
      "metadata": {
        "id": "AhhCGxA8N3Ru"
      }
    },
    {
      "cell_type": "code",
      "source": [
        "import pandas as pd\n",
        "\n",
        "# Load features\n",
        "host_geary = pd.read_csv(\"host_geary.tsv\", sep=\"\\t\").set_index(\"#\")\n",
        "host_gtpc = pd.read_csv(\"host_gtpc.tsv\", sep=\"\\t\").set_index(\"#\")\n",
        "\n",
        "patho_geary = pd.read_csv(\"pathogen_geary.tsv\", sep=\"\\t\").set_index(\"#\")\n",
        "patho_gtpc = pd.read_csv(\"pathogen_gtpc.tsv\", sep=\"\\t\").set_index(\"#\")\n",
        "\n",
        "# Combine all features per side\n",
        "host_feat = pd.concat([host_geary, host_gtpc], axis=1)\n",
        "patho_feat = pd.concat([patho_geary, patho_gtpc], axis=1)\n",
        "\n",
        "# Reset index to align with original dataframe structure\n",
        "host_feat = host_feat.reset_index(drop=True)\n",
        "patho_feat = patho_feat.reset_index(drop=True)\n",
        "\n",
        "# Merge host + pathogen features\n",
        "combined_features = pd.concat([host_feat, patho_feat], axis=1)\n",
        "\n",
        "# Add the label column from original df\n",
        "combined_features[\"label\"] = df[\"label\"]\n",
        "\n",
        "# Save the final combined features\n",
        "combined_features.to_csv(file_path + \"/combined_geary_gtpc.csv\", index=False)\n",
        "\n",
        "print(\"Final shape:\", combined_features.shape)\n",
        "print(\"Combined feature file saved: combined_geary_gtpc.csv\")\n"
      ],
      "metadata": {
        "id": "0qCLIPlfPh4x"
      },
      "execution_count": null,
      "outputs": []
    },
    {
      "cell_type": "markdown",
      "source": [
        "**Now that we have extracted all the features, we can now proceed to the final notebook.**"
      ],
      "metadata": {
        "id": "zaP9q-f2wcy_"
      }
    }
  ],
  "metadata": {
    "colab": {
      "provenance": [],
      "toc_visible": true,
      "include_colab_link": true
    },
    "kernelspec": {
      "display_name": "Python 3",
      "name": "python3"
    },
    "language_info": {
      "name": "python"
    }
  },
  "nbformat": 4,
  "nbformat_minor": 0
}