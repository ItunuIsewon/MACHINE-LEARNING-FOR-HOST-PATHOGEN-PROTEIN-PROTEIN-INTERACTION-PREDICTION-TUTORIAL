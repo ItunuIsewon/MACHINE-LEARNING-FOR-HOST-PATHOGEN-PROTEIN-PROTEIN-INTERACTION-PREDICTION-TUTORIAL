{
  "nbformat": 4,
  "nbformat_minor": 0,
  "metadata": {
    "colab": {
      "provenance": [],
      "toc_visible": true,
      "include_colab_link": true
    },
    "kernelspec": {
      "name": "python3",
      "display_name": "Python 3"
    },
    "language_info": {
      "name": "python"
    }
  },
  "cells": [
    {
      "cell_type": "markdown",
      "metadata": {
        "id": "view-in-github",
        "colab_type": "text"
      },
      "source": [
        "<a href=\"https://colab.research.google.com/github/ItunuIsewon/Machine_learning_for_host_pathogen_protein-protein_interaction_prediction_Tutorial/blob/main/Data_Preprocessing.ipynb\" target=\"_parent\"><img src=\"https://colab.research.google.com/assets/colab-badge.svg\" alt=\"Open In Colab\"/></a>"
      ]
    },
    {
      "cell_type": "markdown",
      "source": [
        "#**DATA PREPROCESSING**\n",
        "\n",
        "Before training a machine learning model to predict host-pathogen protein-protein interactions (HPPIs), it is important to carry out data preprocessing. This crucial step ensures that the data is clean and properly strutured for the ML models to learn effectively.\n",
        "\n",
        "###Objectives of this notebook:\n",
        "In this notebook, we will perform essential data preprocessing to ensure we proceed with high quality data for host-pathogen protein-protein interaction prediction. We will carry out the following steps.\n",
        "1. Filter out Invalid Sequences: Remove protein containing non-standard amino acids along with thier corresponding pairs across all organisms.\n",
        "2. Merge  positive interaction Data: Combine the cleaned positive data into a single data and label as 1.\n",
        "3. Clean Negative Interaction data Pool: For each organism's negative interaction pool, apply the same sequence validation to remove pairs that contain invalid amino acids.\n",
        "4. Balance Positive and Negative Samples: Randomly select a number of valid negative pairs that matches the number of positive pairs for each organism.\n",
        "5. Merge negative Interaction Data assign label (0)\n",
        "6. Combine positive and negative data and save for feature extraction.\n"
      ],
      "metadata": {
        "id": "c7MPPdXOgvv9"
      }
    },
    {
      "cell_type": "markdown",
      "source": [
        "**Removing Proteins with non-standard amino acids**\n",
        "\n",
        "This step involves filtering out protein sequences in both the host and pathogen that contain non-standard amino acids. Non-standard amino acids, such as pyrrolysine (O) and selenocysteine (U) or undefined residues represented as “X” or “B” are removed to avoid introducing ambiguity and avoid disrupting calculation of features such as amino acid composition, physicochemical property vectors among others.\n",
        "\n",
        "\n",
        "\n",
        "To do this;\n",
        "* Each protein sequence is checked for the presence of non-standard amino acids residue.\n",
        "* If either the host or pathogen in a pair contains such, the entire interaction pair is removed from the dataset."
      ],
      "metadata": {
        "id": "sI_K48yUg_e9"
      }
    },
    {
      "cell_type": "code",
      "source": [
        "#Mounting Google Drive to access files\n",
        "import os\n",
        "from google.colab import drive\n",
        "drive.mount ('/content/my_drive')\n",
        "\n",
        "#import pandas for data manipulation\n",
        "import pandas as pd\n"
      ],
      "metadata": {
        "id": "9NyRbilokddy"
      },
      "execution_count": null,
      "outputs": []
    },
    {
      "cell_type": "markdown",
      "source": [
        "##Sequence Validation for Positive Dataset"
      ],
      "metadata": {
        "id": "z24xkQ7iWu3O"
      }
    },
    {
      "cell_type": "markdown",
      "source": [
        "###Host-Bacillus"
      ],
      "metadata": {
        "id": "STdwQRglVVSc"
      }
    },
    {
      "cell_type": "markdown",
      "source": [
        "####Step 1\n",
        "Create Host-Pathogen Interaction Sequence only pair for both negative and postive data"
      ],
      "metadata": {
        "id": "9bqJzy1Kn9VN"
      }
    },
    {
      "cell_type": "code",
      "source": [
        "\n",
        "file_path = '/content/my_drive/My Drive/HPI'\n",
        "\n",
        "#Load in the data\n",
        "bacillus = file_path + \"/host_bacillus_pairs.csv\"\n",
        "\n",
        "df = pd.read_csv(bacillus)\n",
        "\n",
        "\n",
        "##creates Host-Pathogen Interaction (HPI) sequence pairs only\n",
        "sequence_pairs = list(zip(df['Host Sequence'], df['Pathogen Sequence']))\n",
        "\n",
        "\n",
        "# Create a new DataFrame with just the sequence pairs\n",
        "sequence_pairs_df = pd.DataFrame(sequence_pairs, columns=['host_sequence', 'pathogen_sequence'])\n",
        "\n",
        "# Save to CSV\n",
        "sequence_pairs_df.to_csv(file_path + '/bacillus_sequence_pairs.csv', index=False)\n",
        "\n"
      ],
      "metadata": {
        "id": "DJEUH_wHhoqL"
      },
      "execution_count": null,
      "outputs": []
    },
    {
      "cell_type": "markdown",
      "source": [
        "####Step 2\n",
        "Define a sequence validation function and apply it to both the positive and negative dataset"
      ],
      "metadata": {
        "id": "F0dS1NVhpywi"
      }
    },
    {
      "cell_type": "code",
      "source": [
        "#SEQUENCE VALIDATION FUNCTION\n",
        "# Define allowed amino acids (standard 20)\n",
        "valid_aas = set(\"ACDEFGHIKLMNPQRSTVWY\")\n",
        "\n",
        "# Sequence Validation function\n",
        "def is_valid_protein(seq, min_length=35):   #minimun lenght of the sequence is set at 35\n",
        "    if pd.isna(seq) or not isinstance(seq, str):\n",
        "        return False\n",
        "    seq = seq.upper().strip()\n",
        "    if len(seq) < min_length:\n",
        "        return False\n",
        "    return all(aa in valid_aas for aa in seq)\n",
        "\n"
      ],
      "metadata": {
        "id": "GF6vH7F9qYqJ"
      },
      "execution_count": null,
      "outputs": []
    },
    {
      "cell_type": "code",
      "source": [
        "#SEQUENCE VALIDATION FOR BACILLUS\n",
        "# Read your sequence pair DataFrame\n",
        "bacillus = file_path+\"/bacillus_sequence_pairs.csv\"\n",
        "df = pd.read_csv(bacillus)\n",
        "\n",
        "# Standardize sequences: strip & convert to uppercase\n",
        "df['host_sequence'] = df['host_sequence'].str.upper().str.strip()\n",
        "df['pathogen_sequence'] = df['pathogen_sequence'].str.upper().str.strip()\n",
        "\n",
        "# Validate sequences\n",
        "df['valid_host'] = df['host_sequence'].apply(is_valid_protein)\n",
        "df['valid_pathogen'] = df['pathogen_sequence'].apply(is_valid_protein)\n",
        "\n",
        "# Filter to keep only valid pairs\n",
        "df_valid = df[df['valid_host'] & df['valid_pathogen']].copy()\n",
        "\n",
        "# Drop helper columns\n",
        "df_valid.drop(columns=['valid_host', 'valid_pathogen'], inplace=True)\n",
        "\n",
        "# Export to CSV\n",
        "df_valid.to_csv(file_path + \"/validated_positivebacillus.csv\", index=False)\n",
        "\n",
        "print(f\"Saved {len(df_valid)} valid HPI pairs to 'validated_positivebacillus.csv'\")\n"
      ],
      "metadata": {
        "colab": {
          "base_uri": "https://localhost:8080/"
        },
        "id": "2dNGd1E_ufCS",
        "outputId": "5a382763-6862-4d32-85b4-e6ad85953e63"
      },
      "execution_count": null,
      "outputs": [
        {
          "output_type": "stream",
          "name": "stdout",
          "text": [
            "Saved 644 valid HPI pairs to 'validated_positivebacillus.csv'\n"
          ]
        }
      ]
    },
    {
      "cell_type": "markdown",
      "source": [
        "Now repeat steps 1 and 2 for the other bacteria species."
      ],
      "metadata": {
        "id": "cup8TsoJCd_C"
      }
    },
    {
      "cell_type": "markdown",
      "source": [
        "###Host-Ecoli"
      ],
      "metadata": {
        "id": "_EybuC0_z50A"
      }
    },
    {
      "cell_type": "code",
      "source": [
        "#Load in the data\n",
        "ecoli = file_path + \"/host_ecoli_pairs.csv\"\n",
        "\n",
        "df = pd.read_csv(ecoli)\n",
        "\n",
        "\n",
        "##creates Host-Pathogen Interaction (HPI) sequence pairs only\n",
        "sequence_pairs = list(zip(df['Host Sequence'], df['Pathogen Sequence']))\n",
        "\n",
        "\n",
        "# Create a new DataFrame with just the sequence pairs\n",
        "sequence_pairs_df = pd.DataFrame(sequence_pairs, columns=['host_sequence', 'pathogen_sequence'])\n",
        "\n",
        "# Save to CSV\n",
        "sequence_pairs_df.to_csv(file_path + '/ecoli_sequence_pairs.csv', index=False)\n",
        "\n"
      ],
      "metadata": {
        "id": "z__m4ODu0FsE"
      },
      "execution_count": null,
      "outputs": []
    },
    {
      "cell_type": "code",
      "source": [
        "# Read your sequence pair DataFrame\n",
        "ecoli = file_path+\"/ecoli_sequence_pairs.csv\"\n",
        "df = pd.read_csv(ecoli)\n",
        "\n",
        "# Standardize sequences: strip & convert to uppercase\n",
        "df['host_sequence'] = df['host_sequence'].str.upper().str.strip()\n",
        "df['pathogen_sequence'] = df['pathogen_sequence'].str.upper().str.strip()\n",
        "\n",
        "# Validate sequences\n",
        "df['valid_host'] = df['host_sequence'].apply(is_valid_protein)\n",
        "df['valid_pathogen'] = df['pathogen_sequence'].apply(is_valid_protein)\n",
        "\n",
        "# Filter to keep only valid pairs\n",
        "df_valid = df[df['valid_host'] & df['valid_pathogen']].copy()\n",
        "\n",
        "# Drop helper columns\n",
        "df_valid.drop(columns=['valid_host', 'valid_pathogen'], inplace=True)\n",
        "\n",
        "# Export to CSV\n",
        "df_valid.to_csv(file_path + \"/validated_positiveecoli.csv\", index=False)\n",
        "\n",
        "print(f\"Saved {len(df_valid)} valid HPI pairs to 'validated_positiveecoli.csv'\")\n"
      ],
      "metadata": {
        "id": "uk6gcxW30Fl_"
      },
      "execution_count": null,
      "outputs": []
    },
    {
      "cell_type": "markdown",
      "source": [
        "###Host-Fransicella"
      ],
      "metadata": {
        "id": "1uYaGSnB0TPo"
      }
    },
    {
      "cell_type": "code",
      "source": [
        "#Load in the data\n",
        "fransicella = file_path + \"/host_francisella_pairs.csv\"\n",
        "\n",
        "df = pd.read_csv(fransicella)\n",
        "\n",
        "\n",
        "##creates Host-Pathogen Interaction (HPI) sequence pairs only\n",
        "sequence_pairs = list(zip(df['Host Sequence'], df['Pathogen Sequence']))\n",
        "\n",
        "\n",
        "# Create a new DataFrame with just the sequence pairs\n",
        "sequence_pairs_df = pd.DataFrame(sequence_pairs, columns=['host_sequence', 'pathogen_sequence'])\n",
        "\n",
        "# Save to CSV\n",
        "sequence_pairs_df.to_csv(file_path + '/fransicella_sequence_pairs.csv', index=False)\n",
        "\n"
      ],
      "metadata": {
        "id": "ttqZElBm0Fgy"
      },
      "execution_count": null,
      "outputs": []
    },
    {
      "cell_type": "code",
      "source": [
        "# Read your sequence pair DataFrame\n",
        "fransicella = file_path+\"/fransicella_sequence_pairs.csv\"\n",
        "df = pd.read_csv(fransicella)\n",
        "\n",
        "# Standardize sequences: strip & convert to uppercase\n",
        "df['host_sequence'] = df['host_sequence'].str.upper().str.strip()\n",
        "df['pathogen_sequence'] = df['pathogen_sequence'].str.upper().str.strip()\n",
        "\n",
        "# Validate sequences\n",
        "df['valid_host'] = df['host_sequence'].apply(is_valid_protein)\n",
        "df['valid_pathogen'] = df['pathogen_sequence'].apply(is_valid_protein)\n",
        "\n",
        "# Filter to keep only valid pairs\n",
        "df_valid = df[df['valid_host'] & df['valid_pathogen']].copy()\n",
        "\n",
        "# Drop helper columns\n",
        "df_valid.drop(columns=['valid_host', 'valid_pathogen'], inplace=True)\n",
        "\n",
        "# Export to CSV\n",
        "df_valid.to_csv(file_path + \"/validated_positivefransicella.csv\", index=False)\n",
        "\n",
        "print(f\"Saved {len(df_valid)} valid HPI pairs to 'validated_positivefransicella.csv'\")\n"
      ],
      "metadata": {
        "id": "Qv8xsD7z0Fav"
      },
      "execution_count": null,
      "outputs": []
    },
    {
      "cell_type": "markdown",
      "source": [
        "###Host-Yersinia"
      ],
      "metadata": {
        "id": "BrlyweMJ0bel"
      }
    },
    {
      "cell_type": "code",
      "source": [
        "#Load in the data\n",
        "yersinia = file_path + \"/host_yersinia_pairs.csv\"\n",
        "\n",
        "df = pd.read_csv(yersinia)\n",
        "\n",
        "\n",
        "##creates Host-Pathogen Interaction (HPI) sequence pairs only\n",
        "sequence_pairs = list(zip(df['Host Sequence'], df['Pathogen Sequence']))\n",
        "\n",
        "\n",
        "# Create a new DataFrame with just the sequence pairs\n",
        "sequence_pairs_df = pd.DataFrame(sequence_pairs, columns=['host_sequence', 'pathogen_sequence'])\n",
        "\n",
        "# Save to CSV\n",
        "sequence_pairs_df.to_csv(file_path + '/yersinia_sequence_pairs.csv', index=False)\n",
        "\n"
      ],
      "metadata": {
        "id": "msvBzn220FXW"
      },
      "execution_count": null,
      "outputs": []
    },
    {
      "cell_type": "code",
      "source": [
        "# Read your sequence pair DataFrame\n",
        "yersinia = file_path+\"/yersinia_sequence_pairs.csv\"\n",
        "df = pd.read_csv(yersinia)\n",
        "\n",
        "# Standardize sequences: strip & convert to uppercase\n",
        "df['host_sequence'] = df['host_sequence'].str.upper().str.strip()\n",
        "df['pathogen_sequence'] = df['pathogen_sequence'].str.upper().str.strip()\n",
        "\n",
        "# Validate sequences\n",
        "df['valid_host'] = df['host_sequence'].apply(is_valid_protein)\n",
        "df['valid_pathogen'] = df['pathogen_sequence'].apply(is_valid_protein)\n",
        "\n",
        "# Filter to keep only valid pairs\n",
        "df_valid = df[df['valid_host'] & df['valid_pathogen']].copy()\n",
        "\n",
        "# Drop helper columns\n",
        "df_valid.drop(columns=['valid_host', 'valid_pathogen'], inplace=True)\n",
        "\n",
        "# Export to CSV\n",
        "df_valid.to_csv(file_path + \"/validated_positiveyersinia.csv\", index=False)\n",
        "\n",
        "print(f\"Saved {len(df_valid)} valid HPI pairs to 'validated_positiveyersinia.csv'\")\n"
      ],
      "metadata": {
        "id": "RR5nK6nJ0FLG"
      },
      "execution_count": null,
      "outputs": []
    },
    {
      "cell_type": "markdown",
      "source": [
        "##Merge all positive data"
      ],
      "metadata": {
        "id": "YW8uEEa02ftH"
      }
    },
    {
      "cell_type": "code",
      "source": [
        "# File paths\n",
        "file1 = file_path + \"/validated_positivebacillus.csv\"\n",
        "file2 = file_path + \"/validated_positiveecoli.csv\"\n",
        "file3 = file_path + \"/validated_positivefransicella.csv\"\n",
        "file4 = file_path + \"/validated_positiveyersinia.csv\"\n",
        "\n",
        "# Read the csv files into DataFrames\n",
        "df1 = pd.read_csv(file1)\n",
        "df2 = pd.read_csv(file2)\n",
        "df3 = pd.read_csv(file3)\n",
        "df4 = pd.read_csv(file4)\n",
        "\n",
        "concatenated_df = pd.concat([df1, df2, df3, df4], ignore_index=True)\n",
        "\n",
        "\n",
        "# Save the merged DataFrame to a new csv file\n",
        "concatenated_df.to_csv(file_path + \"/AllpositiveHPI.csv\", index=False)\n",
        "\n",
        "print(f\"Files merged successfully\")\n",
        "\n"
      ],
      "metadata": {
        "id": "fkGQYEEA2krq"
      },
      "execution_count": null,
      "outputs": []
    },
    {
      "cell_type": "markdown",
      "source": [
        "##Sequence Validation for Negative Data Pool\n",
        "\n",
        "Before extracting the negative class, we will carry out sequence validation on each organisms negative data pool so that we will extract a balanced data from already preprocessed data."
      ],
      "metadata": {
        "id": "rdTr7LhQLzOo"
      }
    },
    {
      "cell_type": "code",
      "source": [
        "#Sequence Validation Function\n",
        "# Define allowed amino acids (standard 20)\n",
        "valid_aas = set(\"ACDEFGHIKLMNPQRSTVWY\")\n",
        "\n",
        "# Sequence Validation function\n",
        "def is_valid_protein(seq, min_length=35):\n",
        "    if pd.isna(seq) or not isinstance(seq, str):\n",
        "        return False\n",
        "    seq = seq.upper().strip()\n",
        "    if len(seq) < min_length:\n",
        "        return False\n",
        "    return all(aa in valid_aas for aa in seq)\n",
        "\n"
      ],
      "metadata": {
        "id": "WAUITeXaP4Dx"
      },
      "execution_count": null,
      "outputs": []
    },
    {
      "cell_type": "markdown",
      "source": [
        "###Negative Host Bacillus"
      ],
      "metadata": {
        "id": "PLhiPvwGMKtS"
      }
    },
    {
      "cell_type": "code",
      "source": [
        "file_path = '/content/my_drive/My Drive/HPI'\n",
        "import pandas as pd"
      ],
      "metadata": {
        "id": "LUas9AdRSKJ2"
      },
      "execution_count": null,
      "outputs": []
    },
    {
      "cell_type": "code",
      "source": [
        "#Load in the data\n",
        "bacillus = file_path + \"/BacillusNegativePool.csv\"\n",
        "\n",
        "df = pd.read_csv(bacillus)\n",
        "\n",
        "\n",
        "##creates Host-Pathogen Interaction (HPI) sequence pairs only\n",
        "sequence_pairs = list(zip(df['Host Sequence'], df['Pathogen Sequence']))\n",
        "\n",
        "\n",
        "# Create a new DataFrame with just the sequence pairs\n",
        "sequence_pairs_df = pd.DataFrame(sequence_pairs, columns=['host_sequence', 'pathogen_sequence'])\n",
        "\n",
        "# Save to CSV\n",
        "sequence_pairs_df.to_csv(file_path + '/bacillus_neg_pairs.csv', index=False)"
      ],
      "metadata": {
        "id": "l3ioETn-MP1m"
      },
      "execution_count": null,
      "outputs": []
    },
    {
      "cell_type": "code",
      "source": [
        "# Read your sequence pair DataFrame\n",
        "bacillus = file_path+\"/bacillus_neg_pairs.csv\"\n",
        "df = pd.read_csv(bacillus)\n",
        "\n",
        "# Standardize sequences: strip & convert to uppercase\n",
        "df['host_sequence'] = df['host_sequence'].str.upper().str.strip()\n",
        "df['pathogen_sequence'] = df['pathogen_sequence'].str.upper().str.strip()\n",
        "\n",
        "# Validate sequences\n",
        "df['valid_host'] = df['host_sequence'].apply(is_valid_protein)\n",
        "df['valid_pathogen'] = df['pathogen_sequence'].apply(is_valid_protein)\n",
        "\n",
        "# Filter to keep only valid pairs\n",
        "df_valid = df[df['valid_host'] & df['valid_pathogen']].copy()\n",
        "\n",
        "# Drop helper columns\n",
        "df_valid.drop(columns=['valid_host', 'valid_pathogen'], inplace=True)\n",
        "\n",
        "# Export to CSV\n",
        "df_valid.to_csv(file_path + \"/validated_negativebacillus.csv\", index=False)\n",
        "\n",
        "print(f\"Saved {len(df_valid)} valid HPI pairs to 'validated_negativebacillus.csv'\")\n"
      ],
      "metadata": {
        "colab": {
          "base_uri": "https://localhost:8080/"
        },
        "id": "nLXmpAl4QabR",
        "outputId": "98086476-62c7-42f8-a6dd-ee38958d3f00"
      },
      "execution_count": null,
      "outputs": [
        {
          "output_type": "stream",
          "name": "stdout",
          "text": [
            "Saved 2962 valid HPI pairs to 'validated_negativebacillus.csv'\n"
          ]
        }
      ]
    },
    {
      "cell_type": "markdown",
      "source": [
        "###Negative Host-Ecoli"
      ],
      "metadata": {
        "id": "_iUSTMGGQb8m"
      }
    },
    {
      "cell_type": "code",
      "source": [
        "#Load in the data\n",
        "ecoli = file_path + \"/EcoliNegativePool.csv\"\n",
        "\n",
        "df = pd.read_csv(ecoli)\n",
        "\n",
        "\n",
        "##creates Host-Pathogen Interaction (HPI) sequence pairs only\n",
        "sequence_pairs = list(zip(df['Host Sequence'], df['Pathogen Sequence']))\n",
        "\n",
        "\n",
        "# Create a new DataFrame with just the sequence pairs\n",
        "sequence_pairs_df = pd.DataFrame(sequence_pairs, columns=['host_sequence', 'pathogen_sequence'])\n",
        "\n",
        "# Save to CSV\n",
        "sequence_pairs_df.to_csv(file_path + '/ecoli_neg_pairs.csv', index=False)\n"
      ],
      "metadata": {
        "id": "rbzcAd-3Qscn"
      },
      "execution_count": null,
      "outputs": []
    },
    {
      "cell_type": "code",
      "source": [
        "# Read your sequence pair DataFrame\n",
        "ecoli = file_path+\"/ecoli_neg_pairs.csv\"\n",
        "df = pd.read_csv(ecoli)\n",
        "\n",
        "# Standardize sequences: strip & convert to uppercase\n",
        "df['host_sequence'] = df['host_sequence'].str.upper().str.strip()\n",
        "df['pathogen_sequence'] = df['pathogen_sequence'].str.upper().str.strip()\n",
        "\n",
        "# Validate sequences\n",
        "df['valid_host'] = df['host_sequence'].apply(is_valid_protein)\n",
        "df['valid_pathogen'] = df['pathogen_sequence'].apply(is_valid_protein)\n",
        "\n",
        "# Filter to keep only valid pairs\n",
        "df_valid = df[df['valid_host'] & df['valid_pathogen']].copy()\n",
        "\n",
        "# Drop helper columns\n",
        "df_valid.drop(columns=['valid_host', 'valid_pathogen'], inplace=True)\n",
        "\n",
        "# Export to CSV\n",
        "df_valid.to_csv(file_path + \"/validated_negativeecoli.csv\", index=False)\n",
        "\n",
        "print(f\"Saved {len(df_valid)} valid HPI pairs to 'validated_negativeecoli.csv'\")\n"
      ],
      "metadata": {
        "id": "Njgy9jjRQs0M",
        "collapsed": true
      },
      "execution_count": null,
      "outputs": []
    },
    {
      "cell_type": "markdown",
      "source": [
        "###Negative Host-Francisella"
      ],
      "metadata": {
        "id": "2K6fCnvdQta-"
      }
    },
    {
      "cell_type": "code",
      "source": [
        "#Load in the data\n",
        "fransicella = file_path + \"/FrancisellaNegativePool.csv\"\n",
        "\n",
        "df = pd.read_csv(fransicella)\n",
        "\n",
        "\n",
        "##creates Host-Pathogen Interaction (HPI) sequence pairs only\n",
        "sequence_pairs = list(zip(df['Host Sequence'], df['Pathogen Sequence']))\n",
        "\n",
        "\n",
        "# Create a new DataFrame with just the sequence pairs\n",
        "sequence_pairs_df = pd.DataFrame(sequence_pairs, columns=['host_sequence', 'pathogen_sequence'])\n",
        "\n",
        "# Save to CSV\n",
        "sequence_pairs_df.to_csv(file_path + '/fransicella_neg_pairs.csv', index=False)\n"
      ],
      "metadata": {
        "id": "BFkCrS3LQz31"
      },
      "execution_count": null,
      "outputs": []
    },
    {
      "cell_type": "code",
      "source": [
        "# Read your sequence pair DataFrame\n",
        "fransicella = file_path+\"/fransicella_neg_pairs.csv\"\n",
        "df = pd.read_csv(fransicella)\n",
        "\n",
        "# Standardize sequences: strip & convert to uppercase\n",
        "df['host_sequence'] = df['host_sequence'].str.upper().str.strip()\n",
        "df['pathogen_sequence'] = df['pathogen_sequence'].str.upper().str.strip()\n",
        "\n",
        "# Validate sequences\n",
        "df['valid_host'] = df['host_sequence'].apply(is_valid_protein)\n",
        "df['valid_pathogen'] = df['pathogen_sequence'].apply(is_valid_protein)\n",
        "\n",
        "# Filter to keep only valid pairs\n",
        "df_valid = df[df['valid_host'] & df['valid_pathogen']].copy()\n",
        "\n",
        "# Drop helper columns\n",
        "df_valid.drop(columns=['valid_host', 'valid_pathogen'], inplace=True)\n",
        "\n",
        "# Export to CSV\n",
        "df_valid.to_csv(file_path + \"/validated_negativefransicella.csv\", index=False)\n",
        "\n",
        "print(f\"Saved {len(df_valid)} valid HPI pairs to 'validated_negativefransicella.csv'\")\n"
      ],
      "metadata": {
        "colab": {
          "base_uri": "https://localhost:8080/"
        },
        "id": "iv3ctcMlQzYB",
        "outputId": "ebc72d7c-2acc-47c0-905a-bf371d3acc9b"
      },
      "execution_count": null,
      "outputs": [
        {
          "output_type": "stream",
          "name": "stdout",
          "text": [
            "Saved 5968 valid HPI pairs to 'validated_negativefransicella.csv'\n"
          ]
        }
      ]
    },
    {
      "cell_type": "markdown",
      "source": [
        "###Negative Host-Yersinia"
      ],
      "metadata": {
        "id": "KGVFKEiiQ0zT"
      }
    },
    {
      "cell_type": "code",
      "source": [
        "#Load in the data\n",
        "yersinia = file_path + \"/YersiniaNegativePool.csv\"\n",
        "\n",
        "df = pd.read_csv(yersinia)\n",
        "\n",
        "\n",
        "##creates Host-Pathogen Interaction (HPI) sequence pairs only\n",
        "sequence_pairs = list(zip(df['Host Sequence'], df['Pathogen Sequence']))\n",
        "\n",
        "\n",
        "# Create a new DataFrame with just the sequence pairs\n",
        "sequence_pairs_df = pd.DataFrame(sequence_pairs, columns=['host_sequence', 'pathogen_sequence'])\n",
        "\n",
        "# Save to CSV\n",
        "sequence_pairs_df.to_csv(file_path + '/yersinia_neg_pairs.csv', index=False)\n"
      ],
      "metadata": {
        "id": "Lt7x4J5dQ5dL"
      },
      "execution_count": null,
      "outputs": []
    },
    {
      "cell_type": "code",
      "source": [
        "# Read your sequence pair DataFrame\n",
        "yersinia = file_path+\"/yersinia_neg_pairs.csv\"\n",
        "df = pd.read_csv(yersinia)\n",
        "\n",
        "# Standardize sequences: strip & convert to uppercase\n",
        "df['host_sequence'] = df['host_sequence'].str.upper().str.strip()\n",
        "df['pathogen_sequence'] = df['pathogen_sequence'].str.upper().str.strip()\n",
        "\n",
        "# Validate sequences\n",
        "df['valid_host'] = df['host_sequence'].apply(is_valid_protein)\n",
        "df['valid_pathogen'] = df['pathogen_sequence'].apply(is_valid_protein)\n",
        "\n",
        "# Filter to keep only valid pairs\n",
        "df_valid = df[df['valid_host'] & df['valid_pathogen']].copy()\n",
        "\n",
        "# Drop helper columns\n",
        "df_valid.drop(columns=['valid_host', 'valid_pathogen'], inplace=True)\n",
        "\n",
        "# Export to CSV\n",
        "df_valid.to_csv(file_path + \"/validated_negativeyersinia.csv\", index=False)\n",
        "\n",
        "print(f\"Saved {len(df_valid)} valid HPI pairs to 'validated_negativeyersinia.csv'\")\n"
      ],
      "metadata": {
        "id": "ErdGaZ6aQ5v6"
      },
      "execution_count": null,
      "outputs": []
    },
    {
      "cell_type": "markdown",
      "source": [
        "#**Ensuring Class Balance After Sequence Validation**\n",
        "After sequence validation, the number of remaining interactions differed between the positive and negative dataset - 4447 positive pairs and 4425 negative pair. To ensure a balanced dataset, we will randomly select equal number of data present in the positive data.\n",
        "\n",
        "\n",
        "Next, from each pool, we will randomly select the same number of pairs in the positive interactions for that specie to ensure a balanced dataset. The selected negative pairs should match the counts below:\n",
        "* 644 for *Bacillus anthracis*\n",
        "* 62 for *Escherichia coli*\n",
        "* 1199 for *Francisella tularensis*\n",
        "* 2542 for *Yersinia pestis*\n"
      ],
      "metadata": {
        "id": "KEPYRwrfxgIO"
      }
    },
    {
      "cell_type": "markdown",
      "source": [
        "###Balanced Negative Bacillus"
      ],
      "metadata": {
        "id": "CJ2DdqZpVZO8"
      }
    },
    {
      "cell_type": "code",
      "source": [
        "import pandas as pd\n",
        "\n",
        "# Load the validated negative data pool\n",
        "negative_pool_df = pd.read_csv(file_path + \"/validated_negativebacillus.csv\")\n",
        "\n",
        "# Randomly sample 644 pairs\n",
        "negative_subset = negative_pool_df.sample(n=644, random_state=42)  # random_state for reproducibility\n",
        "\n",
        "# Save to new file\n",
        "negative_subset.to_csv(file_path + \"/Negative_bacillus_HPI.csv\", index=False)\n",
        "\n",
        "print(\"644 negative pairs randomly selected and saved to 'Negative_bacillus_HPI.csv'\")\n"
      ],
      "metadata": {
        "id": "HbBGgVYeK8J_"
      },
      "execution_count": null,
      "outputs": []
    },
    {
      "cell_type": "markdown",
      "source": [
        "###Balanced Negative Ecoli"
      ],
      "metadata": {
        "id": "4VHyuXbgV6Q0"
      }
    },
    {
      "cell_type": "code",
      "source": [
        "# Load the validated negative data pool\n",
        "negative_pool_df = pd.read_csv(file_path + \"/validated_negativeecoli.csv\")\n",
        "\n",
        "# Randomly sample 62 pairs\n",
        "negative_subset = negative_pool_df.sample(n=62, random_state=42)  # random_state for reproducibility\n",
        "\n",
        "# Save to new file\n",
        "negative_subset.to_csv(file_path + \"/Negative_ecoli_HPI.csv\", index=False)\n",
        "\n",
        "print(\"62 negative pairs randomly selected and saved to 'Negative_ecoli_HPI.csv'\")\n"
      ],
      "metadata": {
        "id": "liROeE79V981"
      },
      "execution_count": null,
      "outputs": []
    },
    {
      "cell_type": "markdown",
      "source": [
        "###Balanced Negative Francisella"
      ],
      "metadata": {
        "id": "Ys2WkWIYV-Yb"
      }
    },
    {
      "cell_type": "code",
      "source": [
        "# Load the validated negative data pool\n",
        "negative_pool_df = pd.read_csv(file_path + \"/validated_negativefransicella.csv\")\n",
        "\n",
        "# Randomly sample 1199 pairs\n",
        "negative_subset = negative_pool_df.sample(n=1199, random_state=42)  # random_state for reproducibility\n",
        "\n",
        "# Save to new file\n",
        "negative_subset.to_csv(file_path + \"/Negative_francisella_HPI.csv\", index=False)\n",
        "\n",
        "print(\"1199 negative pairs randomly selected and saved to 'Negative_francisella_HPI.csv'\")\n"
      ],
      "metadata": {
        "id": "mwEh71SXK7tH"
      },
      "execution_count": null,
      "outputs": []
    },
    {
      "cell_type": "markdown",
      "source": [
        "###Balanced Negative Yersinia"
      ],
      "metadata": {
        "id": "iHE4dn0IWCiW"
      }
    },
    {
      "cell_type": "code",
      "source": [
        "# Load the validated negative data pool\n",
        "negative_pool_df = pd.read_csv(file_path + \"/validated_negativeyersinia.csv\")\n",
        "\n",
        "# Randomly sample 2542 pairs\n",
        "negative_subset = negative_pool_df.sample(n=2542, random_state=42)  # random_state for reproducibility\n",
        "\n",
        "# Save to new file\n",
        "negative_subset.to_csv(file_path + \"/Negative_yersinia_HPI.csv\", index=False)\n",
        "\n",
        "print(\"2542 negative pairs randomly selected and saved to 'Negative_yersinia_HPI.csv'\")\n"
      ],
      "metadata": {
        "id": "zdDT_lwXWM-w"
      },
      "execution_count": null,
      "outputs": []
    },
    {
      "cell_type": "markdown",
      "source": [
        "#**Concatenate the Negative HPI data**\n",
        "This will form the Negative dataset"
      ],
      "metadata": {
        "id": "uH2ADVT6XRsW"
      }
    },
    {
      "cell_type": "code",
      "source": [
        "# Load the individual negative datasets\n",
        "bacillus_df = pd.read_csv(file_path + \"/Negative_bacillus_HPI.csv\")\n",
        "ecoli_df = pd.read_csv(file_path + \"/Negative_ecoli_HPI.csv\")\n",
        "francisella_df = pd.read_csv(file_path + \"/Negative_francisella_HPI.csv\")\n",
        "yersinia_df = pd.read_csv(file_path +  \"/Negative_yersinia_HPI.csv\")\n",
        "\n",
        "# Concatenate all datasets into a single dataframe\n",
        "negative_dataset = pd.concat([bacillus_df, ecoli_df, francisella_df, yersinia_df], ignore_index=True)\n",
        "\n",
        "# Save the final combined dataset\n",
        "negative_dataset.to_csv(file_path + \"/combined_negative_HPI_dataset.csv\", index=False)\n",
        "\n",
        "print(\"All negative datasets have been concatenated and saved to 'combined_negative_HPI_dataset.csv'.\")\n",
        "len(negative_dataset)"
      ],
      "metadata": {
        "id": "HGuKooyKXaWJ"
      },
      "execution_count": null,
      "outputs": []
    },
    {
      "cell_type": "markdown",
      "source": [
        "# Merge and Label positive and Negative Data\n",
        "Merge the the positive and negative dataset into a single dataset and set labels as 1 for positive and 0 for negative."
      ],
      "metadata": {
        "id": "1lB6RY3K2bE0"
      }
    },
    {
      "cell_type": "code",
      "source": [
        "#Load the datasets\n",
        "df_pos = pd.read_csv((file_path + \"/AllpositiveHPI.csv\"))\n",
        "df_neg = pd.read_csv((file_path + \"/combined_negative_HPI_dataset.csv\"))\n",
        "\n",
        "#Add Labels\n",
        "df_pos['label'] = 1  # Positive interactions\n",
        "df_neg['label'] = 0  # Negative interactions\n",
        "\n",
        "#Merge into one dataset\n",
        "df_combined = pd.concat([df_pos, df_neg], ignore_index=True)\n",
        "\n",
        "#Shuffle the dataset\n",
        "df_combined = df_combined.sample(frac=1, random_state=42).reset_index(drop=True)\n",
        "\n",
        "#Save\n",
        "df_combined.to_csv(file_path + \"/merged_hpi_dataset.csv\", index=False)\n",
        "\n",
        "print(f\"Merged dataset saved: {df_combined.shape[0]} rows\")\n",
        "\n",
        "\n"
      ],
      "metadata": {
        "id": "0A4siGgS2uVq"
      },
      "execution_count": null,
      "outputs": []
    },
    {
      "cell_type": "code",
      "source": [
        "len(df_combined)"
      ],
      "metadata": {
        "id": "X3gdiDGhY5Zq"
      },
      "execution_count": null,
      "outputs": []
    },
    {
      "cell_type": "markdown",
      "source": [
        "**Now the dataset is ready for feature extraction in the next notebook.**"
      ],
      "metadata": {
        "id": "aVR4UDLHgn9M"
      }
    }
  ]
}