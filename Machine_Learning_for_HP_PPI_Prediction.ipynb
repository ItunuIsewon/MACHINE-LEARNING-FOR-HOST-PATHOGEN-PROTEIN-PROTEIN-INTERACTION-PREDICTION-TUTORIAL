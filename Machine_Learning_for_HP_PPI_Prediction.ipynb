{
  "nbformat": 4,
  "nbformat_minor": 0,
  "metadata": {
    "colab": {
      "provenance": [],
      "include_colab_link": true
    },
    "kernelspec": {
      "name": "python3",
      "display_name": "Python 3"
    },
    "language_info": {
      "name": "python"
    }
  },
  "cells": [
    {
      "cell_type": "markdown",
      "metadata": {
        "id": "view-in-github",
        "colab_type": "text"
      },
      "source": [
        "<a href=\"https://colab.research.google.com/github/ItunuIsewon/MACHINE-LEARNING-FOR-HOST-PATHOGEN-PROTEIN-PROTEIN-INTERACTION-PREDICTION-TUTORIAL/blob/main/Machine_Learning_for_HP_PPI_Prediction.ipynb\" target=\"_parent\"><img src=\"https://colab.research.google.com/assets/colab-badge.svg\" alt=\"Open In Colab\"/></a>"
      ]
    },
    {
      "cell_type": "markdown",
      "source": [
        "Machine Learning for Host-Pathogen Protein-Protein Interaction Prediction.\n",
        "\n",
        "In this final notebook, we are going to demonstrate the efficiency of 6 different ML algorithms, namely: Logistic Regression, Support Vector Machine (SVM), Random Forest, XGBoost, LightGBM and Multiplayer perceptron, to predict HP-PPI using the features extracted in the previous notebook. We will demonstrate this using features extracted with the amino acid composition (AAC) descriptor."
      ],
      "metadata": {
        "id": "ROX_qBOTrDhS"
      }
    },
    {
      "cell_type": "markdown",
      "source": [
        "##Install necessary packages"
      ],
      "metadata": {
        "id": "fN99lMWxrKE_"
      }
    },
    {
      "cell_type": "code",
      "source": [
        "#Mounting Google Drive to access files\n",
        "import os\n",
        "from google.colab import drive\n",
        "drive.mount ('/content/my_drive')\n",
        "\n",
        "#import pandas for data manipulation\n",
        "import pandas as pd\n"
      ],
      "metadata": {
        "colab": {
          "base_uri": "https://localhost:8080/"
        },
        "id": "Fb07yf0ArXJz",
        "outputId": "4d066a13-19b8-4aa4-980e-a8b62f04c6ac"
      },
      "execution_count": null,
      "outputs": [
        {
          "output_type": "stream",
          "name": "stdout",
          "text": [
            "Mounted at /content/my_drive\n"
          ]
        }
      ]
    },
    {
      "cell_type": "markdown",
      "source": [
        "##Step 1: Load and Prepare the dataset\n"
      ],
      "metadata": {
        "id": "J_FeU_8u6-Sd"
      }
    },
    {
      "cell_type": "code",
      "source": [
        "file_path = '/content/my_drive/My Drive/HPI/Features'\n",
        "# Load the feature-extracted data\n",
        "df = pd.read_csv(file_path + \"/aac_features.csv\")\n",
        "\n",
        "# From the dataset, separate features (X) and label (y)\n",
        "X = df.drop(columns=['label'])  # feature matrix\n",
        "y = df['label']  # target vector\n"
      ],
      "metadata": {
        "id": "K-RFn9Fc7O9u"
      },
      "execution_count": null,
      "outputs": []
    },
    {
      "cell_type": "markdown",
      "source": [
        "##Step 2: Split the dataset\n",
        "In this step, we will divide our dataset into two parts:\n",
        "* 80% for training the model and\n",
        "* 20% for testing to evaluate the performace of the model.\n",
        "\n",
        "For spliting, we use stratified spliting to ensure that both the training data and testing data have the same proportion of positive and negative interaction pairs as in the original dataset."
      ],
      "metadata": {
        "id": "DPD7Z75T7mxK"
      }
    },
    {
      "cell_type": "code",
      "source": [
        "from sklearn.model_selection import train_test_split\n",
        "\n",
        "# Use stratified split to maintain class balance\n",
        "X_train, X_test, y_train, y_test = train_test_split(\n",
        "    X, y, test_size=0.2, random_state=42, stratify=y\n",
        ")\n"
      ],
      "metadata": {
        "id": "14B71PgR-nba"
      },
      "execution_count": null,
      "outputs": []
    },
    {
      "cell_type": "markdown",
      "source": [
        "##Step 3: Normalize the Data\n",
        "Some machine learning algorithms, such as SVM, Logistic Regression and MLP, are sensitive to the scale of input features, because large variations in the values of the features can impact their performance negatively.\n",
        "In this step, for these models, we normalize the data so that all features have the same scale"
      ],
      "metadata": {
        "id": "0UWyuyZp_C5c"
      }
    },
    {
      "cell_type": "code",
      "source": [
        "from sklearn.preprocessing import StandardScaler\n",
        "\n",
        "# Initialize the scaler\n",
        "scaler = StandardScaler()\n",
        "\n",
        "# Fit on training data, then transform both training and test data\n",
        "X_train_scaled = scaler.fit_transform(X_train)\n",
        "X_test_scaled = scaler.transform(X_test)\n"
      ],
      "metadata": {
        "id": "QAp9G0wpA8XU"
      },
      "execution_count": null,
      "outputs": []
    },
    {
      "cell_type": "markdown",
      "source": [
        "##Step 4: Define Machine Learning Models\n",
        "We define the ML models that will be trained to predict HP-PPIs. We selected these models because they are commonly used for classification tasks. These models also represent different learning strategies from linear models (Logistic Regression), Tree-based models (Random Forest, XGBoost, LightGBM) and Neural networks (MLP).\n",
        "\n",
        "Each of the model is initialized  with specific parameters to ensure stable performance and reproducibiity."
      ],
      "metadata": {
        "id": "2DCmKTGiBY8h"
      }
    },
    {
      "cell_type": "code",
      "source": [
        "from sklearn.linear_model import LogisticRegression\n",
        "from sklearn.svm import SVC\n",
        "from sklearn.ensemble import RandomForestClassifier\n",
        "from xgboost import XGBClassifier\n",
        "from lightgbm import LGBMClassifier\n",
        "from sklearn.neural_network import MLPClassifier\n",
        "\n",
        "# Define all models in a dictionary\n",
        "models = {\n",
        "    \"Logistic Regression\": LogisticRegression(max_iter=1000),  # increased max_iter for convergence\n",
        "    \"SVM\": SVC(probability=True),  # enables probability outputs for AUC-ROC evaluation\n",
        "    \"Random Forest\": RandomForestClassifier(n_estimators=100, random_state=42),  # random state for reproducibility\n",
        "    \"XGBoost\": XGBClassifier(use_label_encoder=False, eval_metric='logloss'),  # suppresses warning for newer versions\n",
        "    \"LightGBM\": LGBMClassifier(n_estimators=100, random_state=42),\n",
        "    \"MLP\": MLPClassifier(hidden_layer_sizes=(128, 64), max_iter=300, random_state=42)  # a basic 2-layer neural network\n",
        "}\n"
      ],
      "metadata": {
        "id": "8KR_yHJAKeca"
      },
      "execution_count": null,
      "outputs": []
    },
    {
      "cell_type": "markdown",
      "source": [
        "##Step 5: Define Evaluation Function\n",
        "Evaluation Metrics: For each model, we will compute the following metrices:\n",
        "* Accuracy: Proportion of correct predictions.\n",
        "* Sensitivity (Recall): Proportion of true positives in all positive predictions.\n",
        "* Specificity: Proportion of true negatives in all negative predictions.\n",
        "* F1 Score: Harmonic mean of precision and recall.\n",
        "* Matthew's Correlation Coefficient (MCC): Measures correlation coefficient of true labels and predicted class.\n",
        "* AUROC: Area under the ROC curve"
      ],
      "metadata": {
        "id": "L4ebb60tLLiV"
      }
    },
    {
      "cell_type": "code",
      "source": [
        "from sklearn.metrics import (\n",
        "    accuracy_score, recall_score, f1_score,\n",
        "    matthews_corrcoef, roc_auc_score,\n",
        "    classification_report, confusion_matrix\n",
        ")\n",
        "\n",
        "# Evaluation function to calculate metrics\n",
        "def evaluate_model(name, y_true, y_pred, y_prob):\n",
        "    cm = confusion_matrix(y_true, y_pred)\n",
        "    tn, fp, fn, tp = cm.ravel()\n",
        "\n",
        "    metrics = {\n",
        "        \"Model\": name,\n",
        "        \"Accuracy\": accuracy_score(y_true, y_pred),\n",
        "        \"Sensitivity\": recall_score(y_true, y_pred),\n",
        "        \"Specificity\": tn / (tn + fp) if (tn + fp) else 0,\n",
        "        \"F1 Score\": f1_score(y_true, y_pred),\n",
        "        \"MCC\": matthews_corrcoef(y_true, y_pred),\n",
        "        \"AUC-ROC\": roc_auc_score(y_true, y_prob)\n",
        "    }\n",
        "    return metrics\n",
        "\n"
      ],
      "metadata": {
        "id": "LRPkJjbBTb9t"
      },
      "execution_count": null,
      "outputs": []
    },
    {
      "cell_type": "markdown",
      "source": [
        "##Step 6: Training, Prediction and Evaluation\n",
        "In this step, we will train the ML models on the training data and evaluate their performance using the test data.\n",
        "\n",
        "**Training:** Scaled data will be used for Logistic regression, SVM and MLP, while raw data will be used for Random Forest, XGBoost and LightGBM.\n",
        "\n",
        "**Prediction:** After training, the model is used to predict if the protein pairs in the test data are interacting or non-interacting.\n",
        "\n",
        "**Evaluation:** The performance of the model in predicting the interaction status of the test data is evaluated using the performance metrics defined above."
      ],
      "metadata": {
        "id": "TO7DHKasY04-"
      }
    },
    {
      "cell_type": "code",
      "source": [
        "results = []  # Store results from all models\n",
        "\n",
        "for name, model in models.items():\n",
        "    print(f\"\\n {name}\")\n",
        "\n",
        "    # Use scaled data for models that require it\n",
        "    if name in [\"SVM\", \"Logistic Regression\", \"MLP\"]:\n",
        "        model.fit(X_train_scaled, y_train)\n",
        "        y_pred = model.predict(X_test_scaled)\n",
        "        y_prob = model.predict_proba(X_test_scaled)[:, 1]\n",
        "    else:\n",
        "        model.fit(X_train, y_train)\n",
        "        y_pred = model.predict(X_test)\n",
        "        y_prob = model.predict_proba(X_test)[:, 1]\n",
        "\n",
        "    print(classification_report(y_test, y_pred, digits=4))\n",
        "    metrics = evaluate_model(name, y_test, y_pred, y_prob)\n",
        "    results.append(metrics)\n"
      ],
      "metadata": {
        "colab": {
          "base_uri": "https://localhost:8080/"
        },
        "id": "91DvpwUYcmPn",
        "outputId": "cf1abb60-3fca-40e4-d741-40f66c0fe68a"
      },
      "execution_count": null,
      "outputs": [
        {
          "output_type": "stream",
          "name": "stdout",
          "text": [
            "\n",
            " Logistic Regression\n",
            "              precision    recall  f1-score   support\n",
            "\n",
            "           0     0.7060    0.6663    0.6855       890\n",
            "           1     0.6837    0.7222    0.7024       889\n",
            "\n",
            "    accuracy                         0.6942      1779\n",
            "   macro avg     0.6948    0.6942    0.6940      1779\n",
            "weighted avg     0.6948    0.6942    0.6940      1779\n",
            "\n",
            "\n",
            " SVM\n",
            "              precision    recall  f1-score   support\n",
            "\n",
            "           0     0.7868    0.7506    0.7683       890\n",
            "           1     0.7613    0.7964    0.7784       889\n",
            "\n",
            "    accuracy                         0.7735      1779\n",
            "   macro avg     0.7740    0.7735    0.7734      1779\n",
            "weighted avg     0.7741    0.7735    0.7734      1779\n",
            "\n",
            "\n",
            " Random Forest\n",
            "              precision    recall  f1-score   support\n",
            "\n",
            "           0     0.8337    0.8281    0.8309       890\n",
            "           1     0.8291    0.8346    0.8318       889\n",
            "\n",
            "    accuracy                         0.8314      1779\n",
            "   macro avg     0.8314    0.8314    0.8314      1779\n",
            "weighted avg     0.8314    0.8314    0.8314      1779\n",
            "\n",
            "\n",
            " XGBoost\n"
          ]
        },
        {
          "output_type": "stream",
          "name": "stderr",
          "text": [
            "/usr/local/lib/python3.12/dist-packages/xgboost/training.py:183: UserWarning: [22:28:31] WARNING: /workspace/src/learner.cc:738: \n",
            "Parameters: { \"use_label_encoder\" } are not used.\n",
            "\n",
            "  bst.update(dtrain, iteration=i, fobj=obj)\n"
          ]
        },
        {
          "output_type": "stream",
          "name": "stdout",
          "text": [
            "              precision    recall  f1-score   support\n",
            "\n",
            "           0     0.8677    0.8404    0.8539       890\n",
            "           1     0.8451    0.8718    0.8583       889\n",
            "\n",
            "    accuracy                         0.8561      1779\n",
            "   macro avg     0.8564    0.8561    0.8561      1779\n",
            "weighted avg     0.8565    0.8561    0.8561      1779\n",
            "\n",
            "\n",
            " LightGBM\n",
            "[LightGBM] [Info] Number of positive: 3558, number of negative: 3557\n",
            "[LightGBM] [Info] Auto-choosing col-wise multi-threading, the overhead of testing was 0.003452 seconds.\n",
            "You can set `force_col_wise=true` to remove the overhead.\n",
            "[LightGBM] [Info] Total Bins 10200\n",
            "[LightGBM] [Info] Number of data points in the train set: 7115, number of used features: 40\n",
            "[LightGBM] [Info] [binary:BoostFromScore]: pavg=0.500070 -> initscore=0.000281\n",
            "[LightGBM] [Info] Start training from score 0.000281\n",
            "              precision    recall  f1-score   support\n",
            "\n",
            "           0     0.8375    0.8225    0.8299       890\n",
            "           1     0.8254    0.8403    0.8328       889\n",
            "\n",
            "    accuracy                         0.8314      1779\n",
            "   macro avg     0.8315    0.8314    0.8314      1779\n",
            "weighted avg     0.8315    0.8314    0.8314      1779\n",
            "\n",
            "\n",
            " MLP\n",
            "              precision    recall  f1-score   support\n",
            "\n",
            "           0     0.7450    0.7551    0.7500       890\n",
            "           1     0.7514    0.7413    0.7463       889\n",
            "\n",
            "    accuracy                         0.7482      1779\n",
            "   macro avg     0.7482    0.7482    0.7482      1779\n",
            "weighted avg     0.7482    0.7482    0.7482      1779\n",
            "\n"
          ]
        }
      ]
    },
    {
      "cell_type": "markdown",
      "source": [
        "##Step 7: Save the results"
      ],
      "metadata": {
        "id": "ie0XmCLZc8PL"
      }
    },
    {
      "cell_type": "code",
      "source": [
        "import pandas as pd\n",
        "\n",
        "# Save all metrics into a CSV file\n",
        "results_df = pd.DataFrame(results)\n",
        "\n",
        "results_df.to_csv(file_path + \"/AACmodel_evaluation_results.csv\", index=False)\n",
        "\n",
        "print(\"Results saved\")\n"
      ],
      "metadata": {
        "colab": {
          "base_uri": "https://localhost:8080/"
        },
        "id": "FIvyqNjMdIFW",
        "outputId": "6fc36087-2e0e-46b1-e2f5-1bfa3a78628a"
      },
      "execution_count": null,
      "outputs": [
        {
          "output_type": "stream",
          "name": "stdout",
          "text": [
            "Results saved\n"
          ]
        }
      ]
    },
    {
      "cell_type": "markdown",
      "source": [
        "##Step 8: Visualising Model Evaluation Metrics\n"
      ],
      "metadata": {
        "id": "HT7llZSZdKQ2"
      }
    },
    {
      "cell_type": "markdown",
      "source": [
        "###Using Clustered Column Chart (Grouped Bar Chart)"
      ],
      "metadata": {
        "id": "pVRu7mxPCABp"
      }
    },
    {
      "cell_type": "code",
      "source": [
        "import pandas as pd\n",
        "import matplotlib.pyplot as plt\n",
        "import seaborn as sns\n",
        "\n",
        "# Load the evaluation results\n",
        "results_df = pd.read_csv(file_path + \"/AACmodel_evaluation_results.csv\")\n",
        "\n",
        "# Metrics to plot\n",
        "metrics = [\"Accuracy\", \"Sensitivity\", \"Specificity\", \"F1 Score\", \"MCC\", \"AUC-ROC\"]\n",
        "\n",
        "# Melt the DataFrame for grouped bar plotting\n",
        "df_melted = results_df.melt(id_vars=[\"Model\"],\n",
        "                            value_vars=metrics,\n",
        "                            var_name=\"Metric\",\n",
        "                            value_name=\"Score\")\n",
        "\n",
        "# Plot\n",
        "plt.figure(figsize=(12, 6))\n",
        "sns.barplot(data=df_melted, x=\"Metric\", y=\"Score\", hue=\"Model\", palette=\"Set2\")\n",
        "\n",
        "plt.title(\"AAC Evaluation Metrics Across Models\", fontsize=16)\n",
        "plt.ylabel(\"Score\")\n",
        "plt.xticks(rotation=0)\n",
        "plt.ylim(0, 1)  # since most metrics range between 0 and 1\n",
        "plt.legend(title=\"Model\", bbox_to_anchor=(1.05, 1), loc=\"upper left\")\n",
        "plt.tight_layout()\n",
        "plt.show()\n"
      ],
      "metadata": {
        "colab": {
          "base_uri": "https://localhost:8080/",
          "height": 607
        },
        "id": "1AzhkLpxhk_M",
        "outputId": "7577264a-d187-49d2-e61e-ae7db2e0bbc4"
      },
      "execution_count": null,
      "outputs": [
        {
          "output_type": "display_data",
          "data": {
            "text/plain": [
              "<Figure size 1200x600 with 1 Axes>"
            ],
            "image/png": "[encoded data removed]"
          },
          "metadata": {}
        }
      ]
    },
    {
      "cell_type": "markdown",
      "source": [
        "###HeatMap"
      ],
      "metadata": {
        "id": "vGWWCsEkCjWU"
      }
    },
    {
      "cell_type": "code",
      "source": [
        "import pandas as pd\n",
        "import seaborn as sns\n",
        "import matplotlib.pyplot as plt\n",
        "\n",
        "# Load your results\n",
        "results_df = pd.read_csv(file_path + \"/AACmodel_evaluation_results.csv\")\n",
        "\n",
        "# Set the model names as index\n",
        "results_df.set_index(\"Model\", inplace=True)\n",
        "\n",
        "# Select only metric columns (excluding 'Model' if still present)\n",
        "metrics = [\"Accuracy\", \"Sensitivity\", \"Specificity\", \"F1 Score\", \"MCC\", \"AUC-ROC\"]\n",
        "heatmap_data = results_df[metrics]\n",
        "\n",
        "# Plot heatmap\n",
        "plt.figure(figsize=(10, 6))\n",
        "sns.heatmap(heatmap_data, annot=True, fmt=\".3f\", cmap=\"YlGnBu\", cbar_kws={\"label\": \"Score\"})\n",
        "\n",
        "plt.title(\"AAC Model Performance Heatmap\", fontsize=16)\n",
        "plt.xlabel(\"Metrics\")\n",
        "plt.ylabel(\"Models\")\n",
        "plt.tight_layout()\n",
        "plt.show()\n"
      ],
      "metadata": {
        "colab": {
          "base_uri": "https://localhost:8080/",
          "height": 607
        },
        "id": "WilqKrKhiNq8",
        "outputId": "25c60e40-15ab-4587-d6b8-471d25be44da"
      },
      "execution_count": null,
      "outputs": [
        {
          "output_type": "display_data",
          "data": {
            "text/plain": [
              "<Figure size 1000x600 with 2 Axes>"
            ],
            "image/png": "[encoded data removed]"
          },
          "metadata": {}
        }
      ]
    },
    {
      "cell_type": "markdown",
      "source": [
        "##Step 9: Cross Validation\n",
        "Cross validation is another way of training and evaluating the performance of the ML models. Unlike the single train-test split, the model is tested on different subset (fold) of the data and performance is avaerage over the multiple folds.\n",
        "\n",
        "In K-fold cross validation:\n",
        "* The dataset is divided into k equal part (k here is  10).\n",
        "* The ML model are trained on k-1 folds (in this case 9) and tested on the remaining one.\n",
        "* This process is repeated k times, each with a different test fold every time.\n",
        "* The final evaluation metrics will then be calculated as the average score across all 10 folds"
      ],
      "metadata": {
        "id": "WBplR0uymvWv"
      }
    },
    {
      "cell_type": "code",
      "source": [
        "from sklearn.model_selection import StratifiedKFold\n",
        "from sklearn.metrics import accuracy_score, recall_score, f1_score, matthews_corrcoef, roc_auc_score\n",
        "import numpy as np\n",
        "\n",
        "# Number of folds\n",
        "k = 10\n",
        "skf = StratifiedKFold(n_splits=k, shuffle=True, random_state=42)\n",
        "\n",
        "# Dictionary to store averaged results\n",
        "cv_results = []\n",
        "\n",
        "# Loop through models\n",
        "for name, model in models.items():\n",
        "    print(f\"Cross-validating: {name}\")\n",
        "\n",
        "    # Lists to hold fold scores\n",
        "    accs, sens, specs, f1s, mccs, aucs = [], [], [], [], [], []\n",
        "\n",
        "    for train_index, test_index in skf.split(X, y):\n",
        "        X_train, X_val = X.iloc[train_index], X.iloc[test_index]\n",
        "        y_train, y_val = y.iloc[train_index], y.iloc[test_index]\n",
        "\n",
        "        # Scale data if needed\n",
        "        if name in [\"SVM\", \"Logistic Regression\", \"MLP\"]:\n",
        "            scaler = StandardScaler()\n",
        "            X_train = scaler.fit_transform(X_train)\n",
        "            X_val = scaler.transform(X_val)\n",
        "\n",
        "        # Fit model and predict\n",
        "        model.fit(X_train, y_train)\n",
        "        y_pred = model.predict(X_val)\n",
        "        y_prob = model.predict_proba(X_val)[:, 1]\n",
        "\n",
        "        # Confusion matrix\n",
        "        tn = ((y_val == 0) & (y_pred == 0)).sum()\n",
        "        fp = ((y_val == 0) & (y_pred == 1)).sum()\n",
        "        fn = ((y_val == 1) & (y_pred == 0)).sum()\n",
        "        tp = ((y_val == 1) & (y_pred == 1)).sum()\n",
        "\n",
        "        # Store scores\n",
        "        accs.append(accuracy_score(y_val, y_pred))\n",
        "        sens.append(recall_score(y_val, y_pred))\n",
        "        specs.append(tn / (tn + fp) if (tn + fp) else 0)\n",
        "        f1s.append(f1_score(y_val, y_pred))\n",
        "        mccs.append(matthews_corrcoef(y_val, y_pred))\n",
        "        aucs.append(roc_auc_score(y_val, y_prob))\n",
        "\n",
        "    # Save average metrics\n",
        "    cv_results.append({\n",
        "        \"Model\": name,\n",
        "        \"Accuracy\": np.mean(accs),\n",
        "        \"Sensitivity\": np.mean(sens),\n",
        "        \"Specificity\": np.mean(specs),\n",
        "        \"F1 Score\": np.mean(f1s),\n",
        "        \"MCC\": np.mean(mccs),\n",
        "        \"AUC-ROC\": np.mean(aucs),\n",
        "    })\n",
        "\n",
        "# Convert to DataFrame\n",
        "cv_df = pd.DataFrame(cv_results)\n",
        "cv_df.to_csv(file_path + \"/cross_validated_results.csv\", index=False)\n",
        "print(\"Cross-validated results saved as 'cross_validated_results.csv'\")\n"
      ],
      "metadata": {
        "colab": {
          "base_uri": "https://localhost:8080/"
        },
        "id": "841oW7iZmz0G",
        "outputId": "7cfd2e42-ee7b-464b-d581-f571fc7ba5ed"
      },
      "execution_count": null,
      "outputs": [
        {
          "output_type": "stream",
          "name": "stdout",
          "text": [
            "Cross-validating: Logistic Regression\n",
            "Cross-validating: SVM\n",
            "Cross-validating: Random Forest\n",
            "Cross-validating: XGBoost\n"
          ]
        },
        {
          "output_type": "stream",
          "name": "stderr",
          "text": [
            "/usr/local/lib/python3.12/dist-packages/xgboost/training.py:183: UserWarning: [22:36:13] WARNING: /workspace/src/learner.cc:738: \n",
            "Parameters: { \"use_label_encoder\" } are not used.\n",
            "\n",
            "  bst.update(dtrain, iteration=i, fobj=obj)\n",
            "/usr/local/lib/python3.12/dist-packages/xgboost/training.py:183: UserWarning: [22:36:17] WARNING: /workspace/src/learner.cc:738: \n",
            "Parameters: { \"use_label_encoder\" } are not used.\n",
            "\n",
            "  bst.update(dtrain, iteration=i, fobj=obj)\n",
            "/usr/local/lib/python3.12/dist-packages/xgboost/training.py:183: UserWarning: [22:36:18] WARNING: /workspace/src/learner.cc:738: \n",
            "Parameters: { \"use_label_encoder\" } are not used.\n",
            "\n",
            "  bst.update(dtrain, iteration=i, fobj=obj)\n",
            "/usr/local/lib/python3.12/dist-packages/xgboost/training.py:183: UserWarning: [22:36:20] WARNING: /workspace/src/learner.cc:738: \n",
            "Parameters: { \"use_label_encoder\" } are not used.\n",
            "\n",
            "  bst.update(dtrain, iteration=i, fobj=obj)\n",
            "/usr/local/lib/python3.12/dist-packages/xgboost/training.py:183: UserWarning: [22:36:21] WARNING: /workspace/src/learner.cc:738: \n",
            "Parameters: { \"use_label_encoder\" } are not used.\n",
            "\n",
            "  bst.update(dtrain, iteration=i, fobj=obj)\n",
            "/usr/local/lib/python3.12/dist-packages/xgboost/training.py:183: UserWarning: [22:36:22] WARNING: /workspace/src/learner.cc:738: \n",
            "Parameters: { \"use_label_encoder\" } are not used.\n",
            "\n",
            "  bst.update(dtrain, iteration=i, fobj=obj)\n",
            "/usr/local/lib/python3.12/dist-packages/xgboost/training.py:183: UserWarning: [22:36:24] WARNING: /workspace/src/learner.cc:738: \n",
            "Parameters: { \"use_label_encoder\" } are not used.\n",
            "\n",
            "  bst.update(dtrain, iteration=i, fobj=obj)\n",
            "/usr/local/lib/python3.12/dist-packages/xgboost/training.py:183: UserWarning: [22:36:25] WARNING: /workspace/src/learner.cc:738: \n",
            "Parameters: { \"use_label_encoder\" } are not used.\n",
            "\n",
            "  bst.update(dtrain, iteration=i, fobj=obj)\n",
            "/usr/local/lib/python3.12/dist-packages/xgboost/training.py:183: UserWarning: [22:36:26] WARNING: /workspace/src/learner.cc:738: \n",
            "Parameters: { \"use_label_encoder\" } are not used.\n",
            "\n",
            "  bst.update(dtrain, iteration=i, fobj=obj)\n",
            "/usr/local/lib/python3.12/dist-packages/xgboost/training.py:183: UserWarning: [22:36:30] WARNING: /workspace/src/learner.cc:738: \n",
            "Parameters: { \"use_label_encoder\" } are not used.\n",
            "\n",
            "  bst.update(dtrain, iteration=i, fobj=obj)\n"
          ]
        },
        {
          "output_type": "stream",
          "name": "stdout",
          "text": [
            "Cross-validating: LightGBM\n",
            "[LightGBM] [Info] Number of positive: 4002, number of negative: 4002\n",
            "[LightGBM] [Info] Auto-choosing col-wise multi-threading, the overhead of testing was 0.003793 seconds.\n",
            "You can set `force_col_wise=true` to remove the overhead.\n",
            "[LightGBM] [Info] Total Bins 10200\n",
            "[LightGBM] [Info] Number of data points in the train set: 8004, number of used features: 40\n",
            "[LightGBM] [Info] [binary:BoostFromScore]: pavg=0.500000 -> initscore=0.000000\n",
            "[LightGBM] [Info] Number of positive: 4002, number of negative: 4002\n",
            "[LightGBM] [Info] Auto-choosing col-wise multi-threading, the overhead of testing was 0.004051 seconds.\n",
            "You can set `force_col_wise=true` to remove the overhead.\n",
            "[LightGBM] [Info] Total Bins 10200\n",
            "[LightGBM] [Info] Number of data points in the train set: 8004, number of used features: 40\n",
            "[LightGBM] [Info] [binary:BoostFromScore]: pavg=0.500000 -> initscore=0.000000\n",
            "[LightGBM] [Info] Number of positive: 4002, number of negative: 4002\n",
            "[LightGBM] [Info] Auto-choosing col-wise multi-threading, the overhead of testing was 0.004038 seconds.\n",
            "You can set `force_col_wise=true` to remove the overhead.\n",
            "[LightGBM] [Info] Total Bins 10200\n",
            "[LightGBM] [Info] Number of data points in the train set: 8004, number of used features: 40\n",
            "[LightGBM] [Info] [binary:BoostFromScore]: pavg=0.500000 -> initscore=0.000000\n",
            "[LightGBM] [Info] Number of positive: 4002, number of negative: 4002\n",
            "[LightGBM] [Info] Auto-choosing col-wise multi-threading, the overhead of testing was 0.003953 seconds.\n",
            "You can set `force_col_wise=true` to remove the overhead.\n",
            "[LightGBM] [Info] Total Bins 10200\n",
            "[LightGBM] [Info] Number of data points in the train set: 8004, number of used features: 40\n",
            "[LightGBM] [Info] [binary:BoostFromScore]: pavg=0.500000 -> initscore=0.000000\n",
            "[LightGBM] [Info] Number of positive: 4003, number of negative: 4002\n",
            "[LightGBM] [Info] Auto-choosing col-wise multi-threading, the overhead of testing was 0.004113 seconds.\n",
            "You can set `force_col_wise=true` to remove the overhead.\n",
            "[LightGBM] [Info] Total Bins 10200\n",
            "[LightGBM] [Info] Number of data points in the train set: 8005, number of used features: 40\n",
            "[LightGBM] [Info] [binary:BoostFromScore]: pavg=0.500062 -> initscore=0.000250\n",
            "[LightGBM] [Info] Start training from score 0.000250\n",
            "[LightGBM] [Info] Number of positive: 4003, number of negative: 4002\n",
            "[LightGBM] [Info] Auto-choosing col-wise multi-threading, the overhead of testing was 0.004055 seconds.\n",
            "You can set `force_col_wise=true` to remove the overhead.\n",
            "[LightGBM] [Info] Total Bins 10200\n",
            "[LightGBM] [Info] Number of data points in the train set: 8005, number of used features: 40\n",
            "[LightGBM] [Info] [binary:BoostFromScore]: pavg=0.500062 -> initscore=0.000250\n",
            "[LightGBM] [Info] Start training from score 0.000250\n",
            "[LightGBM] [Info] Number of positive: 4003, number of negative: 4002\n",
            "[LightGBM] [Info] Auto-choosing col-wise multi-threading, the overhead of testing was 0.003968 seconds.\n",
            "You can set `force_col_wise=true` to remove the overhead.\n",
            "[LightGBM] [Info] Total Bins 10200\n",
            "[LightGBM] [Info] Number of data points in the train set: 8005, number of used features: 40\n",
            "[LightGBM] [Info] [binary:BoostFromScore]: pavg=0.500062 -> initscore=0.000250\n",
            "[LightGBM] [Info] Start training from score 0.000250\n",
            "[LightGBM] [Info] Number of positive: 4002, number of negative: 4003\n",
            "[LightGBM] [Info] Auto-choosing col-wise multi-threading, the overhead of testing was 0.004037 seconds.\n",
            "You can set `force_col_wise=true` to remove the overhead.\n",
            "[LightGBM] [Info] Total Bins 10200\n",
            "[LightGBM] [Info] Number of data points in the train set: 8005, number of used features: 40\n",
            "[LightGBM] [Info] [binary:BoostFromScore]: pavg=0.499938 -> initscore=-0.000250\n",
            "[LightGBM] [Info] Start training from score -0.000250\n",
            "[LightGBM] [Info] Number of positive: 4002, number of negative: 4003\n",
            "[LightGBM] [Info] Auto-choosing col-wise multi-threading, the overhead of testing was 0.004636 seconds.\n",
            "You can set `force_col_wise=true` to remove the overhead.\n",
            "[LightGBM] [Info] Total Bins 10200\n",
            "[LightGBM] [Info] Number of data points in the train set: 8005, number of used features: 40\n",
            "[LightGBM] [Info] [binary:BoostFromScore]: pavg=0.499938 -> initscore=-0.000250\n",
            "[LightGBM] [Info] Start training from score -0.000250\n",
            "[LightGBM] [Info] Number of positive: 4002, number of negative: 4003\n",
            "[LightGBM] [Info] Auto-choosing col-wise multi-threading, the overhead of testing was 0.004055 seconds.\n",
            "You can set `force_col_wise=true` to remove the overhead.\n",
            "[LightGBM] [Info] Total Bins 10200\n",
            "[LightGBM] [Info] Number of data points in the train set: 8005, number of used features: 40\n",
            "[LightGBM] [Info] [binary:BoostFromScore]: pavg=0.499938 -> initscore=-0.000250\n",
            "[LightGBM] [Info] Start training from score -0.000250\n",
            "Cross-validating: MLP\n",
            "Cross-validated results saved as 'cross_validated_results.csv'\n"
          ]
        }
      ]
    },
    {
      "cell_type": "code",
      "source": [
        "import seaborn as sns\n",
        "import matplotlib.pyplot as plt\n",
        "\n",
        "# Set plot style\n",
        "plt.figure(figsize=(12, 6))\n",
        "heatmap_data = cv_df.set_index(\"Model\")  # use Model names as row labels\n",
        "\n",
        "# Round the values for cleaner display\n",
        "heatmap_data_rounded = heatmap_data.round(3)\n",
        "\n",
        "# Create the heatmap\n",
        "sns.heatmap(\n",
        "    heatmap_data_rounded,\n",
        "    annot=True,         # show values in cells\n",
        "    fmt=\".3f\",          # format decimals\n",
        "    cmap=\"YlGnBu\",      # color map\n",
        "    linewidths=0.5,     # lines between cells\n",
        "    cbar_kws={'label': 'Score'}\n",
        ")\n",
        "\n",
        "plt.title(\"Cross-Validated Performance Metrics (Mean Scores)\")\n",
        "plt.tight_layout()\n",
        "plt.show()\n"
      ],
      "metadata": {
        "colab": {
          "base_uri": "https://localhost:8080/",
          "height": 607
        },
        "id": "3heTvPd6oGk9",
        "outputId": "37fdbe34-72b2-42d0-a1b9-915694f9ba4f"
      },
      "execution_count": null,
      "outputs": [
        {
          "output_type": "display_data",
          "data": {
            "text/plain": [
              "<Figure size 1200x600 with 2 Axes>"
            ],
            "image/png": "[encoded data removed]"
          },
          "metadata": {}
        }
      ]
    },
    {
      "cell_type": "markdown",
      "source": [
        "##Step 10: Model Deploymment\n",
        "After identifying the best performing model based on the evaluation metrics from single split training and cross validation, we will retrain the best model using the entire dataset and save the model for reuse on new data without the need for retraining"
      ],
      "metadata": {
        "id": "HpJRgWJowYOF"
      }
    },
    {
      "cell_type": "markdown",
      "source": [
        "###Hyperparameter Tuning\n",
        "Based on our model evaluation result, XGBoost gave the best performance. The hyperparameters of XGBoost is tuned to identify the best parameters to to use for model deployment"
      ],
      "metadata": {
        "id": "7qJDQK2IPrs8"
      }
    },
    {
      "cell_type": "code",
      "source": [
        "from xgboost import XGBClassifier\n",
        "from sklearn.model_selection import GridSearchCV\n",
        "\n",
        "# Define base model\n",
        "xgb = XGBClassifier(\n",
        "    objective=\"binary:logistic\",\n",
        "    eval_metric=\"logloss\",\n",
        "    use_label_encoder=False\n",
        ")\n",
        "\n",
        "# Define the hyperparameter grid\n",
        "param_grid = {\n",
        "    \"n_estimators\": [100, 200, 300],\n",
        "    \"learning_rate\": [0.01, 0.1, 0.2],\n",
        "    \"max_depth\": [3, 5, 7],\n",
        "    \"subsample\": [0.7, 0.8, 1.0],\n",
        "    \"colsample_bytree\": [0.7, 0.8, 1.0]\n",
        "}\n",
        "\n",
        "# Perform grid search (10-fold CV)\n",
        "grid_cv = GridSearchCV(\n",
        "    estimator=xgb,\n",
        "    param_grid=param_grid,\n",
        "    cv=10,\n",
        "    scoring=\"accuracy\",\n",
        "    n_jobs=-1,\n",
        "    verbose=1\n",
        ")\n",
        "\n",
        "grid_cv.fit(X_train, y_train)\n",
        "\n",
        "print(\"Best parameters:\", grid_cv.best_params_)\n",
        "print(\"Best cross-validated score:\", grid_cv.best_score_)\n"
      ],
      "metadata": {
        "id": "qYrVLEiFP5ws",
        "colab": {
          "base_uri": "https://localhost:8080/"
        },
        "outputId": "2b622675-3851-4001-904b-42d65f29b5d2"
      },
      "execution_count": null,
      "outputs": [
        {
          "output_type": "stream",
          "name": "stdout",
          "text": [
            "Fitting 10 folds for each of 243 candidates, totalling 2430 fits\n"
          ]
        },
        {
          "output_type": "stream",
          "name": "stderr",
          "text": [
            "/usr/local/lib/python3.12/dist-packages/xgboost/training.py:183: UserWarning: [23:51:37] WARNING: /workspace/src/learner.cc:738: \n",
            "Parameters: { \"use_label_encoder\" } are not used.\n",
            "\n",
            "  bst.update(dtrain, iteration=i, fobj=obj)\n"
          ]
        },
        {
          "output_type": "stream",
          "name": "stdout",
          "text": [
            "Best parameters: {'colsample_bytree': 1.0, 'learning_rate': 0.2, 'max_depth': 7, 'n_estimators': 300, 'subsample': 1.0}\n",
            "Best cross-validated score: 0.8824502184769039\n"
          ]
        }
      ]
    },
    {
      "cell_type": "markdown",
      "source": [
        "###Train the final Model on the entire dataset\n",
        "We will now retrain this model using the entire dataset (training data and testing data combined) with the best parameters."
      ],
      "metadata": {
        "id": "D835t7GH5NkV"
      }
    },
    {
      "cell_type": "code",
      "source": [
        "import pandas as pd\n",
        "from xgboost import XGBClassifier\n",
        "\n",
        "# Convert NumPy arrays back to DataFrames if needed\n",
        "if isinstance(X_train, np.ndarray):\n",
        "    X_train = pd.DataFrame(X_train, columns=X.columns)\n",
        "if isinstance(X_test, np.ndarray):\n",
        "    X_test = pd.DataFrame(X_test, columns=X.columns)\n",
        "\n",
        "# Combine them safely\n",
        "X_full = pd.concat([X_train, X_test], ignore_index=True)\n",
        "y_full = pd.concat([y_train, y_test], ignore_index=True)\n",
        "\n",
        "\n",
        "# Use the best parameters obtained from above\n",
        "best_params = grid_cv.best_params_\n",
        "\n",
        "# Train final model on full training data\n",
        "final_xgb = XGBClassifier(\n",
        "    objective=\"binary:logistic\",\n",
        "    eval_metric=\"logloss\",\n",
        "    use_label_encoder=False,\n",
        "    **best_params\n",
        ")\n",
        "\n",
        "final_xgb.fit(X_train, y_train)\n",
        "\n"
      ],
      "metadata": {
        "id": "99jETHc05UXu",
        "colab": {
          "base_uri": "https://localhost:8080/",
          "height": 327
        },
        "outputId": "1f7b3fa5-22ed-4e4c-8089-54c6ac5e8f7f"
      },
      "execution_count": null,
      "outputs": [
        {
          "output_type": "stream",
          "name": "stderr",
          "text": [
            "/usr/local/lib/python3.12/dist-packages/xgboost/training.py:183: UserWarning: [23:55:54] WARNING: /workspace/src/learner.cc:738: \n",
            "Parameters: { \"use_label_encoder\" } are not used.\n",
            "\n",
            "  bst.update(dtrain, iteration=i, fobj=obj)\n"
          ]
        },
        {
          "output_type": "execute_result",
          "data": {
            "text/plain": [
              "XGBClassifier(base_score=None, booster=None, callbacks=None,\n",
              "              colsample_bylevel=None, colsample_bynode=None,\n",
              "              colsample_bytree=1.0, device=None, early_stopping_rounds=None,\n",
              "              enable_categorical=False, eval_metric='logloss',\n",
              "              feature_types=None, feature_weights=None, gamma=None,\n",
              "              grow_policy=None, importance_type=None,\n",
              "              interaction_constraints=None, learning_rate=0.2, max_bin=None,\n",
              "              max_cat_threshold=None, max_cat_to_onehot=None,\n",
              "              max_delta_step=None, max_depth=7, max_leaves=None,\n",
              "              min_child_weight=None, missing=nan, monotone_constraints=None,\n",
              "              multi_strategy=None, n_estimators=300, n_jobs=None,\n",
              "              num_parallel_tree=None, ...)"
            ],
            "text/html": [
              "<style>#sk-container-id-1 {\n",
              "  /* Definition of color scheme common for light and dark mode */\n",
              "  --sklearn-color-text: #000;\n",
              "  --sklearn-color-text-muted: #666;\n",
              "  --sklearn-color-line: gray;\n",
              "  /* Definition of color scheme for unfitted estimators */\n",
              "  --sklearn-color-unfitted-level-0: #fff5e6;\n",
              "  --sklearn-color-unfitted-level-1: #f6e4d2;\n",
              "  --sklearn-color-unfitted-level-2: #ffe0b3;\n",
              "  --sklearn-color-unfitted-level-3: chocolate;\n",
              "  /* Definition of color scheme for fitted estimators */\n",
              "  --sklearn-color-fitted-level-0: #f0f8ff;\n",
              "  --sklearn-color-fitted-level-1: #d4ebff;\n",
              "  --sklearn-color-fitted-level-2: #b3dbfd;\n",
              "  --sklearn-color-fitted-level-3: cornflowerblue;\n",
              "\n",
              "  /* Specific color for light theme */\n",
              "  --sklearn-color-text-on-default-background: var(--sg-text-color, var(--theme-code-foreground, var(--jp-content-font-color1, black)));\n",
              "  --sklearn-color-background: var(--sg-background-color, var(--theme-background, var(--jp-layout-color0, white)));\n",
              "  --sklearn-color-border-box: var(--sg-text-color, var(--theme-code-foreground, var(--jp-content-font-color1, black)));\n",
              "  --sklearn-color-icon: #696969;\n",
              "\n",
              "  @media (prefers-color-scheme: dark) {\n",
              "    /* Redefinition of color scheme for dark theme */\n",
              "    --sklearn-color-text-on-default-background: var(--sg-text-color, var(--theme-code-foreground, var(--jp-content-font-color1, white)));\n",
              "    --sklearn-color-background: var(--sg-background-color, var(--theme-background, var(--jp-layout-color0, #111)));\n",
              "    --sklearn-color-border-box: var(--sg-text-color, var(--theme-code-foreground, var(--jp-content-font-color1, white)));\n",
              "    --sklearn-color-icon: #878787;\n",
              "  }\n",
              "}\n",
              "\n",
              "#sk-container-id-1 {\n",
              "  color: var(--sklearn-color-text);\n",
              "}\n",
              "\n",
              "#sk-container-id-1 pre {\n",
              "  padding: 0;\n",
              "}\n",
              "\n",
              "#sk-container-id-1 input.sk-hidden--visually {\n",
              "  border: 0;\n",
              "  clip: rect(1px 1px 1px 1px);\n",
              "  clip: rect(1px, 1px, 1px, 1px);\n",
              "  height: 1px;\n",
              "  margin: -1px;\n",
              "  overflow: hidden;\n",
              "  padding: 0;\n",
              "  position: absolute;\n",
              "  width: 1px;\n",
              "}\n",
              "\n",
              "#sk-container-id-1 div.sk-dashed-wrapped {\n",
              "  border: 1px dashed var(--sklearn-color-line);\n",
              "  margin: 0 0.4em 0.5em 0.4em;\n",
              "  box-sizing: border-box;\n",
              "  padding-bottom: 0.4em;\n",
              "  background-color: var(--sklearn-color-background);\n",
              "}\n",
              "\n",
              "#sk-container-id-1 div.sk-container {\n",
              "  /* jupyter's `normalize.less` sets `[hidden] { display: none; }`\n",
              "     but bootstrap.min.css set `[hidden] { display: none !important; }`\n",
              "     so we also need the `!important` here to be able to override the\n",
              "     default hidden behavior on the sphinx rendered scikit-learn.org.\n",
              "     See: https://github.com/scikit-learn/scikit-learn/issues/21755 */\n",
              "  display: inline-block !important;\n",
              "  position: relative;\n",
              "}\n",
              "\n",
              "#sk-container-id-1 div.sk-text-repr-fallback {\n",
              "  display: none;\n",
              "}\n",
              "\n",
              "div.sk-parallel-item,\n",
              "div.sk-serial,\n",
              "div.sk-item {\n",
              "  /* draw centered vertical line to link estimators */\n",
              "  background-image: linear-gradient(var(--sklearn-color-text-on-default-background), var(--sklearn-color-text-on-default-background));\n",
              "  background-size: 2px 100%;\n",
              "  background-repeat: no-repeat;\n",
              "  background-position: center center;\n",
              "}\n",
              "\n",
              "/* Parallel-specific style estimator block */\n",
              "\n",
              "#sk-container-id-1 div.sk-parallel-item::after {\n",
              "  content: \"\";\n",
              "  width: 100%;\n",
              "  border-bottom: 2px solid var(--sklearn-color-text-on-default-background);\n",
              "  flex-grow: 1;\n",
              "}\n",
              "\n",
              "#sk-container-id-1 div.sk-parallel {\n",
              "  display: flex;\n",
              "  align-items: stretch;\n",
              "  justify-content: center;\n",
              "  background-color: var(--sklearn-color-background);\n",
              "  position: relative;\n",
              "}\n",
              "\n",
              "#sk-container-id-1 div.sk-parallel-item {\n",
              "  display: flex;\n",
              "  flex-direction: column;\n",
              "}\n",
              "\n",
              "#sk-container-id-1 div.sk-parallel-item:first-child::after {\n",
              "  align-self: flex-end;\n",
              "  width: 50%;\n",
              "}\n",
              "\n",
              "#sk-container-id-1 div.sk-parallel-item:last-child::after {\n",
              "  align-self: flex-start;\n",
              "  width: 50%;\n",
              "}\n",
              "\n",
              "#sk-container-id-1 div.sk-parallel-item:only-child::after {\n",
              "  width: 0;\n",
              "}\n",
              "\n",
              "/* Serial-specific style estimator block */\n",
              "\n",
              "#sk-container-id-1 div.sk-serial {\n",
              "  display: flex;\n",
              "  flex-direction: column;\n",
              "  align-items: center;\n",
              "  background-color: var(--sklearn-color-background);\n",
              "  padding-right: 1em;\n",
              "  padding-left: 1em;\n",
              "}\n",
              "\n",
              "\n",
              "/* Toggleable style: style used for estimator/Pipeline/ColumnTransformer box that is\n",
              "clickable and can be expanded/collapsed.\n",
              "- Pipeline and ColumnTransformer use this feature and define the default style\n",
              "- Estimators will overwrite some part of the style using the `sk-estimator` class\n",
              "*/\n",
              "\n",
              "/* Pipeline and ColumnTransformer style (default) */\n",
              "\n",
              "#sk-container-id-1 div.sk-toggleable {\n",
              "  /* Default theme specific background. It is overwritten whether we have a\n",
              "  specific estimator or a Pipeline/ColumnTransformer */\n",
              "  background-color: var(--sklearn-color-background);\n",
              "}\n",
              "\n",
              "/* Toggleable label */\n",
              "#sk-container-id-1 label.sk-toggleable__label {\n",
              "  cursor: pointer;\n",
              "  display: flex;\n",
              "  width: 100%;\n",
              "  margin-bottom: 0;\n",
              "  padding: 0.5em;\n",
              "  box-sizing: border-box;\n",
              "  text-align: center;\n",
              "  align-items: start;\n",
              "  justify-content: space-between;\n",
              "  gap: 0.5em;\n",
              "}\n",
              "\n",
              "#sk-container-id-1 label.sk-toggleable__label .caption {\n",
              "  font-size: 0.6rem;\n",
              "  font-weight: lighter;\n",
              "  color: var(--sklearn-color-text-muted);\n",
              "}\n",
              "\n",
              "#sk-container-id-1 label.sk-toggleable__label-arrow:before {\n",
              "  /* Arrow on the left of the label */\n",
              "  content: \"▸\";\n",
              "  float: left;\n",
              "  margin-right: 0.25em;\n",
              "  color: var(--sklearn-color-icon);\n",
              "}\n",
              "\n",
              "#sk-container-id-1 label.sk-toggleable__label-arrow:hover:before {\n",
              "  color: var(--sklearn-color-text);\n",
              "}\n",
              "\n",
              "/* Toggleable content - dropdown */\n",
              "\n",
              "#sk-container-id-1 div.sk-toggleable__content {\n",
              "  max-height: 0;\n",
              "  max-width: 0;\n",
              "  overflow: hidden;\n",
              "  text-align: left;\n",
              "  /* unfitted */\n",
              "  background-color: var(--sklearn-color-unfitted-level-0);\n",
              "}\n",
              "\n",
              "#sk-container-id-1 div.sk-toggleable__content.fitted {\n",
              "  /* fitted */\n",
              "  background-color: var(--sklearn-color-fitted-level-0);\n",
              "}\n",
              "\n",
              "#sk-container-id-1 div.sk-toggleable__content pre {\n",
              "  margin: 0.2em;\n",
              "  border-radius: 0.25em;\n",
              "  color: var(--sklearn-color-text);\n",
              "  /* unfitted */\n",
              "  background-color: var(--sklearn-color-unfitted-level-0);\n",
              "}\n",
              "\n",
              "#sk-container-id-1 div.sk-toggleable__content.fitted pre {\n",
              "  /* unfitted */\n",
              "  background-color: var(--sklearn-color-fitted-level-0);\n",
              "}\n",
              "\n",
              "#sk-container-id-1 input.sk-toggleable__control:checked~div.sk-toggleable__content {\n",
              "  /* Expand drop-down */\n",
              "  max-height: 200px;\n",
              "  max-width: 100%;\n",
              "  overflow: auto;\n",
              "}\n",
              "\n",
              "#sk-container-id-1 input.sk-toggleable__control:checked~label.sk-toggleable__label-arrow:before {\n",
              "  content: \"▾\";\n",
              "}\n",
              "\n",
              "/* Pipeline/ColumnTransformer-specific style */\n",
              "\n",
              "#sk-container-id-1 div.sk-label input.sk-toggleable__control:checked~label.sk-toggleable__label {\n",
              "  color: var(--sklearn-color-text);\n",
              "  background-color: var(--sklearn-color-unfitted-level-2);\n",
              "}\n",
              "\n",
              "#sk-container-id-1 div.sk-label.fitted input.sk-toggleable__control:checked~label.sk-toggleable__label {\n",
              "  background-color: var(--sklearn-color-fitted-level-2);\n",
              "}\n",
              "\n",
              "/* Estimator-specific style */\n",
              "\n",
              "/* Colorize estimator box */\n",
              "#sk-container-id-1 div.sk-estimator input.sk-toggleable__control:checked~label.sk-toggleable__label {\n",
              "  /* unfitted */\n",
              "  background-color: var(--sklearn-color-unfitted-level-2);\n",
              "}\n",
              "\n",
              "#sk-container-id-1 div.sk-estimator.fitted input.sk-toggleable__control:checked~label.sk-toggleable__label {\n",
              "  /* fitted */\n",
              "  background-color: var(--sklearn-color-fitted-level-2);\n",
              "}\n",
              "\n",
              "#sk-container-id-1 div.sk-label label.sk-toggleable__label,\n",
              "#sk-container-id-1 div.sk-label label {\n",
              "  /* The background is the default theme color */\n",
              "  color: var(--sklearn-color-text-on-default-background);\n",
              "}\n",
              "\n",
              "/* On hover, darken the color of the background */\n",
              "#sk-container-id-1 div.sk-label:hover label.sk-toggleable__label {\n",
              "  color: var(--sklearn-color-text);\n",
              "  background-color: var(--sklearn-color-unfitted-level-2);\n",
              "}\n",
              "\n",
              "/* Label box, darken color on hover, fitted */\n",
              "#sk-container-id-1 div.sk-label.fitted:hover label.sk-toggleable__label.fitted {\n",
              "  color: var(--sklearn-color-text);\n",
              "  background-color: var(--sklearn-color-fitted-level-2);\n",
              "}\n",
              "\n",
              "/* Estimator label */\n",
              "\n",
              "#sk-container-id-1 div.sk-label label {\n",
              "  font-family: monospace;\n",
              "  font-weight: bold;\n",
              "  display: inline-block;\n",
              "  line-height: 1.2em;\n",
              "}\n",
              "\n",
              "#sk-container-id-1 div.sk-label-container {\n",
              "  text-align: center;\n",
              "}\n",
              "\n",
              "/* Estimator-specific */\n",
              "#sk-container-id-1 div.sk-estimator {\n",
              "  font-family: monospace;\n",
              "  border: 1px dotted var(--sklearn-color-border-box);\n",
              "  border-radius: 0.25em;\n",
              "  box-sizing: border-box;\n",
              "  margin-bottom: 0.5em;\n",
              "  /* unfitted */\n",
              "  background-color: var(--sklearn-color-unfitted-level-0);\n",
              "}\n",
              "\n",
              "#sk-container-id-1 div.sk-estimator.fitted {\n",
              "  /* fitted */\n",
              "  background-color: var(--sklearn-color-fitted-level-0);\n",
              "}\n",
              "\n",
              "/* on hover */\n",
              "#sk-container-id-1 div.sk-estimator:hover {\n",
              "  /* unfitted */\n",
              "  background-color: var(--sklearn-color-unfitted-level-2);\n",
              "}\n",
              "\n",
              "#sk-container-id-1 div.sk-estimator.fitted:hover {\n",
              "  /* fitted */\n",
              "  background-color: var(--sklearn-color-fitted-level-2);\n",
              "}\n",
              "\n",
              "/* Specification for estimator info (e.g. \"i\" and \"?\") */\n",
              "\n",
              "/* Common style for \"i\" and \"?\" */\n",
              "\n",
              ".sk-estimator-doc-link,\n",
              "a:link.sk-estimator-doc-link,\n",
              "a:visited.sk-estimator-doc-link {\n",
              "  float: right;\n",
              "  font-size: smaller;\n",
              "  line-height: 1em;\n",
              "  font-family: monospace;\n",
              "  background-color: var(--sklearn-color-background);\n",
              "  border-radius: 1em;\n",
              "  height: 1em;\n",
              "  width: 1em;\n",
              "  text-decoration: none !important;\n",
              "  margin-left: 0.5em;\n",
              "  text-align: center;\n",
              "  /* unfitted */\n",
              "  border: var(--sklearn-color-unfitted-level-1) 1pt solid;\n",
              "  color: var(--sklearn-color-unfitted-level-1);\n",
              "}\n",
              "\n",
              ".sk-estimator-doc-link.fitted,\n",
              "a:link.sk-estimator-doc-link.fitted,\n",
              "a:visited.sk-estimator-doc-link.fitted {\n",
              "  /* fitted */\n",
              "  border: var(--sklearn-color-fitted-level-1) 1pt solid;\n",
              "  color: var(--sklearn-color-fitted-level-1);\n",
              "}\n",
              "\n",
              "/* On hover */\n",
              "div.sk-estimator:hover .sk-estimator-doc-link:hover,\n",
              ".sk-estimator-doc-link:hover,\n",
              "div.sk-label-container:hover .sk-estimator-doc-link:hover,\n",
              ".sk-estimator-doc-link:hover {\n",
              "  /* unfitted */\n",
              "  background-color: var(--sklearn-color-unfitted-level-3);\n",
              "  color: var(--sklearn-color-background);\n",
              "  text-decoration: none;\n",
              "}\n",
              "\n",
              "div.sk-estimator.fitted:hover .sk-estimator-doc-link.fitted:hover,\n",
              ".sk-estimator-doc-link.fitted:hover,\n",
              "div.sk-label-container:hover .sk-estimator-doc-link.fitted:hover,\n",
              ".sk-estimator-doc-link.fitted:hover {\n",
              "  /* fitted */\n",
              "  background-color: var(--sklearn-color-fitted-level-3);\n",
              "  color: var(--sklearn-color-background);\n",
              "  text-decoration: none;\n",
              "}\n",
              "\n",
              "/* Span, style for the box shown on hovering the info icon */\n",
              ".sk-estimator-doc-link span {\n",
              "  display: none;\n",
              "  z-index: 9999;\n",
              "  position: relative;\n",
              "  font-weight: normal;\n",
              "  right: .2ex;\n",
              "  padding: .5ex;\n",
              "  margin: .5ex;\n",
              "  width: min-content;\n",
              "  min-width: 20ex;\n",
              "  max-width: 50ex;\n",
              "  color: var(--sklearn-color-text);\n",
              "  box-shadow: 2pt 2pt 4pt #999;\n",
              "  /* unfitted */\n",
              "  background: var(--sklearn-color-unfitted-level-0);\n",
              "  border: .5pt solid var(--sklearn-color-unfitted-level-3);\n",
              "}\n",
              "\n",
              ".sk-estimator-doc-link.fitted span {\n",
              "  /* fitted */\n",
              "  background: var(--sklearn-color-fitted-level-0);\n",
              "  border: var(--sklearn-color-fitted-level-3);\n",
              "}\n",
              "\n",
              ".sk-estimator-doc-link:hover span {\n",
              "  display: block;\n",
              "}\n",
              "\n",
              "/* \"?\"-specific style due to the `<a>` HTML tag */\n",
              "\n",
              "#sk-container-id-1 a.estimator_doc_link {\n",
              "  float: right;\n",
              "  font-size: 1rem;\n",
              "  line-height: 1em;\n",
              "  font-family: monospace;\n",
              "  background-color: var(--sklearn-color-background);\n",
              "  border-radius: 1rem;\n",
              "  height: 1rem;\n",
              "  width: 1rem;\n",
              "  text-decoration: none;\n",
              "  /* unfitted */\n",
              "  color: var(--sklearn-color-unfitted-level-1);\n",
              "  border: var(--sklearn-color-unfitted-level-1) 1pt solid;\n",
              "}\n",
              "\n",
              "#sk-container-id-1 a.estimator_doc_link.fitted {\n",
              "  /* fitted */\n",
              "  border: var(--sklearn-color-fitted-level-1) 1pt solid;\n",
              "  color: var(--sklearn-color-fitted-level-1);\n",
              "}\n",
              "\n",
              "/* On hover */\n",
              "#sk-container-id-1 a.estimator_doc_link:hover {\n",
              "  /* unfitted */\n",
              "  background-color: var(--sklearn-color-unfitted-level-3);\n",
              "  color: var(--sklearn-color-background);\n",
              "  text-decoration: none;\n",
              "}\n",
              "\n",
              "#sk-container-id-1 a.estimator_doc_link.fitted:hover {\n",
              "  /* fitted */\n",
              "  background-color: var(--sklearn-color-fitted-level-3);\n",
              "}\n",
              "</style><div id=\"sk-container-id-1\" class=\"sk-top-container\"><div class=\"sk-text-repr-fallback\"><pre>XGBClassifier(base_score=None, booster=None, callbacks=None,\n",
              "              colsample_bylevel=None, colsample_bynode=None,\n",
              "              colsample_bytree=1.0, device=None, early_stopping_rounds=None,\n",
              "              enable_categorical=False, eval_metric=&#x27;logloss&#x27;,\n",
              "              feature_types=None, feature_weights=None, gamma=None,\n",
              "              grow_policy=None, importance_type=None,\n",
              "              interaction_constraints=None, learning_rate=0.2, max_bin=None,\n",
              "              max_cat_threshold=None, max_cat_to_onehot=None,\n",
              "              max_delta_step=None, max_depth=7, max_leaves=None,\n",
              "              min_child_weight=None, missing=nan, monotone_constraints=None,\n",
              "              multi_strategy=None, n_estimators=300, n_jobs=None,\n",
              "              num_parallel_tree=None, ...)</pre><b>In a Jupyter environment, please rerun this cell to show the HTML representation or trust the notebook. <br />On GitHub, the HTML representation is unable to render, please try loading this page with nbviewer.org.</b></div><div class=\"sk-container\" hidden><div class=\"sk-item\"><div class=\"sk-estimator fitted sk-toggleable\"><input class=\"sk-toggleable__control sk-hidden--visually\" id=\"sk-estimator-id-1\" type=\"checkbox\" checked><label for=\"sk-estimator-id-1\" class=\"sk-toggleable__label fitted sk-toggleable__label-arrow\"><div><div>XGBClassifier</div></div><div><a class=\"sk-estimator-doc-link fitted\" rel=\"noreferrer\" target=\"_blank\" href=\"https://xgboost.readthedocs.io/en/release_3.0.0/python/python_api.html#xgboost.XGBClassifier\">?<span>Documentation for XGBClassifier</span></a><span class=\"sk-estimator-doc-link fitted\">i<span>Fitted</span></span></div></label><div class=\"sk-toggleable__content fitted\"><pre>XGBClassifier(base_score=None, booster=None, callbacks=None,\n",
              "              colsample_bylevel=None, colsample_bynode=None,\n",
              "              colsample_bytree=1.0, device=None, early_stopping_rounds=None,\n",
              "              enable_categorical=False, eval_metric=&#x27;logloss&#x27;,\n",
              "              feature_types=None, feature_weights=None, gamma=None,\n",
              "              grow_policy=None, importance_type=None,\n",
              "              interaction_constraints=None, learning_rate=0.2, max_bin=None,\n",
              "              max_cat_threshold=None, max_cat_to_onehot=None,\n",
              "              max_delta_step=None, max_depth=7, max_leaves=None,\n",
              "              min_child_weight=None, missing=nan, monotone_constraints=None,\n",
              "              multi_strategy=None, n_estimators=300, n_jobs=None,\n",
              "              num_parallel_tree=None, ...)</pre></div> </div></div></div></div>"
            ]
          },
          "metadata": {},
          "execution_count": 15
        }
      ]
    },
    {
      "cell_type": "markdown",
      "source": [
        "###Save the best model"
      ],
      "metadata": {
        "id": "g_dWN6kSxjz3"
      }
    },
    {
      "cell_type": "code",
      "source": [
        "# Save the model\n",
        "import joblib\n",
        "# Save the trained model\n",
        "# Specify your desired file path\n",
        "save_path = \"/content/my_drive/My Drive/HPI/Features/final_xgb.pkl\"\n",
        "\n",
        "joblib.dump(final_xgb, save_path)\n",
        "\n",
        "print(\"Model saved successfully!\")\n"
      ],
      "metadata": {
        "id": "LfBfhpKp_BeE",
        "colab": {
          "base_uri": "https://localhost:8080/"
        },
        "outputId": "b2a22e38-64c6-47d3-8f98-492b78a11c71"
      },
      "execution_count": null,
      "outputs": [
        {
          "output_type": "stream",
          "name": "stdout",
          "text": [
            "Model saved successfully!\n"
          ]
        }
      ]
    },
    {
      "cell_type": "markdown",
      "source": [
        "###Use the Saved Model on New Dataset\n",
        "Once saved, it can be used to make predictions of new HPPPI pair/pairs.\n",
        "\n",
        "Note: The model was trained using Amino Acid Composition (AAC) features, thus, the model can only be used to make predictions on new data with AAC features."
      ],
      "metadata": {
        "id": "TnnzlhF3_OeQ"
      }
    },
    {
      "cell_type": "code",
      "source": [
        "#Making predictions on new HP-PPI pairs\n",
        "import joblib\n",
        "import pandas as pd\n",
        "\n",
        "# Load the model\n",
        "model = joblib.load(\"/content/my_drive/My Drive/HPI/Features/final_xgb.pkl\")\n",
        "\n",
        "# Load  new data (AAC features only)\n",
        "new_data = pd.read_csv(\"new_hppi_aac_features.csv\")\n",
        "predictions = model.predict(new_data)\n",
        "\n",
        "print(predictions)\n"
      ],
      "metadata": {
        "id": "mJh3JjJz34Rk"
      },
      "execution_count": null,
      "outputs": []
    }
  ]
}