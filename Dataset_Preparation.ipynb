{
  "nbformat": 4,
  "nbformat_minor": 0,
  "metadata": {
    "colab": {
      "provenance": [],
      "toc_visible": true,
      "include_colab_link": true
    },
    "kernelspec": {
      "name": "python3",
      "display_name": "Python 3"
    },
    "language_info": {
      "name": "python"
    }
  },
  "cells": [
    {
      "cell_type": "markdown",
      "metadata": {
        "id": "view-in-github",
        "colab_type": "text"
      },
      "source": [
        "<a href=\"https://colab.research.google.com/github/ItunuIsewon/MACHINE-LEARNING-FOR-HOST-PATHOGEN-PROTEIN-PROTEIN-INTERACTION-PREDICTION-TUTORIAL/blob/main/Dataset_Preparation.ipynb\" target=\"_parent\"><img src=\"https://colab.research.google.com/assets/colab-badge.svg\" alt=\"Open In Colab\"/></a>"
      ]
    },
    {
      "cell_type": "markdown",
      "source": [
        "#**Positive Dataset**\n",
        "The positive dataset used in this tutorial comprises experimentally verified human-bacterial protein-protein interactions retrieved from the Bacterial and Viral Bioinformatics Resource Centre (BV-BRC) database (https://www.bv-brc.org/).\n",
        "To access the data, navigate to the bacteria page\n",
        "(https://www.bv-brc.org/view/Bacteria/2), which lists 20 bacterial genera.\n",
        "\n",
        "\n",
        "For this tutorial we selected a total of 4,459 interactions human-bacteria interactions from four genera, including 649 human-*Bacillus*, 62 human-*Escherichia coli*, 1,199 human-*Francisella*, and 2,549 human-*Yersinia* interactions. Other genera were excluded due to the absence or limited number of host-pathogen interactions data.\n",
        "\n",
        "\n",
        "\n",
        "\n",
        "For each of the selected genera, repeat the following steps:\n",
        "\n",
        "\n",
        "1.  Click on the genus name to open its overview page.\n",
        "2.  Navigate to the Interactions tab.\n",
        "3. Toggle the Filters display and apply the following filters:\n",
        "    \n",
        "     **Category**: HPI (Host-Pathogen Interaction)\n",
        "    \n",
        "     **Evidence**: Experimental\n",
        "    \n",
        "     **Genome Name B**: Homo sapiens\n",
        "\n",
        "4. Download the filtered interaction data as csv. This will serve as the HPI dataset.\n",
        "5. Next, select the entire filtered interaction table and click on the FASTA icon to view FASTA protein. Download the resulting page as it contains the protein sequence (FASTA format) for all the interaction entries. This downloaded file will serve as your sequence dataset.\n",
        "  \n",
        "\n",
        "\n",
        "\n",
        "\n",
        "\n",
        "\n"
      ],
      "metadata": {
        "id": "cNHI33qrbpXD"
      }
    },
    {
      "cell_type": "markdown",
      "source": [
        "##Bacillus- Pathogen Sequence Matching"
      ],
      "metadata": {
        "id": "QHxDIKcnO7UI"
      }
    },
    {
      "cell_type": "markdown",
      "source": [
        "###**Step 1**: **Install and Import needed packages**"
      ],
      "metadata": {
        "id": "VDsijU7PM6GH"
      }
    },
    {
      "cell_type": "code",
      "source": [
        "#install Biopython\n",
        "!pip install Biopython"
      ],
      "metadata": {
        "id": "V3iX3my5Pk4n",
        "colab": {
          "base_uri": "https://localhost:8080/"
        },
        "outputId": "1c9f9488-33a8-4577-d318-862005e02055"
      },
      "execution_count": null,
      "outputs": [
        {
          "output_type": "stream",
          "name": "stdout",
          "text": [
            "Collecting Biopython\n",
            "  Downloading biopython-1.85-cp311-cp311-manylinux_2_17_x86_64.manylinux2014_x86_64.whl.metadata (13 kB)\n",
            "Requirement already satisfied: numpy in /usr/local/lib/python3.11/dist-packages (from Biopython) (2.0.2)\n",
            "Downloading biopython-1.85-cp311-cp311-manylinux_2_17_x86_64.manylinux2014_x86_64.whl (3.3 MB)\n",
            "\u001b[?25l   \u001b[90m━━━━━━━━━━━━━━━━━━━━━━━━━━━━━━━━━━━━━━━━\u001b[0m \u001b[32m0.0/3.3 MB\u001b[0m \u001b[31m?\u001b[0m eta \u001b[36m-:--:--\u001b[0m\r\u001b[2K   \u001b[91m━━━━━━━━\u001b[0m\u001b[91m╸\u001b[0m\u001b[90m━━━━━━━━━━━━━━━━━━━━━━━━━━━━━━━\u001b[0m \u001b[32m0.7/3.3 MB\u001b[0m \u001b[31m21.6 MB/s\u001b[0m eta \u001b[36m0:00:01\u001b[0m\r\u001b[2K   \u001b[91m━━━━━━━━━━━━━━━━━━━━━━━━━━━━━━━━━━━━━━━\u001b[0m\u001b[91m╸\u001b[0m \u001b[32m3.3/3.3 MB\u001b[0m \u001b[31m60.0 MB/s\u001b[0m eta \u001b[36m0:00:01\u001b[0m\r\u001b[2K   \u001b[90m━━━━━━━━━━━━━━━━━━━━━━━━━━━━━━━━━━━━━━━━\u001b[0m \u001b[32m3.3/3.3 MB\u001b[0m \u001b[31m43.5 MB/s\u001b[0m eta \u001b[36m0:00:00\u001b[0m\n",
            "\u001b[?25hInstalling collected packages: Biopython\n",
            "Successfully installed Biopython-1.85\n"
          ]
        }
      ]
    },
    {
      "cell_type": "code",
      "source": [
        "#Mounting Google Drive to access files\n",
        "import os\n",
        "from google.colab import drive\n",
        "drive.mount ('/content/my_drive')\n",
        "\n",
        "#import pandas for data manipulation\n",
        "import pandas as pd\n",
        "\n"
      ],
      "metadata": {
        "id": "2mG4vt9RNSSo",
        "colab": {
          "base_uri": "https://localhost:8080/"
        },
        "outputId": "f1a794d3-82a1-46e9-c8cb-10f4a7e1bc8d"
      },
      "execution_count": null,
      "outputs": [
        {
          "output_type": "stream",
          "name": "stdout",
          "text": [
            "Mounted at /content/my_drive\n"
          ]
        }
      ]
    },
    {
      "cell_type": "markdown",
      "source": [
        "###**Step 2: Load your data from Google drive**\n",
        "\n",
        "\n",
        "\n",
        "\n",
        "\n",
        "\n",
        "\n",
        "\n",
        "\n",
        "\n",
        "\n",
        "Create a folder in your drive named HPI where all the downloaded data are stored"
      ],
      "metadata": {
        "id": "5xqnEkIqVBix"
      }
    },
    {
      "cell_type": "code",
      "source": [
        "file_path = '/content/my_drive/My Drive/HPI'\n",
        "\n",
        "#Load the protein list from the CSV file\n",
        "protein_csv = file_path+\"/BacillusHPI_ppi.csv\"  # Replace with your CSV file\n",
        "protein_df = pd.read_csv(protein_csv)\n",
        "\n",
        "#Extract the protein IDs for the bacteria (in this case RefSeq Locus Tag A)\n",
        "protein_ids = protein_df[\"RefSeq Locus Tag A\"].tolist()  # Extract the protein names\n"
      ],
      "metadata": {
        "id": "3b8HzuMCVXBK"
      },
      "execution_count": null,
      "outputs": []
    },
    {
      "cell_type": "markdown",
      "source": [
        "###**Step 3: Parse the FASTA file and create a dictionary of sequences.**\n",
        "\n",
        "\n",
        "\n",
        "\n",
        "Each FASTA record contains two parts- **the header** and **the sequence**. In this step, the script  parses the header of each record to extract the unique protein identifier which in this case is located in the third position of the header (when split by the | character). This identifier is used to match each sequence with its corresponding protein ID.\n",
        "![Bacillusfasta.PNG](data:image/png;base64,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)"
      ],
      "metadata": {
        "id": "GnjX8lniXm1Y"
      }
    },
    {
      "cell_type": "code",
      "source": [
        "# Parse the FASTA file and create a dictionary of sequences by protein ID\n",
        "fasta_file = file_path+\"/Bacillus_genome_feature.fasta\"  # Replace with your FASTA file\n",
        "fasta_dict = {}\n",
        "\n",
        "# Extract the protein ID and sequence\n",
        "for record in SeqIO.parse(fasta_file, \"fasta\"):\n",
        "    # Split the header by \"|\"\n",
        "    header_parts = record.description.split(\"|\")\n",
        "    if len(header_parts) > 2:\n",
        "        protein_id = header_parts[2].strip()\n",
        "        fasta_dict[protein_id] = str(record.seq)\n"
      ],
      "metadata": {
        "id": "ijQDbc6iaYYH"
      },
      "execution_count": null,
      "outputs": []
    },
    {
      "cell_type": "markdown",
      "source": [
        "###**Step 4: Match protein IDs with sequence**"
      ],
      "metadata": {
        "id": "T06e3qRta3Rc"
      }
    },
    {
      "cell_type": "code",
      "source": [
        "# Match protein IDs with sequences\n",
        "matched_data = []\n",
        "for protein_id in protein_ids:\n",
        "    sequence = fasta_dict.get(protein_id, None)  # Get sequence or None if not found\n",
        "    matched_data.append({\"ProteinID\": protein_id, \"Sequence\": sequence})\n",
        "\n",
        "#Save the matched data to a new CSV\n",
        "matched_df = pd.DataFrame(matched_data)\n",
        "matched_df.to_csv(file_path + \"/bacillus_protein_sequences.csv\", index=False)\n",
        "\n",
        "print(\"Matching completed! Results saved to 'bacillus_protein_sequences.csv'.\")\n"
      ],
      "metadata": {
        "id": "63G22OO-bCBk",
        "colab": {
          "base_uri": "https://localhost:8080/"
        },
        "outputId": "55402bc8-173b-49c6-b9a5-cf2a36846053"
      },
      "execution_count": null,
      "outputs": [
        {
          "output_type": "stream",
          "name": "stdout",
          "text": [
            "Matching completed! Results saved to 'bacillus_protein_sequences.csv'.\n"
          ]
        }
      ]
    },
    {
      "cell_type": "code",
      "source": [
        "# Step 5: Check for unmatched proteins\n",
        "unmatched = matched_df[matched_df['Sequence'].isnull()]\n",
        "num_unmatched = len(unmatched)\n",
        "num_total = len(matched_df)\n",
        "\n",
        "print(f\"Matching completed! Results saved to 'bacillusproteinsequences.csv'.\")\n",
        "print(f\"Total proteins: {num_total}\")\n",
        "print(f\"Matched: {num_total - num_unmatched}\")\n",
        "print(f\"Unmatched: {num_unmatched}\")\n"
      ],
      "metadata": {
        "colab": {
          "base_uri": "https://localhost:8080/"
        },
        "id": "JVzytB7UQe9S",
        "outputId": "d43dae85-b494-4407-fc5a-de5c446a3937"
      },
      "execution_count": null,
      "outputs": [
        {
          "output_type": "stream",
          "name": "stdout",
          "text": [
            "Matching completed! Results saved to 'bacillusproteinsequences.csv'.\n",
            "Total proteins: 649\n",
            "Matched: 649\n",
            "Unmatched: 0\n"
          ]
        }
      ]
    },
    {
      "cell_type": "markdown",
      "source": [
        "##Bacillus- Host Sequence Matching\n",
        "Repeat steps 2 - 4"
      ],
      "metadata": {
        "id": "4YF478TcPhqP"
      }
    },
    {
      "cell_type": "markdown",
      "source": [
        "**To match protein sequeces for the host (human) protein, we will repeat steps 2 to 4 this time using host protein identifiers.**\n",
        "\n",
        "![hostfasta.PNG](data:image/png;base64,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)"
      ],
      "metadata": {
        "id": "xhj86FfZcbY9"
      }
    },
    {
      "cell_type": "code",
      "source": [
        "#For the host (human) protein\n",
        "import pandas as pd\n",
        "from Bio import SeqIO\n",
        "import re\n",
        "\n",
        "# For the host (human) protein\n",
        "\n",
        "# Step 1: Load the protein list from the appropriate column\n",
        "protein_csv = file_path + \"/BacillusHPI_ppi.csv\"  # Replace with your CSV file\n",
        "protein_df = pd.read_csv(protein_csv)\n",
        "\n",
        "# Extract the protein IDs for the host (in this case Interactor B Desc)\n",
        "protein_names = protein_df[\"Interactor B Desc\"].tolist()\n",
        "\n",
        "# Step 2: Parse the FASTA file and create a dictionary of sequences by protein ID\n",
        "fasta_file = file_path + \"/Bacillus_genome_feature.fasta\"  # Replace with your FASTA file\n",
        "fasta_dict = {}\n",
        "\n",
        "# Extract the protein name and sequence from the FASTA file\n",
        "for record in SeqIO.parse(fasta_file, \"fasta\"):\n",
        "    # Split the header by \"|\" and extract the relevant portion\n",
        "    header_parts = record.description.split(\"|\")\n",
        "\n",
        "    if len(header_parts) > 2:\n",
        "        # Extract the full protein name\n",
        "        protein_name = header_parts[2].strip()\n",
        "\n",
        "        # Remove only the final square-bracketed section (e.g., [Homo sapiens | 9606.33])\n",
        "        protein_name = re.sub(r'\\s*\\[[^\\[\\]]+\\]\\s*$', '', protein_name).strip()\n",
        "\n",
        "        fasta_dict[protein_name] = str(record.seq)\n",
        "\n",
        "# Step 3: Match protein names with sequences (allow partial matching)\n",
        "matched_data = []\n",
        "for protein_name in protein_names:\n",
        "    matched_sequence = None\n",
        "    for fasta_name, sequence in fasta_dict.items():\n",
        "        if protein_name.lower() in fasta_name.lower():  # Case insensitive partial matching\n",
        "            matched_sequence = sequence\n",
        "            break\n",
        "\n",
        "    # Add match or None\n",
        "    matched_data.append({\"ProteinName\": protein_name, \"Sequence\": matched_sequence})\n",
        "\n",
        "# Step 4: Save the matched data to a new CSV\n",
        "matched_df = pd.DataFrame(matched_data)\n",
        "matched_df.to_csv(file_path + \"/bacillushostsequences.csv\", index=False)\n",
        "\n",
        "print(\"Matching completed! Results saved to 'bacillushostsequences.csv'.\")\n",
        "\n"
      ],
      "metadata": {
        "id": "ldS06ksOejl4",
        "colab": {
          "base_uri": "https://localhost:8080/"
        },
        "outputId": "c340bc0d-afa0-4de7-bb50-0c3dfa0a09a2"
      },
      "execution_count": null,
      "outputs": [
        {
          "output_type": "stream",
          "name": "stdout",
          "text": [
            "Matching completed! Results saved to 'bacillushostsequences.csv'.\n"
          ]
        }
      ]
    },
    {
      "cell_type": "code",
      "source": [
        "# Step 5: Check for unmatched proteins\n",
        "unmatched = matched_df[matched_df['Sequence'].isnull()]\n",
        "num_unmatched = len(unmatched)\n",
        "num_total = len(matched_df)\n",
        "\n",
        "print(f\"Matching completed! Results saved to 'bacillushostsequences.csv'.\")\n",
        "print(f\"Total proteins: {num_total}\")\n",
        "print(f\"Matched: {num_total - num_unmatched}\")\n",
        "print(f\"Unmatched: {num_unmatched}\")\n"
      ],
      "metadata": {
        "colab": {
          "base_uri": "https://localhost:8080/"
        },
        "id": "cDS4fhFyQBmX",
        "outputId": "fac6e47f-d31a-4d1a-e289-b8abfe9af811"
      },
      "execution_count": null,
      "outputs": [
        {
          "output_type": "stream",
          "name": "stdout",
          "text": [
            "Matching completed! Results saved to 'bacillushostsequences.csv'.\n",
            "Total proteins: 649\n",
            "Matched: 649\n",
            "Unmatched: 0\n"
          ]
        }
      ]
    },
    {
      "cell_type": "markdown",
      "source": [
        "**Step 5: Merge host and pathogen protein ID-sequence pairs into a single file in a one to one row match.**"
      ],
      "metadata": {
        "id": "S73egzyuyV_M"
      }
    },
    {
      "cell_type": "code",
      "source": [
        "\n",
        "\n",
        "# Load the host and pathogen CSV files\n",
        "host_df = pd.read_csv(file_path + \"/bacillushostsequences.csv\")\n",
        "pathogen_df = pd.read_csv(file_path + \"/bacillus_protein_sequences.csv\")\n",
        "\n",
        "#Rename the columns for clarity\n",
        "host_df.columns = [\"Host Protein\", \"Host Sequence\"]\n",
        "pathogen_df.columns = [\"Pathogen Protein\", \"Pathogen Sequence\"]\n",
        "\n",
        "# Merge both DataFrames side by side (column-wise)\n",
        "merged_df = pd.concat([host_df, pathogen_df], axis=1)\n",
        "\n",
        "# Save the merged DataFrame to a new CSV file\n",
        "merged_df.to_csv(file_path + \"/host_bacillus_pairs.csv\", index=False)\n",
        "\n",
        "print(\"Merging completed. File saved as 'host_bacillus_pairs.csv'.\")\n"
      ],
      "metadata": {
        "id": "yHYSFak7yRl4",
        "colab": {
          "base_uri": "https://localhost:8080/"
        },
        "outputId": "d1d109ef-d956-4e0c-bc32-3215053e430c"
      },
      "execution_count": null,
      "outputs": [
        {
          "output_type": "stream",
          "name": "stdout",
          "text": [
            "Merging completed. File saved as 'host_bacillus_pairs.csv'.\n"
          ]
        }
      ]
    },
    {
      "cell_type": "markdown",
      "source": [
        "##Ecoli"
      ],
      "metadata": {
        "id": "1qnFbvvdQ04R"
      }
    },
    {
      "cell_type": "markdown",
      "source": [
        "###Pathogen Sequence Matching"
      ],
      "metadata": {
        "id": "DdQCbsigUJhT"
      }
    },
    {
      "cell_type": "code",
      "source": [
        "#Load the protein list from the CSV file\n",
        "protein_csv = file_path+\"/Ecoli_ppi.csv\"  # Replace with your CSV file\n",
        "protein_df = pd.read_csv(protein_csv)\n",
        "\n",
        "#Extract the protein IDs for the bacteria (in this case RefSeq Locus Tag A)\n",
        "protein_ids = protein_df[\"RefSeq Locus Tag A\"].tolist()  # Extract the protein names\n",
        "\n",
        "# Parse the FASTA file and create a dictionary of sequences by protein ID\n",
        "fasta_file = file_path+\"/Ecoli_genome_feature.fasta\"  # Replace with your FASTA file\n",
        "fasta_dict = {}\n",
        "\n",
        "# Extract the protein ID and sequence\n",
        "for record in SeqIO.parse(fasta_file, \"fasta\"):\n",
        "    # Split the header by \"|\"\n",
        "    header_parts = record.description.split(\"|\")\n",
        "    if len(header_parts) > 2:\n",
        "        protein_id = header_parts[2].strip()\n",
        "        fasta_dict[protein_id] = str(record.seq)\n",
        "\n",
        "# Match protein IDs with sequences\n",
        "matched_data = []\n",
        "for protein_id in protein_ids:\n",
        "    sequence = fasta_dict.get(protein_id, None)  # Get sequence or None if not found\n",
        "    matched_data.append({\"ProteinID\": protein_id, \"Sequence\": sequence})\n",
        "\n",
        "#Save the matched data to a new CSV\n",
        "matched_df = pd.DataFrame(matched_data)\n",
        "matched_df.to_csv(file_path + \"/ecoli_protein_sequences.csv\", index=False)\n",
        "\n",
        "print(\"Matching completed! Results saved to 'ecoli_protein_sequences.csv'.\")\n",
        "\n"
      ],
      "metadata": {
        "colab": {
          "base_uri": "https://localhost:8080/"
        },
        "id": "WRITe9TOUQmX",
        "outputId": "bd39bb37-cef4-43dd-ae63-ee885132fccf"
      },
      "execution_count": null,
      "outputs": [
        {
          "output_type": "stream",
          "name": "stdout",
          "text": [
            "Matching completed! Results saved to 'ecoli_protein_sequences.csv'.\n"
          ]
        }
      ]
    },
    {
      "cell_type": "code",
      "source": [
        "# Step 5: Check for unmatched proteins\n",
        "unmatched = matched_df[matched_df['Sequence'].isnull()]\n",
        "num_unmatched = len(unmatched)\n",
        "num_total = len(matched_df)\n",
        "\n",
        "\n",
        "print(f\"Total proteins: {num_total}\")\n",
        "print(f\"Matched: {num_total - num_unmatched}\")\n",
        "print(f\"Unmatched: {num_unmatched}\")\n"
      ],
      "metadata": {
        "colab": {
          "base_uri": "https://localhost:8080/"
        },
        "id": "JzkBNqgCUuMV",
        "outputId": "77ee47c8-1c28-443d-e574-6f7f6b8331cd"
      },
      "execution_count": null,
      "outputs": [
        {
          "output_type": "stream",
          "name": "stdout",
          "text": [
            "Total proteins: 62\n",
            "Matched: 62\n",
            "Unmatched: 0\n"
          ]
        }
      ]
    },
    {
      "cell_type": "markdown",
      "source": [
        "###Host Sequence Matching"
      ],
      "metadata": {
        "id": "uDMmYkylVAs-"
      }
    },
    {
      "cell_type": "code",
      "source": [
        "#For the host (human) protein\n",
        "import pandas as pd\n",
        "from Bio import SeqIO\n",
        "import re\n",
        "\n",
        "# For the host (human) protein\n",
        "\n",
        "# Step 1: Load the protein list from the appropriate column\n",
        "protein_csv = file_path + \"/Ecoli_ppi.csv\"  # Replace with your CSV file\n",
        "protein_df = pd.read_csv(protein_csv)\n",
        "\n",
        "# Extract the protein IDs for the host (in this case Interactor B Desc)\n",
        "protein_names = protein_df[\"Interactor B Desc\"].tolist()\n",
        "\n",
        "# Step 2: Parse the FASTA file and create a dictionary of sequences by protein ID\n",
        "fasta_file = file_path + \"/Ecoli_genome_feature.fasta\"  # Replace with your FASTA file\n",
        "fasta_dict = {}\n",
        "\n",
        "# Extract the protein name and sequence from the FASTA file\n",
        "for record in SeqIO.parse(fasta_file, \"fasta\"):\n",
        "    # Split the header by \"|\" and extract the relevant portion\n",
        "    header_parts = record.description.split(\"|\")\n",
        "\n",
        "    if len(header_parts) > 2:\n",
        "        # Extract the full protein name\n",
        "        protein_name = header_parts[2].strip()\n",
        "\n",
        "        # Remove only the final square-bracketed section (e.g., [Homo sapiens | 9606.33])\n",
        "        protein_name = re.sub(r'\\s*\\[[^\\[\\]]+\\]\\s*$', '', protein_name).strip()\n",
        "\n",
        "        fasta_dict[protein_name] = str(record.seq)\n",
        "\n",
        "# Step 3: Match protein names with sequences (allow partial matching)\n",
        "matched_data = []\n",
        "for protein_name in protein_names:\n",
        "    matched_sequence = None\n",
        "    for fasta_name, sequence in fasta_dict.items():\n",
        "        if protein_name.lower() in fasta_name.lower():  # Case insensitive partial matching\n",
        "            matched_sequence = sequence\n",
        "            break\n",
        "\n",
        "    # Add match or None\n",
        "    matched_data.append({\"ProteinName\": protein_name, \"Sequence\": matched_sequence})\n",
        "\n",
        "# Step 4: Save the matched data to a new CSV\n",
        "matched_df = pd.DataFrame(matched_data)\n",
        "matched_df.to_csv(file_path + \"/ecolihostsequences.csv\", index=False)\n",
        "\n",
        "print(\"Matching completed! Results saved to 'ecolihostsequences.csv'.\")\n"
      ],
      "metadata": {
        "colab": {
          "base_uri": "https://localhost:8080/"
        },
        "id": "YrxLXLkRUQaE",
        "outputId": "67c623d5-5283-4a18-db6b-1f710b7b6204"
      },
      "execution_count": null,
      "outputs": [
        {
          "output_type": "stream",
          "name": "stdout",
          "text": [
            "Matching completed! Results saved to 'ecolihostsequences.csv'.\n"
          ]
        }
      ]
    },
    {
      "cell_type": "code",
      "source": [
        "# Step 5: Check for unmatched proteins\n",
        "unmatched = matched_df[matched_df['Sequence'].isnull()]\n",
        "num_unmatched = len(unmatched)\n",
        "num_total = len(matched_df)\n",
        "\n",
        "\n",
        "print(f\"Total proteins: {num_total}\")\n",
        "print(f\"Matched: {num_total - num_unmatched}\")\n",
        "print(f\"Unmatched: {num_unmatched}\")\n"
      ],
      "metadata": {
        "colab": {
          "base_uri": "https://localhost:8080/"
        },
        "id": "ZR2TriBjUQO3",
        "outputId": "f8a61451-5b78-4cb4-9bc5-7954484bf9c9"
      },
      "execution_count": null,
      "outputs": [
        {
          "output_type": "stream",
          "name": "stdout",
          "text": [
            "Total proteins: 62\n",
            "Matched: 62\n",
            "Unmatched: 0\n"
          ]
        }
      ]
    },
    {
      "cell_type": "code",
      "source": [
        "#merge host and pathogen\n",
        "# Load the host and pathogen CSV files\n",
        "host_df = pd.read_csv(file_path + \"/ecolihostsequences.csv\")\n",
        "pathogen_df = pd.read_csv(file_path + \"/ecoli_protein_sequences.csv\")\n",
        "\n",
        "#Rename the columns for clarity\n",
        "host_df.columns = [\"Host Protein\", \"Host Sequence\"]\n",
        "pathogen_df.columns = [\"Pathogen Protein\", \"Pathogen Sequence\"]\n",
        "\n",
        "# Merge both DataFrames side by side (column-wise)\n",
        "merged_df = pd.concat([host_df, pathogen_df], axis=1)\n",
        "\n",
        "# Save the merged DataFrame to a new CSV file\n",
        "merged_df.to_csv(file_path + \"/host_ecoli_pairs.csv\", index=False)\n",
        "\n",
        "print(\"Merging completed. File saved as 'host_ecoli_pairs.csv'.\")\n"
      ],
      "metadata": {
        "colab": {
          "base_uri": "https://localhost:8080/"
        },
        "id": "_9LCKCLmUP80",
        "outputId": "7e970b94-bae8-4243-a5cb-9609d572e6e1"
      },
      "execution_count": null,
      "outputs": [
        {
          "output_type": "stream",
          "name": "stdout",
          "text": [
            "Merging completed. File saved as 'host_ecoli_pairs.csv'.\n"
          ]
        }
      ]
    },
    {
      "cell_type": "markdown",
      "source": [
        "##Fransicella"
      ],
      "metadata": {
        "id": "Q-WJhXyhQjTX"
      }
    },
    {
      "cell_type": "markdown",
      "source": [
        "###Pathogen Sequence Matching"
      ],
      "metadata": {
        "id": "FrgRg7ObX6WA"
      }
    },
    {
      "cell_type": "code",
      "source": [
        "#Load the protein list from the CSV file\n",
        "protein_csv = file_path+\"/Francisella_ppi.csv\"  # Replace with your CSV file\n",
        "protein_df = pd.read_csv(protein_csv)\n",
        "\n",
        "#Extract the protein IDs for the bacteria (in this case RefSeq Locus Tag A)\n",
        "protein_ids = protein_df[\"RefSeq Locus Tag A\"].tolist()  # Extract the protein names\n",
        "\n",
        "# Parse the FASTA file and create a dictionary of sequences by protein ID\n",
        "fasta_file = file_path+\"/Francisella_genome_feature.fasta\"  # Replace with your FASTA file\n",
        "fasta_dict = {}\n",
        "\n",
        "# Extract the protein ID and sequence\n",
        "for record in SeqIO.parse(fasta_file, \"fasta\"):\n",
        "    # Split the header by \"|\"\n",
        "    header_parts = record.description.split(\"|\")\n",
        "    if len(header_parts) > 2:\n",
        "        protein_id = header_parts[2].strip()\n",
        "        fasta_dict[protein_id] = str(record.seq)\n",
        "\n",
        "# Match protein IDs with sequences\n",
        "matched_data = []\n",
        "for protein_id in protein_ids:\n",
        "    sequence = fasta_dict.get(protein_id, None)  # Get sequence or None if not found\n",
        "    matched_data.append({\"ProteinID\": protein_id, \"Sequence\": sequence})\n",
        "\n",
        "#Save the matched data to a new CSV\n",
        "matched_df = pd.DataFrame(matched_data)\n",
        "matched_df.to_csv(file_path + \"/francisella_protein_sequences.csv\", index=False)\n",
        "\n",
        "print(\"Matching completed! Results saved to 'francisella_protein_sequences.csv'.\")\n",
        "\n"
      ],
      "metadata": {
        "colab": {
          "base_uri": "https://localhost:8080/"
        },
        "id": "27nufm-pYMuW",
        "outputId": "daed7509-968c-4c45-b046-4ab17ea8e4a3"
      },
      "execution_count": null,
      "outputs": [
        {
          "output_type": "stream",
          "name": "stdout",
          "text": [
            "Matching completed! Results saved to 'francisella_protein_sequences.csv'.\n"
          ]
        }
      ]
    },
    {
      "cell_type": "code",
      "source": [
        "# Step 5: Check for unmatched proteins\n",
        "unmatched = matched_df[matched_df['Sequence'].isnull()]\n",
        "num_unmatched = len(unmatched)\n",
        "num_total = len(matched_df)\n",
        "\n",
        "\n",
        "print(f\"Total proteins: {num_total}\")\n",
        "print(f\"Matched: {num_total - num_unmatched}\")\n",
        "print(f\"Unmatched: {num_unmatched}\")\n"
      ],
      "metadata": {
        "colab": {
          "base_uri": "https://localhost:8080/"
        },
        "id": "fwgPGbWBYMmw",
        "outputId": "51328b6e-6fef-4ead-836c-5d561b4f5ba0"
      },
      "execution_count": null,
      "outputs": [
        {
          "output_type": "stream",
          "name": "stdout",
          "text": [
            "Total proteins: 1199\n",
            "Matched: 1199\n",
            "Unmatched: 0\n"
          ]
        }
      ]
    },
    {
      "cell_type": "markdown",
      "source": [
        "###Host Sequence Matching"
      ],
      "metadata": {
        "id": "P-bCnGm-YSlm"
      }
    },
    {
      "cell_type": "code",
      "source": [
        "#For the host (human) protein\n",
        "import pandas as pd\n",
        "from Bio import SeqIO\n",
        "import re\n",
        "\n",
        "# For the host (human) protein\n",
        "\n",
        "# Step 1: Load the protein list from the appropriate column\n",
        "protein_csv = file_path + \"/Francisella_ppi.csv\"  # Replace with your CSV file\n",
        "protein_df = pd.read_csv(protein_csv)\n",
        "\n",
        "# Extract the protein IDs for the host (in this case Interactor B Desc)\n",
        "protein_names = protein_df[\"Interactor B Desc\"].tolist()\n",
        "\n",
        "# Step 2: Parse the FASTA file and create a dictionary of sequences by protein ID\n",
        "fasta_file = file_path + \"/Francisella_genome_feature.fasta\"  # Replace with your FASTA file\n",
        "fasta_dict = {}\n",
        "\n",
        "# Extract the protein name and sequence from the FASTA file\n",
        "for record in SeqIO.parse(fasta_file, \"fasta\"):\n",
        "    # Split the header by \"|\" and extract the relevant portion\n",
        "    header_parts = record.description.split(\"|\")\n",
        "\n",
        "    if len(header_parts) > 2:\n",
        "        # Extract the full protein name\n",
        "        protein_name = header_parts[2].strip()\n",
        "\n",
        "        # Remove only the final square-bracketed section (e.g., [Homo sapiens | 9606.33])\n",
        "        protein_name = re.sub(r'\\s*\\[[^\\[\\]]+\\]\\s*$', '', protein_name).strip()\n",
        "\n",
        "        fasta_dict[protein_name] = str(record.seq)\n",
        "\n",
        "# Step 3: Match protein names with sequences (allow partial matching)\n",
        "matched_data = []\n",
        "for protein_name in protein_names:\n",
        "    matched_sequence = None\n",
        "    for fasta_name, sequence in fasta_dict.items():\n",
        "        if protein_name.lower() in fasta_name.lower():  # Case insensitive partial matching\n",
        "            matched_sequence = sequence\n",
        "            break\n",
        "\n",
        "    # Add match or None\n",
        "    matched_data.append({\"ProteinName\": protein_name, \"Sequence\": matched_sequence})\n",
        "\n",
        "# Step 4: Save the matched data to a new CSV\n",
        "matched_df = pd.DataFrame(matched_data)\n",
        "matched_df.to_csv(file_path + \"/francisellahostsequences.csv\", index=False)\n",
        "\n",
        "print(\"Matching completed! Results saved to 'francisellahostsequences.csv'.\")"
      ],
      "metadata": {
        "colab": {
          "base_uri": "https://localhost:8080/"
        },
        "id": "pIAKGpMnYMiL",
        "outputId": "89fe2505-11d2-40d7-c17c-4f98c76dd913"
      },
      "execution_count": null,
      "outputs": [
        {
          "output_type": "stream",
          "name": "stdout",
          "text": [
            "Matching completed! Results saved to 'francisellahostsequences.csv'.\n"
          ]
        }
      ]
    },
    {
      "cell_type": "code",
      "source": [
        "# Step 5: Check for unmatched proteins\n",
        "unmatched = matched_df[matched_df['Sequence'].isnull()]\n",
        "num_unmatched = len(unmatched)\n",
        "num_total = len(matched_df)\n",
        "\n",
        "\n",
        "print(f\"Total proteins: {num_total}\")\n",
        "print(f\"Matched: {num_total - num_unmatched}\")\n",
        "print(f\"Unmatched: {num_unmatched}\")\n"
      ],
      "metadata": {
        "colab": {
          "base_uri": "https://localhost:8080/"
        },
        "id": "isz_uhbZYMWr",
        "outputId": "82f17ce2-a37d-4384-e44d-e5c28d158a13"
      },
      "execution_count": null,
      "outputs": [
        {
          "output_type": "stream",
          "name": "stdout",
          "text": [
            "Total proteins: 1199\n",
            "Matched: 1199\n",
            "Unmatched: 0\n"
          ]
        }
      ]
    },
    {
      "cell_type": "code",
      "source": [
        "#merge host and pathogen\n",
        "# Load the host and pathogen CSV files\n",
        "host_df = pd.read_csv(file_path + \"/francisellahostsequences.csv\")\n",
        "pathogen_df = pd.read_csv(file_path + \"/francisella_protein_sequences.csv\")\n",
        "\n",
        "#Rename the columns for clarity\n",
        "host_df.columns = [\"Host Protein\", \"Host Sequence\"]\n",
        "pathogen_df.columns = [\"Pathogen Protein\", \"Pathogen Sequence\"]\n",
        "\n",
        "# Merge both DataFrames side by side (column-wise)\n",
        "merged_df = pd.concat([host_df, pathogen_df], axis=1)\n",
        "\n",
        "# Save the merged DataFrame to a new CSV file\n",
        "merged_df.to_csv(file_path + \"/host_francisella_pairs.csv\", index=False)\n",
        "\n",
        "print(\"Merging completed. File saved as 'host_francisella_pairs.csv'.\")\n"
      ],
      "metadata": {
        "colab": {
          "base_uri": "https://localhost:8080/"
        },
        "id": "VpgVdZDQUPeY",
        "outputId": "00ea4e54-138c-4bd2-c578-73e9c0883544"
      },
      "execution_count": null,
      "outputs": [
        {
          "output_type": "stream",
          "name": "stdout",
          "text": [
            "Merging completed. File saved as 'host_francisella_pairs.csv'.\n"
          ]
        }
      ]
    },
    {
      "cell_type": "markdown",
      "source": [
        "##Yersinia"
      ],
      "metadata": {
        "id": "9bHRY4aHQWtU"
      }
    },
    {
      "cell_type": "markdown",
      "source": [
        "###Pathogen Sequence Matching"
      ],
      "metadata": {
        "id": "spTq9sDbdlEb"
      }
    },
    {
      "cell_type": "code",
      "source": [
        "#Load the protein list from the CSV file\n",
        "protein_csv = file_path+\"/Yersinia_ppi.csv\"  # Replace with your CSV file\n",
        "protein_df = pd.read_csv(protein_csv)\n",
        "\n",
        "#Extract the protein IDs for the bacteria (in this case RefSeq Locus Tag A)\n",
        "protein_ids = protein_df[\"RefSeq Locus Tag A\"].tolist()  # Extract the protein names\n",
        "\n",
        "# Parse the FASTA file and create a dictionary of sequences by protein ID\n",
        "fasta_file = file_path+\"/Yersinia_genome_feature.fasta\"  # Replace with your FASTA file\n",
        "fasta_dict = {}\n",
        "\n",
        "# Extract the protein ID and sequence\n",
        "for record in SeqIO.parse(fasta_file, \"fasta\"):\n",
        "    # Split the header by \"|\"\n",
        "    header_parts = record.description.split(\"|\")\n",
        "    if len(header_parts) > 2:\n",
        "        protein_id = header_parts[2].strip()\n",
        "        fasta_dict[protein_id] = str(record.seq)\n",
        "\n",
        "# Match protein IDs with sequences\n",
        "matched_data = []\n",
        "for protein_id in protein_ids:\n",
        "    sequence = fasta_dict.get(protein_id, None)  # Get sequence or None if not found\n",
        "    matched_data.append({\"ProteinID\": protein_id, \"Sequence\": sequence})\n",
        "\n",
        "#Save the matched data to a new CSV\n",
        "matched_df = pd.DataFrame(matched_data)\n",
        "matched_df.to_csv(file_path + \"/yersinia_protein_sequences.csv\", index=False)\n",
        "\n",
        "print(\"Matching completed! Results saved to 'yersinia_protein_sequences.csv'.\")\n",
        "\n"
      ],
      "metadata": {
        "colab": {
          "base_uri": "https://localhost:8080/"
        },
        "id": "XphgfFMRdpEL",
        "outputId": "d72f7236-de46-4dea-99bf-d6631459705c"
      },
      "execution_count": null,
      "outputs": [
        {
          "output_type": "stream",
          "name": "stdout",
          "text": [
            "Matching completed! Results saved to 'yersinia_protein_sequences.csv'.\n"
          ]
        }
      ]
    },
    {
      "cell_type": "code",
      "source": [
        "# Step 5: Check for unmatched proteins\n",
        "unmatched = matched_df[matched_df['Sequence'].isnull()]\n",
        "num_unmatched = len(unmatched)\n",
        "num_total = len(matched_df)\n",
        "\n",
        "\n",
        "print(f\"Total proteins: {num_total}\")\n",
        "print(f\"Matched: {num_total - num_unmatched}\")\n",
        "print(f\"Unmatched: {num_unmatched}\")\n"
      ],
      "metadata": {
        "colab": {
          "base_uri": "https://localhost:8080/"
        },
        "id": "R9R5Eqxrdoiv",
        "outputId": "4c4ff89d-f953-4355-f200-07b343590ca4"
      },
      "execution_count": null,
      "outputs": [
        {
          "output_type": "stream",
          "name": "stdout",
          "text": [
            "Total proteins: 2549\n",
            "Matched: 2549\n",
            "Unmatched: 0\n"
          ]
        }
      ]
    },
    {
      "cell_type": "markdown",
      "source": [
        "###Host Sequence Matching"
      ],
      "metadata": {
        "id": "dOFeko1odymB"
      }
    },
    {
      "cell_type": "code",
      "source": [
        "#For the host (human) protein\n",
        "import pandas as pd\n",
        "from Bio import SeqIO\n",
        "import re\n",
        "\n",
        "# For the host (human) protein\n",
        "\n",
        "# Step 1: Load the protein list from the appropriate column\n",
        "protein_csv = file_path + \"/Yersinia_ppi.csv\"  # Replace with your CSV file\n",
        "protein_df = pd.read_csv(protein_csv)\n",
        "\n",
        "# Extract the protein IDs for the host (in this case Interactor B Desc)\n",
        "protein_names = protein_df[\"Interactor B Desc\"].tolist()\n",
        "\n",
        "# Step 2: Parse the FASTA file and create a dictionary of sequences by protein ID\n",
        "fasta_file = file_path + \"/Yersinia_genome_feature.fasta\"  # Replace with your FASTA file\n",
        "fasta_dict = {}\n",
        "\n",
        "# Extract the protein name and sequence from the FASTA file\n",
        "for record in SeqIO.parse(fasta_file, \"fasta\"):\n",
        "    # Split the header by \"|\" and extract the relevant portion\n",
        "    header_parts = record.description.split(\"|\")\n",
        "\n",
        "    if len(header_parts) > 2:\n",
        "        # Extract the full protein name\n",
        "        protein_name = header_parts[2].strip()\n",
        "\n",
        "        # Remove only the final square-bracketed section (e.g., [Homo sapiens | 9606.33])\n",
        "        protein_name = re.sub(r'\\s*\\[[^\\[\\]]+\\]\\s*$', '', protein_name).strip()\n",
        "\n",
        "        fasta_dict[protein_name] = str(record.seq)\n",
        "\n",
        "# Step 3: Match protein names with sequences (allow partial matching)\n",
        "matched_data = []\n",
        "for protein_name in protein_names:\n",
        "    matched_sequence = None\n",
        "    for fasta_name, sequence in fasta_dict.items():\n",
        "        if protein_name.lower() in fasta_name.lower():  # Case insensitive partial matching\n",
        "            matched_sequence = sequence\n",
        "            break\n",
        "\n",
        "    # Add match or None\n",
        "    matched_data.append({\"ProteinName\": protein_name, \"Sequence\": matched_sequence})\n",
        "\n",
        "# Step 4: Save the matched data to a new CSV\n",
        "matched_df = pd.DataFrame(matched_data)\n",
        "matched_df.to_csv(file_path + \"/yersiniahostsequences.csv\", index=False)\n",
        "\n",
        "print(\"Matching completed! Results saved to 'yersiniahostsequences.csv'.\")\n",
        "\n"
      ],
      "metadata": {
        "colab": {
          "base_uri": "https://localhost:8080/"
        },
        "id": "MfAw5Qp0d2Lw",
        "outputId": "f027dabb-41e5-47ae-bb3e-15e0e700285a"
      },
      "execution_count": null,
      "outputs": [
        {
          "output_type": "stream",
          "name": "stdout",
          "text": [
            "Matching completed! Results saved to 'yersiniahostsequences.csv'.\n"
          ]
        }
      ]
    },
    {
      "cell_type": "code",
      "source": [
        "# Step 5: Check for unmatched proteins\n",
        "unmatched = matched_df[matched_df['Sequence'].isnull()]\n",
        "num_unmatched = len(unmatched)\n",
        "num_total = len(matched_df)\n",
        "\n",
        "\n",
        "print(f\"Total proteins: {num_total}\")\n",
        "print(f\"Matched: {num_total - num_unmatched}\")\n",
        "print(f\"Unmatched: {num_unmatched}\")\n"
      ],
      "metadata": {
        "colab": {
          "base_uri": "https://localhost:8080/"
        },
        "id": "JhoXCe4dd1qs",
        "outputId": "3e205909-7b4f-4753-db6e-43df149c2da5"
      },
      "execution_count": null,
      "outputs": [
        {
          "output_type": "stream",
          "name": "stdout",
          "text": [
            "Total proteins: 2549\n",
            "Matched: 2549\n",
            "Unmatched: 0\n"
          ]
        }
      ]
    },
    {
      "cell_type": "code",
      "source": [
        "#merge host and pathogen\n",
        "# Load the host and pathogen CSV files\n",
        "host_df = pd.read_csv(file_path + \"/yersiniahostsequences.csv\")\n",
        "pathogen_df = pd.read_csv(file_path + \"/yersinia_protein_sequences.csv\")\n",
        "\n",
        "#Rename the columns for clarity\n",
        "host_df.columns = [\"Host Protein\", \"Host Sequence\"]\n",
        "pathogen_df.columns = [\"Pathogen Protein\", \"Pathogen Sequence\"]\n",
        "\n",
        "# Merge both DataFrames side by side (column-wise)\n",
        "merged_df = pd.concat([host_df, pathogen_df], axis=1)\n",
        "\n",
        "# Save the merged DataFrame to a new CSV file\n",
        "merged_df.to_csv(file_path + \"/host_yersinia_pairs.csv\", index=False)\n",
        "\n",
        "print(\"Merging completed. File saved as 'host_yersinia_pairs.csv'.\")\n"
      ],
      "metadata": {
        "colab": {
          "base_uri": "https://localhost:8080/"
        },
        "id": "qBdIZ_q6eBZO",
        "outputId": "33e22c13-1a08-4146-ece9-28d380f57090"
      },
      "execution_count": null,
      "outputs": [
        {
          "output_type": "stream",
          "name": "stdout",
          "text": [
            "Merging completed. File saved as 'host_yersinia_pairs.csv'.\n"
          ]
        }
      ]
    },
    {
      "cell_type": "markdown",
      "source": [
        "After running this script, you will obtain human-bacillus host-pathogen interaction (HPI) dataset containing protein IDs and corresponding sequence in both the host and the pathogen.\n",
        "\n",
        "To process other baterial genera (*Escherichia coli, Francisella, Yersinia*) you follow the same steps to extract and match protein IDs with their sequences for the host and the pathogen.\n"
      ],
      "metadata": {
        "id": "K_YXXXXAt6fB"
      }
    },
    {
      "cell_type": "code",
      "source": [],
      "metadata": {
        "id": "eMTRUjoG6Tyn"
      },
      "execution_count": null,
      "outputs": []
    },
    {
      "cell_type": "markdown",
      "source": [
        "#**Negative Dataset**\n",
        "\n",
        "\n",
        "To make this step less computationally intensive, we carried out the following steps.\n",
        "\n",
        "\n",
        "**PATHOGEN PROTEINS**\n",
        "\n",
        "**Step 1: Download the list of proteins and their sequences for the selected bacterial species** (Bacillus anthracis, Escherichia coli, Francisella tularensis, and Yersinia pestis).\n",
        "\n",
        "*   From the PATRIC database, use the search bar to find the specific specie present in the positive datase  to open its overview page.\n",
        "*  **Type the species name exactly as shown below to locate the correct reference genome.**\n",
        "  *   Bacillus: Bacillus anthracis str.Ames,\n",
        "  *    Ecoli: Escherichia coli O157:H7 str. Sakai,\n",
        "  *   Francisella: Francisella tularensis subsp. tularensis SCHU S4,\n",
        "  *   Yersinia: Yersinia pestis CO92.\n",
        "*   **From the search result, click on the taxonomy name that matches the search to go to its overview page**.\n",
        "*   **Select the \"Proteins\" tab** to veiw the full list of protein-coding genes.\n",
        "*   **Download the protein table** by clicking the CSV option under the \"Download\" tab.\n",
        "*   To **download the protein sequences**:  \n",
        "\n",
        "    *   Select all the proteins on the page.\n",
        "    *  Click on the dowmload tab.\n",
        "    *  Choose \"Protein FASTA\".\n",
        "\n",
        "This will give you the protein table (CSV) and the protein sequence (FASTA) for each bacterial specie.\n",
        "    \n",
        "  * Bacillus: Bacillus anthracis str.Ames - 5699 proteins\n",
        "  *    Ecoli: Escherichia coli O157:H7 str. Sakai - 5725 proteins\n",
        "  *   Francisella: Francisella tularensis subsp. tularensis SCHU S4 - 20,826 proteins\n",
        "  *   Yersinia: Yersinia pestis CO92 - 9688 proteins.\n"
      ],
      "metadata": {
        "id": "TUZxBnliH-ry"
      }
    },
    {
      "cell_type": "markdown",
      "source": [
        "**Step 2: Filter out Proteins Involved in known Interactions.**\n",
        "\n",
        "\n",
        "For each organisnism, remove all proteins that are present in the positive HPI dataaset. This is to ensure that there are no overlap between positive and negative data.\n",
        "\n",
        "In this step, we will:\n",
        "* Extact the proteins IDs of the pathogen fron the positive data.  \n",
        "* Identify the unique proteins\n",
        "* Compare against the organism's full protein list.\n",
        "* Remove any protein that appears in the positive dataset."
      ],
      "metadata": {
        "id": "EehibXCAxSju"
      }
    },
    {
      "cell_type": "markdown",
      "source": [
        "##Negative Bacillus"
      ],
      "metadata": {
        "id": "avCQ8T036xSU"
      }
    },
    {
      "cell_type": "markdown",
      "source": [
        "###**Step 1: Extract Unique IDs**"
      ],
      "metadata": {
        "id": "wcFLJzrTRuUs"
      }
    },
    {
      "cell_type": "code",
      "source": [
        "#Extract pathogen protein IDs and select unique proteins\n",
        "file_path = '/content/my_drive/My Drive/HPI'\n",
        "# Load the interaction data\n",
        "df = pd.read_csv(file_path + \"/host_bacillus_pairs.csv\")\n",
        "\n",
        "# Extract pathogen protein IDs\n",
        "pathogen_ids = df[\"Pathogen Protein\"].dropna()\n",
        "\n",
        "# Get unique pathogen protein IDs\n",
        "unique_pathogen_ids = pathogen_ids.unique()\n",
        "\n",
        "# Convert to a list\n",
        "unique_pathogen_ids = list(unique_pathogen_ids)\n",
        "\n",
        "#Save to csv\n",
        "unique_pathogen_ids_df = pd.DataFrame(unique_pathogen_ids, columns=[\"Unique Pathogen ID\"])\n",
        "unique_pathogen_ids_df.to_csv(file_path + \"/bacillusunique_ids.csv\", index=False)\n",
        "\n",
        "# Display result\n",
        "print(f\"Unique Ids saved\")\n"
      ],
      "metadata": {
        "id": "AjLC6nXm8iW1",
        "colab": {
          "base_uri": "https://localhost:8080/"
        },
        "outputId": "04aba450-e967-40ec-855e-baec5ed22e4c"
      },
      "execution_count": null,
      "outputs": [
        {
          "output_type": "stream",
          "name": "stdout",
          "text": [
            "Unique Ids saved\n"
          ]
        }
      ]
    },
    {
      "cell_type": "markdown",
      "source": [
        "###**Step 2: Filter Pathogen Protein List**"
      ],
      "metadata": {
        "id": "Cxv6J696R5j1"
      }
    },
    {
      "cell_type": "code",
      "source": [
        "\n",
        "# Load the files\n",
        "bacillus_proteins = file_path + \"/AllBacillus_Proteins.csv\"  # File containing all proteins\n",
        "unique_proteins = file_path + \"/bacillusunique_ids.csv\"  # File with proteins to remove (known interactors)\n",
        "\n",
        "# Read data\n",
        "protein_list_df = pd.read_csv(bacillus_proteins)\n",
        "proteins_to_remove_df = pd.read_csv(unique_proteins)\n",
        "\n",
        "# Extract the column with protein IDs\n",
        "all_proteins = protein_list_df[\"RefSeq Locus Tag\"]\n",
        "proteins_to_remove = proteins_to_remove_df.iloc[:, 0]  #first column contains the protein IDs to remove\n",
        "\n",
        "# Filter out known interacting proteins\n",
        "filtered_proteins = all_proteins[~all_proteins.isin(proteins_to_remove)]\n",
        "\n",
        "# Save the filtered list\n",
        "filtered_proteins.to_csv(file_path + \"/Bacilusfiltered_protein_list.csv\", index=False)\n",
        "\n",
        "print(\"Filtered protein list saved to 'Bacilusfiltered_protein_list.csv'\")\n"
      ],
      "metadata": {
        "id": "Rhd5ZBWYOgoS",
        "colab": {
          "base_uri": "https://localhost:8080/"
        },
        "outputId": "28af10a5-414c-4dcb-e368-7bd54004787c"
      },
      "execution_count": null,
      "outputs": [
        {
          "output_type": "stream",
          "name": "stdout",
          "text": [
            "Filtered protein list saved to 'Bacilusfiltered_protein_list.csv'\n"
          ]
        }
      ]
    },
    {
      "cell_type": "markdown",
      "source": [
        "###**Step 3: Match Filtered Proteins with their FASTA Sequences.**\n",
        "\n",
        "In this step we will:\n",
        "* Parse the FASTA file downloaded for the protein list in Step 1.\n",
        "* Match each protein ID in the filtered list with its corresponding sequence.\n",
        "* Save for further downstream analysis."
      ],
      "metadata": {
        "id": "VgAKZUuHOI7K"
      }
    },
    {
      "cell_type": "code",
      "source": [
        "\n",
        "# Step 1: Load the protein list from the CSV file\n",
        "protein_csv = file_path + \"/Bacilusfiltered_protein_list.csv\"  # Replace with your CSV file\n",
        "protein_df = pd.read_csv(protein_csv)\n",
        "protein_ids = protein_df[\"RefSeq Locus Tag\"].tolist()  # Extract the column with the protein names\n",
        "\n",
        "# Step 2: Parse the FASTA file and create a dictionary of sequences by pro-tein ID\n",
        "fasta_file = file_path + \"/AllBacillussequence.fasta\"  # Replace with your FASTA file-protein sequence of the organism\n",
        "fasta_dict = {}\n",
        "\n",
        "# Extract the ID and sequence\n",
        "for record in SeqIO.parse(fasta_file, \"fasta\"):\n",
        "    # Split the header by \"|\"\n",
        "    header_parts = record.description.split(\"|\")\n",
        "    if len(header_parts) > 2:\n",
        "        protein_id = header_parts[2].strip()  # Extract names of the proteins\n",
        "        fasta_dict[protein_id] = str(record.seq)\n",
        "\n",
        "\n",
        "# Step 3: Match protein IDs with sequences\n",
        "matched_data = []\n",
        "for protein_id in protein_ids:\n",
        "    sequence = fasta_dict.get(protein_id, None)  # Get sequence or None if not found\n",
        "    if sequence:  # Only include matched proteins\n",
        "        matched_data.append({\"ProteinID\": protein_id, \"Sequence\": sequence})\n",
        "\n",
        "\n",
        "# Step 4: Save the matched data to a new CSV\n",
        "matched_df = pd.DataFrame(matched_data)\n",
        "matched_df.to_csv(file_path + \"/NegBacillusMatched.csv\", index=False)\n",
        "\n",
        "print(f\"Matching completed! {len(matched_df)} saved to 'NegBacillusMatched.csv'.\")\n"
      ],
      "metadata": {
        "id": "SpEmjff3ljeX",
        "colab": {
          "base_uri": "https://localhost:8080/"
        },
        "outputId": "b649226d-beb1-41ff-f77b-9799e9940df8"
      },
      "execution_count": null,
      "outputs": [
        {
          "output_type": "stream",
          "name": "stdout",
          "text": [
            "Matching completed! 5067 saved to 'NegBacillusMatched.csv'.\n"
          ]
        }
      ]
    },
    {
      "cell_type": "markdown",
      "source": [
        "##Negative Ecoli Data Matching"
      ],
      "metadata": {
        "id": "2RYs1Qgw6_Jg"
      }
    },
    {
      "cell_type": "code",
      "source": [
        "#Extract pathogen protein IDs and select unique proteins\n",
        "file_path = '/content/my_drive/My Drive/HPI'\n",
        "# Load the interaction data\n",
        "df = pd.read_csv(file_path + \"/host_ecoli_pairs.csv\")\n",
        "\n",
        "# Extract pathogen protein IDs\n",
        "pathogen_ids = df[\"Pathogen Protein\"].dropna()\n",
        "\n",
        "# Get unique pathogen protein IDs\n",
        "unique_pathogen_ids = pathogen_ids.unique()\n",
        "\n",
        "# Convert to a list\n",
        "unique_pathogen_ids = list(unique_pathogen_ids)\n",
        "\n",
        "#Save to csv\n",
        "unique_pathogen_ids_df = pd.DataFrame(unique_pathogen_ids, columns=[\"Unique Pathogen ID\"])\n",
        "unique_pathogen_ids_df.to_csv(file_path + \"/ecoliunique_ids.csv\", index=False)\n",
        "\n",
        "# Display result\n",
        "print(f\"Unique Ids saved\")\n"
      ],
      "metadata": {
        "colab": {
          "base_uri": "https://localhost:8080/"
        },
        "id": "phJQOAYi7Egr",
        "outputId": "7b69ce4a-1de6-436a-a488-e55635d12f12"
      },
      "execution_count": null,
      "outputs": [
        {
          "output_type": "stream",
          "name": "stdout",
          "text": [
            "Unique Ids saved\n"
          ]
        }
      ]
    },
    {
      "cell_type": "code",
      "source": [
        "# Load the files\n",
        "ecoli_proteins = file_path + \"/Ecoli_allproteins.csv\"  # File containing all proteins\n",
        "unique_proteins = file_path + \"/ecoliunique_ids.csv\"  # File with proteins to remove (known interactors)\n",
        "\n",
        "# Read data\n",
        "protein_list_df = pd.read_csv(ecoli_proteins)\n",
        "proteins_to_remove_df = pd.read_csv(unique_proteins)\n",
        "\n",
        "# Extract the column with protein IDs\n",
        "all_proteins = protein_list_df[\"RefSeq Locus Tag\"]\n",
        "proteins_to_remove = proteins_to_remove_df.iloc[:, 0]  #first column contains the protein IDs to remove\n",
        "\n",
        "# Filter out known interacting proteins\n",
        "filtered_proteins = all_proteins[~all_proteins.isin(proteins_to_remove)]\n",
        "\n",
        "# Save the filtered list\n",
        "filtered_proteins.to_csv(file_path + \"/ecolifiltered_protein_list.csv\", index=False)\n",
        "\n",
        "print(\"Filtered protein list saved to 'ecolifiltered_protein_list.csv'\")"
      ],
      "metadata": {
        "colab": {
          "base_uri": "https://localhost:8080/"
        },
        "id": "MpV_Zu5V7ESs",
        "outputId": "9ce63c5d-2d8d-42da-9b24-bf30a658056e"
      },
      "execution_count": null,
      "outputs": [
        {
          "output_type": "stream",
          "name": "stdout",
          "text": [
            "Filtered protein list saved to 'ecolifiltered_protein_list.csv'\n"
          ]
        }
      ]
    },
    {
      "cell_type": "code",
      "source": [
        "# Step 1: Load the protein list from the CSV file\n",
        "protein_csv = file_path + \"/ecolifiltered_protein_list.csv\"  # Replace with your CSV file\n",
        "protein_df = pd.read_csv(protein_csv)\n",
        "protein_ids = protein_df[\"RefSeq Locus Tag\"].tolist()  # Extract the column with the protein names\n",
        "\n",
        "# Step 2: Parse the FASTA file and create a dictionary of sequences by pro-tein ID\n",
        "fasta_file = file_path + \"/Ecoli_allprotein_sequence.fasta\"  # Replace with your FASTA file-protein sequence of the organism\n",
        "fasta_dict = {}\n",
        "\n",
        "# Extract the ID and sequence\n",
        "for record in SeqIO.parse(fasta_file, \"fasta\"):\n",
        "    # Split the header by \"|\"\n",
        "    header_parts = record.description.split(\"|\")\n",
        "    if len(header_parts) > 2:\n",
        "        protein_id = header_parts[2].strip()  # Extract names of the proteins\n",
        "        fasta_dict[protein_id] = str(record.seq)\n",
        "\n",
        "# Step 3: Match protein IDs with sequences\n",
        "matched_data = []\n",
        "for protein_id in protein_ids:\n",
        "    sequence = fasta_dict.get(protein_id, None)  # Get sequence or None if not found\n",
        "    if sequence:  # Only include matched proteins\n",
        "        matched_data.append({\"ProteinID\": protein_id, \"Sequence\": sequence})\n",
        "\n",
        "\n",
        "# Step 4: Save the matched data to a new CSV\n",
        "matched_df = pd.DataFrame(matched_data)\n",
        "matched_df.to_csv(file_path + \"/NegEcoliMatched.csv\", index=False)\n",
        "\n",
        "print(f\"Matching completed! {len(matched_df)} Results saved to 'NegEcoliMatched.csv'.\")\n"
      ],
      "metadata": {
        "colab": {
          "base_uri": "https://localhost:8080/"
        },
        "id": "IrZ19a8p7DqY",
        "outputId": "993770bf-9f22-4742-f8c7-7dd333b6027f"
      },
      "execution_count": null,
      "outputs": [
        {
          "output_type": "stream",
          "name": "stdout",
          "text": [
            "Matching completed! 5301 Results saved to 'NegEcoliMatched.csv'.\n"
          ]
        }
      ]
    },
    {
      "cell_type": "markdown",
      "source": [
        "##Negative Fransicella Data Matching"
      ],
      "metadata": {
        "id": "fNJ4vwMH7FMn"
      }
    },
    {
      "cell_type": "code",
      "source": [
        "#Extract pathogen protein IDs and select unique proteins\n",
        "file_path = '/content/my_drive/My Drive/HPI'\n",
        "# Load the interaction data\n",
        "df = pd.read_csv(file_path + \"/host_francisella_pairs.csv\")\n",
        "\n",
        "# Extract pathogen protein IDs\n",
        "pathogen_ids = df[\"Pathogen Protein\"].dropna()\n",
        "\n",
        "# Get unique pathogen protein IDs\n",
        "unique_pathogen_ids = pathogen_ids.unique()\n",
        "\n",
        "# Convert to a list\n",
        "unique_pathogen_ids = list(unique_pathogen_ids)\n",
        "\n",
        "#Save to csv\n",
        "unique_pathogen_ids_df = pd.DataFrame(unique_pathogen_ids, columns=[\"Unique Pathogen ID\"])\n",
        "unique_pathogen_ids_df.to_csv(file_path + \"/francisellaunique_ids.csv\", index=False)\n",
        "\n",
        "# Display result\n",
        "print(f\"Unique Ids saved\")\n"
      ],
      "metadata": {
        "colab": {
          "base_uri": "https://localhost:8080/"
        },
        "id": "Z_j_f-Un7OhQ",
        "outputId": "746fd40d-6409-4a1b-91ba-cbb2c004052e"
      },
      "execution_count": null,
      "outputs": [
        {
          "output_type": "stream",
          "name": "stdout",
          "text": [
            "Unique Ids saved\n"
          ]
        }
      ]
    },
    {
      "cell_type": "code",
      "source": [
        "# Load the files\n",
        "francisella_proteins = file_path + \"/Francisella10000.csv\"  # This File containing the first 1000 proteins in francisella\n",
        "unique_proteins = file_path + \"/francisellaunique_ids.csv\"  # File with proteins to remove (known interactors)\n",
        "\n",
        "# Read data\n",
        "protein_list_df = pd.read_csv(francisella_proteins)\n",
        "proteins_to_remove_df = pd.read_csv(unique_proteins)\n",
        "\n",
        "# Extract the column with protein IDs\n",
        "all_proteins = protein_list_df[\"RefSeq Locus Tag\"]\n",
        "proteins_to_remove = proteins_to_remove_df.iloc[:, 0]  #first column contains the protein IDs to remove\n",
        "\n",
        "# Filter out known interacting proteins\n",
        "filtered_proteins = all_proteins[~all_proteins.isin(proteins_to_remove)]\n",
        "\n",
        "# Save the filtered list\n",
        "filtered_proteins.to_csv(file_path + \"/fransicellafiltered_protein_list.csv\", index=False)\n",
        "\n",
        "print(\"Filtered protein list saved to 'fransicellafiltered_protein_list.csv'\")"
      ],
      "metadata": {
        "colab": {
          "base_uri": "https://localhost:8080/"
        },
        "id": "cf_CDfoS7OT4",
        "outputId": "93f23abf-f0cc-41fe-9b16-e9e9d67cf9a8"
      },
      "execution_count": null,
      "outputs": [
        {
          "output_type": "stream",
          "name": "stdout",
          "text": [
            "Filtered protein list saved to 'fransicellafiltered_protein_list.csv'\n"
          ]
        }
      ]
    },
    {
      "cell_type": "code",
      "source": [
        "import pandas as pd\n",
        "from Bio import SeqIO\n",
        "import re\n",
        "\n",
        "# Step 1: Load the protein list from the CSV file\n",
        "protein_csv = file_path + \"/fransicellafiltered_protein_list.csv\"  # Replace with your CSV file\n",
        "protein_df = pd.read_csv(protein_csv)\n",
        "protein_ids = protein_df[\"RefSeq Locus Tag\"].tolist()  # Extract the column with the protein names\n",
        "\n",
        "# Step 2: Parse the FASTA file and create a dictionary of sequences by protein ID\n",
        "fasta_file = file_path + \"/FranciselllaF10000.fasta\"  # Replace with your FASTA file\n",
        "fasta_dict = {}\n",
        "\n",
        "# Extract the ID and sequence\n",
        "for record in SeqIO.parse(fasta_file, \"fasta\"):\n",
        "    header_parts = record.description.split(\"|\")\n",
        "    if len(header_parts) > 2:\n",
        "        protein_id = header_parts[2].strip()  # Extract names of the proteins\n",
        "        fasta_dict[protein_id] = str(record.seq)\n",
        "\n",
        "# Step 3: Match protein IDs with sequences\n",
        "matched_data = []\n",
        "for protein_id in protein_ids:\n",
        "    sequence = fasta_dict.get(protein_id, None)  # Get sequence or None if not found\n",
        "    if sequence:  # Only include matched proteins\n",
        "        matched_data.append({\"ProteinID\": protein_id, \"Sequence\": sequence})\n",
        "\n",
        "# Step 4: Save only matched proteins to a new CSV\n",
        "matched_df = pd.DataFrame(matched_data)\n",
        "matched_df.to_csv(file_path + \"/NegFrancisellaMatched.csv\", index=False)\n",
        "\n",
        "print(f\"Matching completed! {len(matched_df)} matched proteins saved to 'NegFrancisellaMatched.csv'.\")\n"
      ],
      "metadata": {
        "colab": {
          "base_uri": "https://localhost:8080/"
        },
        "id": "pp3iq2CeFDYJ",
        "outputId": "b8b97aef-8173-4b9f-df01-f6c1879b0f95"
      },
      "execution_count": null,
      "outputs": [
        {
          "output_type": "stream",
          "name": "stdout",
          "text": [
            "Matching completed! 6126 matched proteins saved to 'NegFrancisellaMatched.csv'.\n"
          ]
        }
      ]
    },
    {
      "cell_type": "code",
      "source": [
        "# Step 5: Check for unmatched proteins\n",
        "unmatched = matched_df[matched_df['Sequence'].isnull()]\n",
        "num_unmatched = len(unmatched)\n",
        "num_total = len(matched_df)\n",
        "\n",
        "\n",
        "print(f\"Total proteins: {num_total}\")\n",
        "print(f\"Matched: {num_total - num_unmatched}\")\n",
        "print(f\"Unmatched: {num_unmatched}\")"
      ],
      "metadata": {
        "colab": {
          "base_uri": "https://localhost:8080/"
        },
        "id": "sgNfnjtvAaUE",
        "outputId": "376f5e9c-5352-418d-9415-695e576095ec"
      },
      "execution_count": null,
      "outputs": [
        {
          "output_type": "stream",
          "name": "stdout",
          "text": [
            "Total proteins: 6126\n",
            "Matched: 6126\n",
            "Unmatched: 0\n"
          ]
        }
      ]
    },
    {
      "cell_type": "markdown",
      "source": [
        "##Negative Yersinia Data Matching"
      ],
      "metadata": {
        "id": "vq21Y0GF7PTL"
      }
    },
    {
      "cell_type": "code",
      "source": [
        "#Extract pathogen protein IDs and select unique proteins\n",
        "file_path = '/content/my_drive/My Drive/HPI'\n",
        "# Load the interaction data\n",
        "df = pd.read_csv(file_path + \"/host_yersinia_pairs.csv\")\n",
        "\n",
        "# Extract pathogen protein IDs\n",
        "pathogen_ids = df[\"Pathogen Protein\"].dropna()\n",
        "\n",
        "# Get unique pathogen protein IDs\n",
        "unique_pathogen_ids = pathogen_ids.unique()\n",
        "\n",
        "# Convert to a list\n",
        "unique_pathogen_ids = list(unique_pathogen_ids)\n",
        "\n",
        "#Save to csv\n",
        "unique_pathogen_ids_df = pd.DataFrame(unique_pathogen_ids, columns=[\"Unique Pathogen ID\"])\n",
        "unique_pathogen_ids_df.to_csv(file_path + \"/yersiniaunique_ids.csv\", index=False)\n",
        "\n",
        "# Display result\n",
        "print(f\"Unique Ids saved\")\n"
      ],
      "metadata": {
        "colab": {
          "base_uri": "https://localhost:8080/"
        },
        "id": "sqQOJ7q47U7d",
        "outputId": "3d2f4875-688e-499b-b2b8-7a7bb1fc0e1b"
      },
      "execution_count": null,
      "outputs": [
        {
          "output_type": "stream",
          "name": "stdout",
          "text": [
            "Unique Ids saved\n"
          ]
        }
      ]
    },
    {
      "cell_type": "code",
      "source": [
        "# Load the files\n",
        "yersinia_proteins = file_path + \"/Yersiniaallproteins.csv\"  # File containing all proteins\n",
        "unique_proteins = file_path + \"/yersiniaunique_ids.csv\"  # File with proteins to remove (known interactors)\n",
        "\n",
        "# Read data\n",
        "protein_list_df = pd.read_csv(yersinia_proteins)\n",
        "proteins_to_remove_df = pd.read_csv(unique_proteins)\n",
        "\n",
        "# Extract the column with protein IDs\n",
        "all_proteins = protein_list_df[\"RefSeq Locus Tag\"]\n",
        "proteins_to_remove = proteins_to_remove_df.iloc[:, 0]  #first column contains the protein IDs to remove\n",
        "\n",
        "# Filter out known interacting proteins\n",
        "filtered_proteins = all_proteins[~all_proteins.isin(proteins_to_remove)]\n",
        "\n",
        "# Save the filtered list\n",
        "filtered_proteins.to_csv(file_path + \"/yersiniafiltered_protein_list.csv\", index=False)\n",
        "\n",
        "print(\"Filtered protein list saved to 'yersiniafiltered_protein_list.csv'\")"
      ],
      "metadata": {
        "colab": {
          "base_uri": "https://localhost:8080/"
        },
        "id": "bfLdkMSg7Usy",
        "outputId": "4f1e15e9-f1e1-4236-d1b7-736ca1bf4c20"
      },
      "execution_count": null,
      "outputs": [
        {
          "output_type": "stream",
          "name": "stdout",
          "text": [
            "Filtered protein list saved to 'yersiniafiltered_protein_list.csv'\n"
          ]
        }
      ]
    },
    {
      "cell_type": "code",
      "source": [
        "# Step 1: Load the protein list from the CSV file\n",
        "protein_csv = file_path + \"/yersiniafiltered_protein_list.csv\"  # Replace with your CSV file\n",
        "protein_df = pd.read_csv(protein_csv)\n",
        "protein_ids = protein_df[\"RefSeq Locus Tag\"].tolist()  # Extract the column with the protein names\n",
        "\n",
        "# Step 2: Parse the FASTA file and create a dictionary of sequences by pro-tein ID\n",
        "fasta_file = file_path + \"/YERSINIA.fasta\"  # Replace with your FASTA file-protein sequence of the organism\n",
        "fasta_dict = {}\n",
        "\n",
        "# Extract the ID and sequence\n",
        "for record in SeqIO.parse(fasta_file, \"fasta\"):\n",
        "    # Split the header by \"|\"\n",
        "    header_parts = record.description.split(\"|\")\n",
        "    if len(header_parts) > 2:\n",
        "        protein_id = header_parts[2].strip()  # Extract names of the proteins\n",
        "        fasta_dict[protein_id] = str(record.seq)\n",
        "\n",
        "# Step 3: Match protein IDs with sequences\n",
        "matched_data = []\n",
        "for protein_id in protein_ids:\n",
        "    sequence = fasta_dict.get(protein_id, None)  # Get sequence or None if not found\n",
        "    if sequence:  # Only include matched proteins\n",
        "        matched_data.append({\"ProteinID\": protein_id, \"Sequence\": sequence})\n",
        "\n",
        "\n",
        "# Step 4: Save the matched data to a new CSV\n",
        "matched_df = pd.DataFrame(matched_data)\n",
        "matched_df.to_csv(file_path + \"/NegyersiniaMatched.csv\", index=False)\n",
        "\n",
        "print(f\"Matching completed! {len(matched_df)} Results saved to 'NegyersiniaMatched.csv'.\")\n"
      ],
      "metadata": {
        "colab": {
          "base_uri": "https://localhost:8080/"
        },
        "id": "9KFkmFWt7UWb",
        "outputId": "acb7098e-6c11-418c-c1d5-2f45f70e6d28"
      },
      "execution_count": null,
      "outputs": [
        {
          "output_type": "stream",
          "name": "stdout",
          "text": [
            "Matching completed! 2952 Results saved to 'NegyersiniaMatched.csv'.\n"
          ]
        }
      ]
    },
    {
      "cell_type": "markdown",
      "source": [
        "**HOST PROTEINS**\n",
        "\n",
        "  Download reviewed Human proteins and their FASTA sequences from the UniProt database https://www.uniprot.org/uniprotkb?query=Human&facets=reviewed%3Atrue."
      ],
      "metadata": {
        "id": "z40uNOwmnIqV"
      }
    },
    {
      "cell_type": "markdown",
      "source": [
        "**Generating Negative Pool**\n",
        "\n",
        "To computationally build the negative dataset, we will randomly pair bacteria proteins not involved in known interactions with human proteins. For each specie, we will generate a pool of potential negative interation pairs:\n",
        "* 3000 pairs for *Bacillus anthracis*\n",
        "* 3000 pairs for *Escherichia coli*\n",
        "* 6000 pairs for *Francisella tularensis* and,\n",
        "* 9000 pairs for *Yersinia pestis*\n",
        "\n",
        "Next, from each pool, we will randomly select the same number of pairs in the positive interactions for that specie to ensure a balanced dataset. The selected negative pairs should match the counts below:\n",
        "* 649 for *Bacillus anthracis*\n",
        "* 62 for *Escherichia coli*\n",
        "* 1199 for *Francisella tularensis*\n",
        "* 2549 for *Yersinia pestis*\n",
        "\n"
      ],
      "metadata": {
        "id": "G420Jsj4nzI7"
      }
    },
    {
      "cell_type": "markdown",
      "source": [
        "##Negative Data Pool"
      ],
      "metadata": {
        "id": "g9q55k7W9Xhz"
      }
    },
    {
      "cell_type": "markdown",
      "source": [
        "###Bacillus Negative data pool"
      ],
      "metadata": {
        "id": "leuqB7VOGXzg"
      }
    },
    {
      "cell_type": "code",
      "source": [
        "#Randomly pair human proteins with bacteria proteins\n",
        "\n",
        "# Step 1: Load the host and pathogen protein data\n",
        "host_file = file_path + \"/HumanProteinList.xlsx\"  # Replace with your host protein file\n",
        "pathogen_file = file_path + \"/NegBacillusMatched.csv\"  # Replace with your pathogen protein file\n",
        "\n",
        "# Read the data\n",
        "host_df = pd.read_excel(host_file)\n",
        "pathogen_df = pd.read_csv(pathogen_file)\n",
        "\n",
        "# Step 2: Randomly sample 3000 proteins from each file\n",
        "host_sample = host_df.sample(n=3000, random_state=42)  # Random state for reproducibility\n",
        "pathogen_sample = pathogen_df.sample(n=3000, random_state=42)\n",
        "\n",
        "# Step 3: Pair the proteins\n",
        "paired_data = pd.DataFrame({\n",
        "    \"Host Protein\": host_sample[\"Entry\"].values,       # Replace \"Protein_Name\" with the actual column name for host protein names\n",
        "    \"Host Sequence\": host_sample[\"Sequence\"].values,      # Replace \"Sequence\" with the actual column name for host protein sequences\n",
        "    \"Pathogen Protein\": pathogen_sample[\"ProteinID\"].values,  # Replace \"Protein_Name\" with the actual column name for pathogen protein names\n",
        "    \"Pathogen Sequence\": pathogen_sample[\"Sequence\"].values   # Replace \"Sequence\" with the actual column name for pathogen protein sequences\n",
        "})\n",
        "\n",
        "# Step 4: Save the paired data to a new CSV file\n",
        "paired_data.to_csv(file_path + \"/BacillusNegativePool.csv\", index=False)\n",
        "\n",
        "print(\"Random pairing completed! Results saved to 'BacillusNegativePool.csv'.\")\n",
        "\n"
      ],
      "metadata": {
        "colab": {
          "base_uri": "https://localhost:8080/"
        },
        "id": "kLbxsd6BtqE4",
        "outputId": "cc918c85-3e6e-48bb-fd14-ae2756a12c08"
      },
      "execution_count": null,
      "outputs": [
        {
          "output_type": "stream",
          "name": "stderr",
          "text": [
            "/usr/local/lib/python3.11/dist-packages/openpyxl/styles/stylesheet.py:237: UserWarning: Workbook contains no default style, apply openpyxl's default\n",
            "  warn(\"Workbook contains no default style, apply openpyxl's default\")\n"
          ]
        },
        {
          "output_type": "stream",
          "name": "stdout",
          "text": [
            "Random pairing completed! Results saved to 'BacillusNegativePool.csv'.\n"
          ]
        }
      ]
    },
    {
      "cell_type": "markdown",
      "source": [
        "###Ecoli Negative Data Pool"
      ],
      "metadata": {
        "id": "oVGdmu7rH28J"
      }
    },
    {
      "cell_type": "code",
      "source": [
        "#Randomly pair human proteins with bacteria proteins\n",
        "\n",
        "# Step 1: Load the host and pathogen protein data\n",
        "host_file = file_path + \"/HumanProteinList.xlsx\"  # Replace with your host protein file\n",
        "pathogen_file = file_path + \"/NegEcoliMatched.csv\"  # Replace with your pathogen protein file\n",
        "\n",
        "# Read the data\n",
        "host_df = pd.read_excel(host_file)\n",
        "pathogen_df = pd.read_csv(pathogen_file)\n",
        "\n",
        "# Step 2: Randomly sample 3000 proteins from each file\n",
        "host_sample = host_df.sample(n=3000, random_state=42)  # Random state for reproducibility\n",
        "pathogen_sample = pathogen_df.sample(n=3000, random_state=42)\n",
        "\n",
        "# Step 3: Pair the proteins\n",
        "paired_data = pd.DataFrame({\n",
        "    \"Host Protein\": host_sample[\"Entry\"].values,\n",
        "    \"Host Sequence\": host_sample[\"Sequence\"].values,\n",
        "    \"Pathogen Protein\": pathogen_sample[\"ProteinID\"].values,\n",
        "    \"Pathogen Sequence\": pathogen_sample[\"Sequence\"].values\n",
        "})\n",
        "\n",
        "# Step 4: Save the paired data to a new CSV file\n",
        "paired_data.to_csv(file_path + \"/EcoliNegativePool.csv\", index=False)\n",
        "\n",
        "print(\"Random pairing completed! Results saved to 'EcoliNegativePool.csv'.\")\n"
      ],
      "metadata": {
        "colab": {
          "base_uri": "https://localhost:8080/"
        },
        "id": "TgPfsBLAIAD1",
        "outputId": "8076b1c4-c54e-4429-b83e-f5ff9e3988c7"
      },
      "execution_count": null,
      "outputs": [
        {
          "output_type": "stream",
          "name": "stderr",
          "text": [
            "/usr/local/lib/python3.11/dist-packages/openpyxl/styles/stylesheet.py:237: UserWarning: Workbook contains no default style, apply openpyxl's default\n",
            "  warn(\"Workbook contains no default style, apply openpyxl's default\")\n"
          ]
        },
        {
          "output_type": "stream",
          "name": "stdout",
          "text": [
            "Random pairing completed! Results saved to 'EcoliNegativePool.csv'.\n"
          ]
        }
      ]
    },
    {
      "cell_type": "markdown",
      "source": [
        "###Francisella Negative Data Pool"
      ],
      "metadata": {
        "id": "ZOirYoYTH_HO"
      }
    },
    {
      "cell_type": "code",
      "source": [
        "#Randomly pair human proteins with bacteria proteins\n",
        "\n",
        "# Step 1: Load the host and pathogen protein data\n",
        "host_file = file_path + \"/HumanProteinList.xlsx\"  # Replace with your host protein file\n",
        "pathogen_file = file_path + \"/NegFrancisellaMatched.csv\"  # Replace with your pathogen protein file\n",
        "\n",
        "# Read the data\n",
        "host_df = pd.read_excel(host_file)\n",
        "pathogen_df = pd.read_csv(pathogen_file)\n",
        "\n",
        "# Step 2: Randomly sample 6000 proteins from each file\n",
        "host_sample = host_df.sample(n=6000, random_state=42)  # Random state for reproducibility\n",
        "pathogen_sample = pathogen_df.sample(n=6000, random_state=42)\n",
        "\n",
        "# Step 3: Pair the proteins\n",
        "paired_data = pd.DataFrame({\n",
        "    \"Host Protein\": host_sample[\"Entry\"].values,\n",
        "    \"Host Sequence\": host_sample[\"Sequence\"].values,\n",
        "    \"Pathogen Protein\": pathogen_sample[\"ProteinID\"].values,\n",
        "    \"Pathogen Sequence\": pathogen_sample[\"Sequence\"].values\n",
        "})\n",
        "\n",
        "# Step 4: Save the paired data to a new CSV file\n",
        "paired_data.to_csv(file_path + \"/FrancisellaNegativePool.csv\", index=False)\n",
        "\n",
        "print(\"Random pairing completed! Results saved to 'FrancisellaNegativePool.csv'.\")\n"
      ],
      "metadata": {
        "colab": {
          "base_uri": "https://localhost:8080/"
        },
        "id": "LIhEsV_RH-yr",
        "outputId": "554d3639-bc3c-4c1d-d6f1-91355a223381"
      },
      "execution_count": null,
      "outputs": [
        {
          "output_type": "stream",
          "name": "stderr",
          "text": [
            "/usr/local/lib/python3.11/dist-packages/openpyxl/styles/stylesheet.py:237: UserWarning: Workbook contains no default style, apply openpyxl's default\n",
            "  warn(\"Workbook contains no default style, apply openpyxl's default\")\n"
          ]
        },
        {
          "output_type": "stream",
          "name": "stdout",
          "text": [
            "Random pairing completed! Results saved to 'FrancisellaNegativePool.csv'.\n"
          ]
        }
      ]
    },
    {
      "cell_type": "markdown",
      "source": [
        "###Yersinia Negative Data Pool"
      ],
      "metadata": {
        "id": "EDythvCvJj9A"
      }
    },
    {
      "cell_type": "code",
      "source": [
        "#Randomly pair human proteins with bacteria proteins\n",
        "\n",
        "# Step 1: Load the host and pathogen protein data\n",
        "host_file = file_path + \"/HumanProteinList.xlsx\"  # Replace with your host protein file\n",
        "pathogen_file = file_path + \"/NegyersiniaMatched.csv\"  # Replace with your pathogen protein file\n",
        "\n",
        "# Read the data\n",
        "host_df = pd.read_excel(host_file)\n",
        "pathogen_df = pd.read_csv(pathogen_file)\n",
        "\n",
        "# Step 2: Randomly sample 8000 proteins from each file\n",
        "host_sample = host_df.sample(n=8000, random_state=42)  # Random state for reproducibility\n",
        "pathogen_sample = pathogen_df.sample(n=8000, replace= True, random_state=42)\n",
        "\n",
        "# Step 3: Pair the proteins\n",
        "paired_data = pd.DataFrame({\n",
        "    \"Host Protein\": host_sample[\"Entry\"].values,\n",
        "    \"Host Sequence\": host_sample[\"Sequence\"].values,\n",
        "    \"Pathogen Protein\": pathogen_sample[\"ProteinID\"].values,\n",
        "    \"Pathogen Sequence\": pathogen_sample[\"Sequence\"].values\n",
        "})\n",
        "\n",
        "# Step 4: Save the paired data to a new CSV file\n",
        "paired_data.to_csv(file_path + \"/YersiniaNegativePool.csv\", index=False)\n",
        "\n",
        "print(\"Random pairing completed! Results saved to 'YersiniaNegativePool.csv'.\")\n"
      ],
      "metadata": {
        "colab": {
          "base_uri": "https://localhost:8080/"
        },
        "id": "xWQAcH04JpS1",
        "outputId": "1a0ba485-3965-48c8-b981-790101091730"
      },
      "execution_count": null,
      "outputs": [
        {
          "output_type": "stream",
          "name": "stderr",
          "text": [
            "/usr/local/lib/python3.11/dist-packages/openpyxl/styles/stylesheet.py:237: UserWarning: Workbook contains no default style, apply openpyxl's default\n",
            "  warn(\"Workbook contains no default style, apply openpyxl's default\")\n"
          ]
        },
        {
          "output_type": "stream",
          "name": "stdout",
          "text": [
            "Random pairing completed! Results saved to 'YersiniaNegativePool.csv'.\n"
          ]
        }
      ]
    },
    {
      "cell_type": "code",
      "source": [
        "len(pathogen_df)"
      ],
      "metadata": {
        "colab": {
          "base_uri": "https://localhost:8080/"
        },
        "id": "OIjbXhKrKa_V",
        "outputId": "e4a25dc2-1b00-4310-d5af-66a64b2b5632"
      },
      "execution_count": null,
      "outputs": [
        {
          "output_type": "execute_result",
          "data": {
            "text/plain": [
              "8875"
            ]
          },
          "metadata": {},
          "execution_count": 18
        }
      ]
    },
    {
      "cell_type": "markdown",
      "source": [
        "**At the end pf this notebook you will now have both your positive data for each bacteria and negative data pool for each bacteria.**\n",
        "\n",
        "\n",
        "**Now that we have successfully retrieved and prepared the dataset, we can now proceed to the next step, which is data preprocessing. This will be done in the next notebook.**"
      ],
      "metadata": {
        "id": "5Q2QivRhUK08"
      }
    }
  ]
}